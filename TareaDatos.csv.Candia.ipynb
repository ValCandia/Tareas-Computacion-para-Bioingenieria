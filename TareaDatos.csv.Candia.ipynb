{
 "cells": [
  {
   "cell_type": "code",
   "execution_count": 5,
   "id": "53b08874",
   "metadata": {},
   "outputs": [],
   "source": [
    "import csv\n",
    "\n",
    "# 1. Leer el archivo CSV\n",
    "def leer_csv(archivo):\n",
    "    datos = []\n",
    "    with open(archivo, mode='r', encoding='utf-8') as file:\n",
    "        lector = csv.reader(file)\n",
    "        encabezados = next(lector)  # Leer encabezados\n",
    "        for fila in lector:\n",
    "            datos.append(fila)\n",
    "    return encabezados, datos\n",
    "\n",
    "encabezados, datos = leer_csv('diabetes.csv')\n"
   ]
  },
  {
   "cell_type": "code",
   "execution_count": 6,
   "id": "fe265cae",
   "metadata": {},
   "outputs": [
    {
     "name": "stdout",
     "output_type": "stream",
     "text": [
      "\n",
      "2. El dataset tiene 768 filas y 9 columnas\n",
      "   Encabezados: ['Pregnancies', 'Glucose', 'BloodPressure', 'SkinThickness', 'Insulin', 'BMI', 'DiabetesPedigreeFunction', 'Age', 'Outcome']\n"
     ]
    }
   ],
   "source": [
    "# 2. Contar filas y columnas\n",
    "def contar_filas_columnas(datos, encabezados):\n",
    "    num_filas = len(datos)\n",
    "    num_columnas = len(encabezados)\n",
    "    return num_filas, num_columnas\n",
    "\n",
    "num_filas, num_columnas = contar_filas_columnas(datos, encabezados)\n",
    "print(f\"\\n2. El dataset tiene {num_filas} filas y {num_columnas} columnas\")\n",
    "print(\"   Encabezados:\", encabezados)"
   ]
  },
  {
   "cell_type": "code",
   "execution_count": 7,
   "id": "d593871a",
   "metadata": {},
   "outputs": [
    {
     "name": "stdout",
     "output_type": "stream",
     "text": [
      "\n",
      "3. Primeros 5 registros:\n",
      "['Pregnancies', 'Glucose', 'BloodPressure', 'SkinThickness', 'Insulin', 'BMI', 'DiabetesPedigreeFunction', 'Age', 'Outcome']\n",
      "['6', '148', '72', '35', '0', '33.6', '0.627', '50', '1']\n",
      "['1', '85', '66', '29', '0', '26.6', '0.351', '31', '0']\n",
      "['8', '183', '64', '0', '0', '23.3', '0.672', '32', '1']\n",
      "['1', '89', '66', '23', '94', '28.1', '0.167', '21', '0']\n",
      "['0', '137', '40', '35', '168', '43.1', '2.288', '33', '1']\n"
     ]
    }
   ],
   "source": [
    "# 3. Imprimir primeros 5 registros\n",
    "print(\"\\n3. Primeros 5 registros:\")\n",
    "print(encabezados)\n",
    "for i in range(5):\n",
    "    print(datos[i])"
   ]
  },
  {
   "cell_type": "code",
   "execution_count": 8,
   "id": "f3b03399",
   "metadata": {},
   "outputs": [
    {
     "name": "stdout",
     "output_type": "stream",
     "text": [
      "\n",
      "4. Valores únicos en la columna 'Outcome': {'0', '1'}\n"
     ]
    }
   ],
   "source": [
    "# 4. Valores únicos en la columna 'Outcome' (columna 8)\n",
    "col_outcome = 8\n",
    "valores_unicos = set(fila[col_outcome] for fila in datos)\n",
    "print(f\"\\n4. Valores únicos en la columna 'Outcome': {valores_unicos}\")"
   ]
  },
  {
   "cell_type": "code",
   "execution_count": 9,
   "id": "e2042981",
   "metadata": {},
   "outputs": [
    {
     "name": "stdout",
     "output_type": "stream",
     "text": [
      "\n",
      "5. Media de glucosa: 120.89 mg/dL\n"
     ]
    }
   ],
   "source": [
    "# 5. Calcular la media de la columna 'Glucose' (columna 1)\n",
    "col_glucosa = 1\n",
    "suma = 0\n",
    "valores_validos = 0\n",
    "\n",
    "for fila in datos:\n",
    "    try:\n",
    "        valor = float(fila[col_glucosa])\n",
    "        suma += valor\n",
    "        valores_validos += 1\n",
    "    except ValueError:\n",
    "        continue\n",
    "\n",
    "media_glucosa = suma / valores_validos if valores_validos > 0 else 0\n",
    "print(f\"\\n5. Media de glucosa: {media_glucosa:.2f} mg/dL\")\n"
   ]
  },
  {
   "cell_type": "code",
   "execution_count": 10,
   "id": "4be0e648",
   "metadata": {},
   "outputs": [
    {
     "name": "stdout",
     "output_type": "stream",
     "text": [
      "\n",
      "6. BMI - Máximo: 67.10, Mínimo: 0.00\n"
     ]
    }
   ],
   "source": [
    "# 6. Encontrar máximo y mínimo en la columna 'BMI' (columna 5)\n",
    "col_bmi = 5\n",
    "valores_bmi = []\n",
    "\n",
    "for fila in datos:\n",
    "    try:\n",
    "        valores_bmi.append(float(fila[col_bmi]))\n",
    "    except ValueError:\n",
    "        continue\n",
    "\n",
    "max_bmi = max(valores_bmi)\n",
    "min_bmi = min(valores_bmi)\n",
    "print(f\"\\n6. BMI - Máximo: {max_bmi:.2f}, Mínimo: {min_bmi:.2f}\")"
   ]
  },
  {
   "cell_type": "code",
   "execution_count": 11,
   "id": "f4bfeac8",
   "metadata": {},
   "outputs": [
    {
     "name": "stdout",
     "output_type": "stream",
     "text": [
      "\n",
      "7. Análisis sorprendente: Relación entre edad y diabetes\n",
      "   Edad promedio con diabetes: 37.1 años\n",
      "   Edad promedio sin diabetes: 31.2 años\n",
      "\n",
      "   Porcentaje de diabetes por grupo de edad:\n",
      "   <30: 21.2% (84/396)\n",
      "   30-40: 46.1% (76/165)\n",
      "   40-50: 55.1% (65/118)\n",
      "   50-60: 59.6% (34/57)\n",
      "   60+: 28.1% (9/32)\n",
      "\n",
      "Histograma de BMI (de 0.0 a 67.1):\n",
      "  [0.0-6.7): ## 11\n",
      "  [6.7-13.4):  0\n",
      "  [13.4-20.1): ## 15\n",
      "  [20.1-26.8): ############################# 156\n",
      "  [26.8-33.5): ################################################## 268\n",
      "  [33.5-40.3): ######################################### 224\n",
      "  [40.3-47.0): ############## 78\n",
      "  [47.0-53.7): ## 12\n",
      "  [53.7-60.4):  3\n",
      "  [60.4-67.1):  1\n"
     ]
    }
   ],
   "source": [
    "# 7. Distribución de edades y su relación con diabetes\n",
    "def distribucion_edad_diabetes(datos, col_edad=7, col_outcome=8):\n",
    "    edades_diabetes = []\n",
    "    edades_no_diabetes = []\n",
    "    \n",
    "    for fila in datos:\n",
    "        try:\n",
    "            edad = int(fila[col_edad])\n",
    "            if fila[col_outcome] == '1':\n",
    "                edades_diabetes.append(edad)\n",
    "            else:\n",
    "                edades_no_diabetes.append(edad)\n",
    "        except ValueError:\n",
    "            continue\n",
    "    \n",
    "    # Calcular promedios\n",
    "    prom_diabetes = sum(edades_diabetes)/len(edades_diabetes) if edades_diabetes else 0\n",
    "    prom_no_diabetes = sum(edades_no_diabetes)/len(edades_no_diabetes) if edades_no_diabetes else 0\n",
    "    \n",
    "    # Calcular porcentaje de diabetes por grupo de edad\n",
    "    grupos = {'<30': 0, '30-40': 0, '40-50': 0, '50-60': 0, '60+': 0}\n",
    "    total_por_grupo = {'<30': 0, '30-40': 0, '40-50': 0, '50-60': 0, '60+': 0}\n",
    "    \n",
    "    for edad, outcome in [(int(fila[col_edad]), fila[col_outcome]) for fila in datos if fila[col_edad].isdigit()]:\n",
    "        if edad < 30:\n",
    "            grupo = '<30'\n",
    "        elif 30 <= edad < 40:\n",
    "            grupo = '30-40'\n",
    "        elif 40 <= edad < 50:\n",
    "            grupo = '40-50'\n",
    "        elif 50 <= edad < 60:\n",
    "            grupo = '50-60'\n",
    "        else:\n",
    "            grupo = '60+'\n",
    "            \n",
    "        total_por_grupo[grupo] += 1\n",
    "        if outcome == '1':\n",
    "            grupos[grupo] += 1\n",
    "    \n",
    "    print(\"\\n7. Análisis sorprendente: Relación entre edad y diabetes\")\n",
    "    print(f\"   Edad promedio con diabetes: {prom_diabetes:.1f} años\")\n",
    "    print(f\"   Edad promedio sin diabetes: {prom_no_diabetes:.1f} años\")\n",
    "    print(\"\\n   Porcentaje de diabetes por grupo de edad:\")\n",
    "    for grupo in grupos:\n",
    "        total = total_por_grupo[grupo]\n",
    "        if total > 0:\n",
    "            porcentaje = (grupos[grupo] / total) * 100\n",
    "            print(f\"   {grupo}: {porcentaje:.1f}% ({grupos[grupo]}/{total})\")\n",
    "\n",
    "distribucion_edad_diabetes(datos)\n",
    "\n",
    "# Función adicional: Mostrar histograma ASCII de una columna\n",
    "def histograma_ascii(datos, col_idx, titulo, bins=10):\n",
    "    valores = []\n",
    "    for fila in datos:\n",
    "        try:\n",
    "            valores.append(float(fila[col_idx]))\n",
    "        except ValueError:\n",
    "            continue\n",
    "    \n",
    "    if not valores:\n",
    "        print(f\"No hay valores válidos para {titulo}\")\n",
    "        return\n",
    "    \n",
    "    min_val = min(valores)\n",
    "    max_val = max(valores)\n",
    "    rango = max_val - min_val\n",
    "    if rango == 0:\n",
    "        return\n",
    "    \n",
    "    # Crear bins\n",
    "    histograma = [0] * bins\n",
    "    for val in valores:\n",
    "        indice = min(int((val - min_val) / rango * bins), bins - 1)\n",
    "        histograma[indice] += 1\n",
    "    \n",
    "    max_freq = max(histograma)\n",
    "    if max_freq == 0:\n",
    "        return\n",
    "    \n",
    "    print(f\"\\nHistograma de {titulo} (de {min_val:.1f} a {max_val:.1f}):\")\n",
    "    for i in range(bins):\n",
    "        bin_start = min_val + (i * rango / bins)\n",
    "        bin_end = min_val + ((i + 1) * rango / bins)\n",
    "        bar_length = int(histograma[i] / max_freq * 50)\n",
    "        print(f\"  [{bin_start:.1f}-{bin_end:.1f}): {'#' * bar_length} {histograma[i]}\")\n",
    "\n",
    "# Mostrar histograma de BMI\n",
    "histograma_ascii(datos, 5, \"BMI\")"
   ]
  },
  {
   "cell_type": "code",
   "execution_count": null,
   "id": "a61cc50a",
   "metadata": {},
   "outputs": [],
   "source": []
  }
 ],
 "metadata": {
  "kernelspec": {
   "display_name": "Python 3",
   "language": "python",
   "name": "python3"
  },
  "language_info": {
   "codemirror_mode": {
    "name": "ipython",
    "version": 3
   },
   "file_extension": ".py",
   "mimetype": "text/x-python",
   "name": "python",
   "nbconvert_exporter": "python",
   "pygments_lexer": "ipython3",
   "version": "3.13.0"
  }
 },
 "nbformat": 4,
 "nbformat_minor": 5
}
