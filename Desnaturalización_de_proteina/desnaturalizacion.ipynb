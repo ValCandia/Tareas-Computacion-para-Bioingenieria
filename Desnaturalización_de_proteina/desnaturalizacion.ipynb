{
 "cells": [
  {
   "cell_type": "code",
   "execution_count": 32,
   "id": "2b5a617b",
   "metadata": {},
   "outputs": [
    {
     "name": "stdout",
     "output_type": "stream",
     "text": [
      "Creando sistema de caseína simplificado...\n",
      "Simulando desnaturalización por temperatura...\n",
      "Generando visualización...\n"
     ]
    },
    {
     "data": {
      "application/vnd.plotly.v1+json": {
       "config": {
        "plotlyServerURL": "https://plot.ly"
       },
       "data": [
        {
         "line": {
          "color": "blue",
          "width": 3
         },
         "marker": {
          "color": "blue",
          "size": 5
         },
         "mode": "lines+markers",
         "type": "scatter3d",
         "x": {
          "bdata": "AAAAwJ8ewD8AAACAjIHiPwAAAKCSzfA/AAAAoEZp+D8AAABghhH/PwAAAAC/FgNAAAAAIM3OBkAAAABAicUJQAAAAEApFw5AAAAAYJvPEEAAAACAhHsSQAAAAKCaZBRAAAAAwEEnFkAAAAAgVvwXQAAAACDTyRlAAAAAoFOoG0AAAACgzjwdQAAAAIAGPh9AAAAAIL+JIEAAAACgRmIhQA==",
          "dtype": "f8"
         },
         "y": {
          "bdata": "AAAAoB8QoD8AAADgrrGiPwAAACBXFp8/AAAAgACOpj8AAADgntSXPwAAAEDc85e/AAAAgDYdmr8AAAAA+sWGvwAAAID5zKE/AAAAgOxekb8AAADA9K2QvwAAAOCafZy/AAAAgALzn78AAABAktWDvwAAAKCxPJK/AAAAgGmBor8AAACA5kaVPwAAAABxk2e/AAAAYIJKqD8AAADAp+Savw==",
          "dtype": "f8"
         },
         "z": {
          "bdata": "AAAAgOGsmz8AAABArpp3PwAAAIDdvaO/AAAAAIiafr8AAABg88+VPwAAAECGx5e/AAAAgKgujz8AAAAANqOSvwAAAODXip4/AAAAYNwNm78AAADAMMGWvwAAAMALoXC/AAAA4Hdeh78AAABgcdJ1PwAAAKAHF7E/AAAAoFAinT8AAADAbeqrvwAAAMBQhKG/AAAAQBoLmD8AAACAP/+WPw==",
          "dtype": "f8"
         }
        }
       ],
       "frames": [
        {
         "data": [
          {
           "line": {
            "color": "blue",
            "width": 3
           },
           "marker": {
            "color": "blue",
            "size": 5
           },
           "mode": "lines+markers",
           "type": "scatter3d",
           "x": {
            "bdata": "AAAAwJ8ewD8AAACAjIHiPwAAAKCSzfA/AAAAoEZp+D8AAABghhH/PwAAAAC/FgNAAAAAIM3OBkAAAABAicUJQAAAAEApFw5AAAAAYJvPEEAAAACAhHsSQAAAAKCaZBRAAAAAwEEnFkAAAAAgVvwXQAAAACDTyRlAAAAAoFOoG0AAAACgzjwdQAAAAIAGPh9AAAAAIL+JIEAAAACgRmIhQA==",
            "dtype": "f8"
           },
           "y": {
            "bdata": "AAAAoB8QoD8AAADgrrGiPwAAACBXFp8/AAAAgACOpj8AAADgntSXPwAAAEDc85e/AAAAgDYdmr8AAAAA+sWGvwAAAID5zKE/AAAAgOxekb8AAADA9K2QvwAAAOCafZy/AAAAgALzn78AAABAktWDvwAAAKCxPJK/AAAAgGmBor8AAACA5kaVPwAAAABxk2e/AAAAYIJKqD8AAADAp+Savw==",
            "dtype": "f8"
           },
           "z": {
            "bdata": "AAAAgOGsmz8AAABArpp3PwAAAIDdvaO/AAAAAIiafr8AAABg88+VPwAAAECGx5e/AAAAgKgujz8AAAAANqOSvwAAAODXip4/AAAAYNwNm78AAADAMMGWvwAAAMALoXC/AAAA4Hdeh78AAABgcdJ1PwAAAKAHF7E/AAAAoFAinT8AAADAbeqrvwAAAMBQhKG/AAAAQBoLmD8AAACAP/+WPw==",
            "dtype": "f8"
           }
          }
         ],
         "name": "Frame 0"
        },
        {
         "data": [
          {
           "line": {
            "color": "blue",
            "width": 3
           },
           "marker": {
            "color": "blue",
            "size": 5
           },
           "mode": "lines+markers",
           "type": "scatter3d",
           "x": {
            "bdata": "AAAAgM8Twz8AAABg1l3hPwAAAGCEt/A/AAAAYHng9z8AAAAgkcv+PwAAAECWiANAAAAAwNrDBkAAAABgl2sJQAAAAOCciQ1AAAAAIKS8EEAAAABgBk0SQAAAACAkUBRAAAAAQEtIFkAAAACAuhUYQAAAACAIyhlAAAAAwJ1RG0AAAADgAAUdQAAAAOAmOR9AAAAAAPGTIEAAAADA8HQhQA==",
            "dtype": "f8"
           },
           "y": {
            "bdata": "AAAAwI9npj8AAABAcXOYPwAAACDctbs/AAAAgOhouj8AAACg+p6lPwAAAAC96K+/AAAAQG//ur8AAABgRoiSPwAAACCwo7E/AAAAADhBr78AAADAHp+zvwAAACDImrC/AAAAoPmruL8AAACgvhJqPwAAAEB9+4y/AAAAoI92pr8AAABgkANoPwAAAAAuVXo/AAAAoPuNtj8AAAAgKJKbPw==",
            "dtype": "f8"
           },
           "z": {
            "bdata": "AAAAwCSDvD8AAADAYYatvwAAAKAW0b2/AAAAoPkyqD8AAADAPsCMvwAAAIAGIKy/AAAAIAiCoD8AAABAMXkyPwAAACCIULM/AAAAYIiwvL8AAACgfIGtvwAAAKAiWZ4/AAAAoHFdgr8AAAAgJhGXPwAAAOAaZbk/AAAAYMgxsD8AAADAaZyrvwAAAGCwJ58/AAAAgJ12pT8AAACgoJWnPw==",
            "dtype": "f8"
           }
          }
         ],
         "name": "Frame 1"
        },
        {
         "data": [
          {
           "line": {
            "color": "blue",
            "width": 3
           },
           "marker": {
            "color": "blue",
            "size": 5
           },
           "mode": "lines+markers",
           "type": "scatter3d",
           "x": {
            "bdata": "AAAAADCLvj8AAADgHTbjPwAAAGDG7O8/AAAAgPMJ9z8AAAAAhin/PwAAAOBPkQNAAAAA4LY/BkAAAAAgFvgIQAAAAGCS3QxAAAAAoHV3EEAAAAAg+DASQAAAAIDAKBRAAAAAgKeQFkAAAAAARKcXQAAAAECP7BlAAAAAwMpoG0AAAAAA3BkdQAAAACD8SB9AAAAAYIt1IEAAAADghIQhQA==",
            "dtype": "f8"
           },
           "y": {
            "bdata": "AAAAQN9Gmj8AAAAgydiYvwAAAIB01MA/AAAA4FZVqT8AAADgZJajPwAAAKAN1MG/AAAAwEj1dz8AAADAvmyxPwAAAMANvJa/AAAAYAYHmL8AAADg4PzCvwAAAEBh38C/AAAAgKHpvb8AAACA1lilvwAAAECwiIc/AAAAIJBHsL8AAADAvCWjPwAAAOBrCMA/AAAAAPw/uj8AAADAzavAPw==",
            "dtype": "f8"
           },
           "z": {
            "bdata": "AAAAYPMos78AAACAmY3BvwAAAMAxg7m/AAAAQMwii78AAACgSRO1vwAAAMDTrJy/AAAA4NGCkj8AAACAcp6aPwAAAGCDpqc/AAAAwFE8xr8AAADgFvGqvwAAAOCZw3u/AAAAoM2aMT8AAAAgziCkPwAAAAAvwbU/AAAAQIFHmD8AAABgtBagPwAAACBXCcI/AAAA4J0rtD8AAADAddibPw==",
            "dtype": "f8"
           }
          }
         ],
         "name": "Frame 2"
        },
        {
         "data": [
          {
           "line": {
            "color": "blue",
            "width": 3
           },
           "marker": {
            "color": "blue",
            "size": 5
           },
           "mode": "lines+markers",
           "type": "scatter3d",
           "x": {
            "bdata": "AAAA4BvRwT8AAABA5GfiPwAAAMBhKPA/AAAAwIOm9j8AAACgSIn+PwAAAOBMHwRAAAAAoKj7BUAAAABA6YEIQAAAAKCKuQxAAAAAILm4D0AAAAAgXRISQAAAACCbgBRAAAAAIDxkFkAAAACAVN4XQAAAAOAq7BlAAAAAYLtRG0AAAABAbjcdQAAAAKCkIh9AAAAAAJJ9IEAAAADgiWshQA==",
            "dtype": "f8"
           },
           "y": {
            "bdata": "AAAAgE3PkD8AAABAYl6kvwAAAECZZsQ/AAAAYH6rvz8AAADgCYCsvwAAAGBOZq+/AAAAoMoavz8AAAAAZNKiPwAAAEARILu/AAAAACkCtD8AAAAAfwK3vwAAAABFNMO/AAAAIKdywL8AAABAfIW0vwAAAMDRXHc/AAAAoEn9vr8AAADgqJKuPwAAAOClisc/AAAAIBkDxD8AAABAjYTGPw==",
            "dtype": "f8"
           },
           "z": {
            "bdata": "AAAAYMDK0L8AAADgDBzQvwAAACDqz7u/AAAAIE/5o78AAAAgrWrEvwAAAKCo25U/AAAAYARJgb8AAAAAYWLFPwAAAKCx+LY/AAAAIE5dsr8AAADAIPG1vwAAAICmibS/AAAAINbRh78AAACgFou5PwAAAACVSrU/AAAAAI4gk78AAACA0cqRvwAAAKDEacY/AAAAoIwvvD8AAADALhWhvw==",
            "dtype": "f8"
           }
          }
         ],
         "name": "Frame 3"
        },
        {
         "data": [
          {
           "line": {
            "color": "blue",
            "width": 3
           },
           "marker": {
            "color": "blue",
            "size": 5
           },
           "mode": "lines+markers",
           "type": "scatter3d",
           "x": {
            "bdata": "AAAAYItb1j8AAAAgQCvlPwAAACApOe8/AAAAwNNU9z8AAADAxab+PwAAAKDmaANAAAAA4GChBUAAAADgqqEIQAAAAIDcKgxAAAAAgJrRDkAAAABgZz4SQAAAAAARnhRAAAAAAHmcFUAAAADgEPQXQAAAACBWzRlAAAAA4PJoG0AAAACguIcdQAAAAGAIXB9AAAAAgFyVIEAAAABAqz4hQA==",
            "dtype": "f8"
           },
           "y": {
            "bdata": "AAAAwPR9vT8AAACANfCDPwAAAKCUvs4/AAAAQBbxuj8AAAAgO4+1vwAAACD5ApG/AAAAIHlqyj8AAACAyZiPPwAAAOCiz8G/AAAAQEuDpT8AAACgy1+gPwAAAAANz8W/AAAA4Jq3rr8AAADAuRekvwAAAGDl4oU/AAAAoDnGt78AAACgZKK1PwAAAIBRjso/AAAAwAlQyD8AAACAAqzTPw==",
            "dtype": "f8"
           },
           "z": {
            "bdata": "AAAAILlHy78AAABA+JXSvwAAAMChv7a/AAAAgIA7tr8AAAAAooDHvwAAAMCgHaA/AAAAIG8Dwb8AAADgucXVPwAAAICS/78/AAAAIJ3jrb8AAACAFiumvwAAAADy0rO/AAAAwBa+tz8AAACgtkHQPwAAAICd1bs/AAAAwBNTlr8AAACA0UWuPwAAACAFG8k/AAAAAEJJxz8AAABg1DCpvw==",
            "dtype": "f8"
           }
          }
         ],
         "name": "Frame 4"
        },
        {
         "data": [
          {
           "line": {
            "color": "blue",
            "width": 3
           },
           "marker": {
            "color": "blue",
            "size": 5
           },
           "mode": "lines+markers",
           "type": "scatter3d",
           "x": {
            "bdata": "AAAAIMei4D8AAABgtNjnPwAAACCxgfA/AAAAgK8y9z8AAADgLagAQAAAAED8TwNAAAAAINBcBUAAAAAgGHQIQAAAAEDsbwtAAAAAgL/6DkAAAABgRSQSQAAAAMDqVxRAAAAAIGvfFUAAAABAhSYYQAAAACCkYxlAAAAAYNiPG0AAAADgrLUdQAAAAECDHx9AAAAAwGVkIEAAAADgs9MgQA==",
            "dtype": "f8"
           },
           "y": {
            "bdata": "AAAAYARawT8AAADgeWSnvwAAAMBeIc4/AAAAYNzbpj8AAADAXvFtPwAAAIB2MX6/AAAA4NZQzD8AAAAg8TmCPwAAACB9lam/AAAAQM88s78AAAAA022ivwAAAOAP+MK/AAAAYCCkyr8AAAAghCWhvwAAAMDRErI/AAAAYPUlor8AAAAAtb6TPwAAAGBsItA/AAAAQJ3xyz8AAADgA27aPw==",
            "dtype": "f8"
           },
           "z": {
            "bdata": "AAAA4N5Gzb8AAADAjf/SvwAAAID0uZG/AAAAAFLTv78AAADAAXq7vwAAAMAkpcS/AAAAIPHLxL8AAACA5+/QPwAAAGAyX8A/AAAAAFX8sL8AAACAUm+wvwAAAOBldrK/AAAAwDh5uj8AAACgcPrUPwAAAADGBcg/AAAAIKPjoD8AAACg9iHIPwAAAMCy48Q/AAAA4P+lnD8AAAAg3Y+rPw==",
            "dtype": "f8"
           }
          }
         ],
         "name": "Frame 5"
        },
        {
         "data": [
          {
           "line": {
            "color": "blue",
            "width": 3
           },
           "marker": {
            "color": "blue",
            "size": 5
           },
           "mode": "lines+markers",
           "type": "scatter3d",
           "x": {
            "bdata": "AAAAQOuP4z8AAABgyQnkPwAAAEDsbvA/AAAAQPzK9z8AAAAAQQMBQAAAAKD+cgNAAAAAgOqjBkAAAACgjUkIQAAAACCzFwtAAAAAIGd0D0AAAAAgJK4RQAAAAGDJYhRAAAAA4DTfFkAAAACAgD0YQAAAAIAtjBlAAAAAwKfLG0AAAABAuuMdQAAAAIDSWx9AAAAAgLFIIEAAAAAAn10gQA==",
            "dtype": "f8"
           },
           "y": {
            "bdata": "AAAAIIDewT8AAABApKyZvwAAAIBoYsM/AAAAoHpdhj8AAADAz8qevwAAAODMuaC/AAAAYCQ0yz8AAAAgngS2PwAAAEDb1nw/AAAAAPhGn78AAACAy6e8vwAAAKApuaq/AAAAoMJq078AAABAOwqlvwAAAIAMWHE/AAAAYHufsb8AAAAAHW2KvwAAAACl8NQ/AAAAAK+O1D8AAADANDjePw==",
            "dtype": "f8"
           },
           "z": {
            "bdata": "AAAAQKOK0r8AAABgaBu9vwAAAAAsI6+/AAAAoBqzyr8AAABgwqGyvwAAAMAS18+/AAAAYAq9sr8AAACA9gXDPwAAAOA08bc/AAAAwBwHjD8AAACA5v2KPwAAAMDk3pW/AAAAwP1CtD8AAAAAjcXJPwAAAMAL8cA/AAAAwB5kor8AAACA/hbJPwAAAKB3Y74/AAAAYHDscr8AAADAfBDHPw==",
            "dtype": "f8"
           }
          }
         ],
         "name": "Frame 6"
        },
        {
         "data": [
          {
           "line": {
            "color": "blue",
            "width": 3
           },
           "marker": {
            "color": "blue",
            "size": 5
           },
           "mode": "lines+markers",
           "type": "scatter3d",
           "x": {
            "bdata": "AAAAgMoy6T8AAABgVWbmPwAAAOAKWvE/AAAAQDKA+j8AAABAZbkAQAAAAEDfKwNAAAAAwPmxBkAAAAAgWdAIQAAAAOD3MwtAAAAA4AtnD0AAAABgfLMRQAAAACCq2BNAAAAAYJWSFkAAAAAgi2MYQAAAAMCg2hlAAAAAIEysG0AAAADg6PgdQAAAAKCHOh9AAAAAwNJxIEAAAACg0S0gQA==",
            "dtype": "f8"
           },
           "y": {
            "bdata": "AAAAwAORuj8AAABgAT2fPwAAAMDc9rE/AAAAIL18kj8AAADAL0+ZPwAAAOA8Raw/AAAA4Ax8wT8AAACA4GGTPwAAAKAm16q/AAAAgF+9q78AAADgXuDCvwAAAABgCK6/AAAAoJQBwr8AAACA1TuSPwAAAICUY7I/AAAAAAUOwb8AAADgtcCmPwAAAKBBptQ/AAAAQOOy3z8AAABgnPvgPw==",
            "dtype": "f8"
           },
           "z": {
            "bdata": "AAAAQMnP2b8AAAAg2SCkvwAAAAB4s7K/AAAAQIzazL8AAABA+SjAvwAAAMDLZNK/AAAA4Ck7s78AAAAArMW2PwAAAOAnvrk/AAAAYAahoj8AAADggzSkPwAAAKBTB5k/AAAAoMrDsj8AAADA46mzPwAAAED/ZcM/AAAAoL/Poj8AAAAgLvrSPwAAAAAXMcA/AAAAoI0ppL8AAABgUiG+Pw==",
            "dtype": "f8"
           }
          }
         ],
         "name": "Frame 7"
        },
        {
         "data": [
          {
           "line": {
            "color": "blue",
            "width": 3
           },
           "marker": {
            "color": "blue",
            "size": 5
           },
           "mode": "lines+markers",
           "type": "scatter3d",
           "x": {
            "bdata": "AAAAoDmM8D8AAACgucrnPwAAACCCMfQ/AAAAYBT0+z8AAADgL7D/PwAAAEB6OANAAAAAoNWgBkAAAADAPvAIQAAAAGAVmAtAAAAA4Ey8D0AAAAAgIS8SQAAAAEAP2RNAAAAAAE/9FkAAAACgR1oYQAAAAADmshpAAAAAIJ6WG0AAAACgz8IdQAAAAKAJMh9AAAAAoHG6H0AAAABAuRsgQA==",
            "dtype": "f8"
           },
           "y": {
            "bdata": "AAAAYLELtT8AAABgOZKrvwAAAOBvW4i/AAAAgHnEr78AAABAqmvBPwAAACAtx7k/AAAAQCaCiT8AAACgTWO6vwAAACAWrKS/AAAAoNFdlb8AAAAAQAjGvwAAAECbf8K/AAAAIHLmrD8AAACgwEHPPwAAAOA6U7o/AAAAwMaxp78AAABA+St1vwAAAEBnENE/AAAAIOKW3j8AAADg9xzlPw==",
            "dtype": "f8"
           },
           "z": {
            "bdata": "AAAAQNYN478AAAAg1uWqPwAAAGAaoa+/AAAAIFHCyb8AAAAARp28vwAAAGDWAtC/AAAAwGRKur8AAADAUBOyvwAAAEDBxLs/AAAAQEChlr8AAADA+aakvwAAAECg6MA/AAAAwBmEuj8AAABAa8W2PwAAAGBWmMQ/AAAAgP7Fsj8AAADAT+XXPwAAAOAjx6o/AAAAwJwhtb8AAAAgWYWsvw==",
            "dtype": "f8"
           }
          }
         ],
         "name": "Frame 8"
        },
        {
         "data": [
          {
           "line": {
            "color": "blue",
            "width": 3
           },
           "marker": {
            "color": "blue",
            "size": 5
           },
           "mode": "lines+markers",
           "type": "scatter3d",
           "x": {
            "bdata": "AAAAwPPE8D8AAACAt97pPwAAAABm5vY/AAAAYB1D/D8AAABgMnj/PwAAAGC2HgNAAAAAINc9B0AAAAAAc68IQAAAAACH6ApAAAAAIL8DEEAAAADAGjsSQAAAAGCV9xNAAAAAgE2UFkAAAADAKEsYQAAAAOA2ehpAAAAAYO0VHEAAAADAC30dQAAAAEDUIx9AAAAA4OlJH0AAAACAuLwfQA==",
            "dtype": "f8"
           },
           "y": {
            "bdata": "AAAA4MQrxz8AAAAAAN3gPgAAAADhBJ2/AAAAwD5kx78AAABAs83LPwAAAOCercI/AAAAwIuZm78AAAAgDwC+vwAAAGB5PqM/AAAA4Gumtz8AAACgTdSmvwAAACDZMaK/AAAAwMxwwz8AAAAgXo/IPwAAACBI+q4/AAAA4E6jsr8AAADgxWCgvwAAAMADaME/AAAAQOfN5D8AAACgXaLiPw==",
            "dtype": "f8"
           },
           "z": {
            "bdata": "AAAAILSG3L8AAACAY/CqvwAAAKC0QLu/AAAA4GlZuL8AAABACu/IvwAAACBb89S/AAAAwFEorr8AAADg7eDPvwAAAKCaU7g/AAAAoIPRtD8AAADAycOzPwAAACDPUKU/AAAAQP+gtj8AAAAAvx6oPwAAAKD1KMM/AAAAgOxvwT8AAADgII7HPwAAAMAAya2/AAAAgAu2wL8AAAAgCHu8vw==",
            "dtype": "f8"
           }
          }
         ],
         "name": "Frame 9"
        }
       ],
       "layout": {
        "scene": {
         "aspectratio": {
          "x": 1,
          "y": 1,
          "z": 1
         },
         "xaxis": {
          "title": {
           "text": "X (nm)"
          }
         },
         "yaxis": {
          "title": {
           "text": "Y (nm)"
          }
         },
         "zaxis": {
          "title": {
           "text": "Z (nm)"
          }
         }
        },
        "template": {
         "data": {
          "bar": [
           {
            "error_x": {
             "color": "#2a3f5f"
            },
            "error_y": {
             "color": "#2a3f5f"
            },
            "marker": {
             "line": {
              "color": "#E5ECF6",
              "width": 0.5
             },
             "pattern": {
              "fillmode": "overlay",
              "size": 10,
              "solidity": 0.2
             }
            },
            "type": "bar"
           }
          ],
          "barpolar": [
           {
            "marker": {
             "line": {
              "color": "#E5ECF6",
              "width": 0.5
             },
             "pattern": {
              "fillmode": "overlay",
              "size": 10,
              "solidity": 0.2
             }
            },
            "type": "barpolar"
           }
          ],
          "carpet": [
           {
            "aaxis": {
             "endlinecolor": "#2a3f5f",
             "gridcolor": "white",
             "linecolor": "white",
             "minorgridcolor": "white",
             "startlinecolor": "#2a3f5f"
            },
            "baxis": {
             "endlinecolor": "#2a3f5f",
             "gridcolor": "white",
             "linecolor": "white",
             "minorgridcolor": "white",
             "startlinecolor": "#2a3f5f"
            },
            "type": "carpet"
           }
          ],
          "choropleth": [
           {
            "colorbar": {
             "outlinewidth": 0,
             "ticks": ""
            },
            "type": "choropleth"
           }
          ],
          "contour": [
           {
            "colorbar": {
             "outlinewidth": 0,
             "ticks": ""
            },
            "colorscale": [
             [
              0,
              "#0d0887"
             ],
             [
              0.1111111111111111,
              "#46039f"
             ],
             [
              0.2222222222222222,
              "#7201a8"
             ],
             [
              0.3333333333333333,
              "#9c179e"
             ],
             [
              0.4444444444444444,
              "#bd3786"
             ],
             [
              0.5555555555555556,
              "#d8576b"
             ],
             [
              0.6666666666666666,
              "#ed7953"
             ],
             [
              0.7777777777777778,
              "#fb9f3a"
             ],
             [
              0.8888888888888888,
              "#fdca26"
             ],
             [
              1,
              "#f0f921"
             ]
            ],
            "type": "contour"
           }
          ],
          "contourcarpet": [
           {
            "colorbar": {
             "outlinewidth": 0,
             "ticks": ""
            },
            "type": "contourcarpet"
           }
          ],
          "heatmap": [
           {
            "colorbar": {
             "outlinewidth": 0,
             "ticks": ""
            },
            "colorscale": [
             [
              0,
              "#0d0887"
             ],
             [
              0.1111111111111111,
              "#46039f"
             ],
             [
              0.2222222222222222,
              "#7201a8"
             ],
             [
              0.3333333333333333,
              "#9c179e"
             ],
             [
              0.4444444444444444,
              "#bd3786"
             ],
             [
              0.5555555555555556,
              "#d8576b"
             ],
             [
              0.6666666666666666,
              "#ed7953"
             ],
             [
              0.7777777777777778,
              "#fb9f3a"
             ],
             [
              0.8888888888888888,
              "#fdca26"
             ],
             [
              1,
              "#f0f921"
             ]
            ],
            "type": "heatmap"
           }
          ],
          "histogram": [
           {
            "marker": {
             "pattern": {
              "fillmode": "overlay",
              "size": 10,
              "solidity": 0.2
             }
            },
            "type": "histogram"
           }
          ],
          "histogram2d": [
           {
            "colorbar": {
             "outlinewidth": 0,
             "ticks": ""
            },
            "colorscale": [
             [
              0,
              "#0d0887"
             ],
             [
              0.1111111111111111,
              "#46039f"
             ],
             [
              0.2222222222222222,
              "#7201a8"
             ],
             [
              0.3333333333333333,
              "#9c179e"
             ],
             [
              0.4444444444444444,
              "#bd3786"
             ],
             [
              0.5555555555555556,
              "#d8576b"
             ],
             [
              0.6666666666666666,
              "#ed7953"
             ],
             [
              0.7777777777777778,
              "#fb9f3a"
             ],
             [
              0.8888888888888888,
              "#fdca26"
             ],
             [
              1,
              "#f0f921"
             ]
            ],
            "type": "histogram2d"
           }
          ],
          "histogram2dcontour": [
           {
            "colorbar": {
             "outlinewidth": 0,
             "ticks": ""
            },
            "colorscale": [
             [
              0,
              "#0d0887"
             ],
             [
              0.1111111111111111,
              "#46039f"
             ],
             [
              0.2222222222222222,
              "#7201a8"
             ],
             [
              0.3333333333333333,
              "#9c179e"
             ],
             [
              0.4444444444444444,
              "#bd3786"
             ],
             [
              0.5555555555555556,
              "#d8576b"
             ],
             [
              0.6666666666666666,
              "#ed7953"
             ],
             [
              0.7777777777777778,
              "#fb9f3a"
             ],
             [
              0.8888888888888888,
              "#fdca26"
             ],
             [
              1,
              "#f0f921"
             ]
            ],
            "type": "histogram2dcontour"
           }
          ],
          "mesh3d": [
           {
            "colorbar": {
             "outlinewidth": 0,
             "ticks": ""
            },
            "type": "mesh3d"
           }
          ],
          "parcoords": [
           {
            "line": {
             "colorbar": {
              "outlinewidth": 0,
              "ticks": ""
             }
            },
            "type": "parcoords"
           }
          ],
          "pie": [
           {
            "automargin": true,
            "type": "pie"
           }
          ],
          "scatter": [
           {
            "fillpattern": {
             "fillmode": "overlay",
             "size": 10,
             "solidity": 0.2
            },
            "type": "scatter"
           }
          ],
          "scatter3d": [
           {
            "line": {
             "colorbar": {
              "outlinewidth": 0,
              "ticks": ""
             }
            },
            "marker": {
             "colorbar": {
              "outlinewidth": 0,
              "ticks": ""
             }
            },
            "type": "scatter3d"
           }
          ],
          "scattercarpet": [
           {
            "marker": {
             "colorbar": {
              "outlinewidth": 0,
              "ticks": ""
             }
            },
            "type": "scattercarpet"
           }
          ],
          "scattergeo": [
           {
            "marker": {
             "colorbar": {
              "outlinewidth": 0,
              "ticks": ""
             }
            },
            "type": "scattergeo"
           }
          ],
          "scattergl": [
           {
            "marker": {
             "colorbar": {
              "outlinewidth": 0,
              "ticks": ""
             }
            },
            "type": "scattergl"
           }
          ],
          "scattermap": [
           {
            "marker": {
             "colorbar": {
              "outlinewidth": 0,
              "ticks": ""
             }
            },
            "type": "scattermap"
           }
          ],
          "scattermapbox": [
           {
            "marker": {
             "colorbar": {
              "outlinewidth": 0,
              "ticks": ""
             }
            },
            "type": "scattermapbox"
           }
          ],
          "scatterpolar": [
           {
            "marker": {
             "colorbar": {
              "outlinewidth": 0,
              "ticks": ""
             }
            },
            "type": "scatterpolar"
           }
          ],
          "scatterpolargl": [
           {
            "marker": {
             "colorbar": {
              "outlinewidth": 0,
              "ticks": ""
             }
            },
            "type": "scatterpolargl"
           }
          ],
          "scatterternary": [
           {
            "marker": {
             "colorbar": {
              "outlinewidth": 0,
              "ticks": ""
             }
            },
            "type": "scatterternary"
           }
          ],
          "surface": [
           {
            "colorbar": {
             "outlinewidth": 0,
             "ticks": ""
            },
            "colorscale": [
             [
              0,
              "#0d0887"
             ],
             [
              0.1111111111111111,
              "#46039f"
             ],
             [
              0.2222222222222222,
              "#7201a8"
             ],
             [
              0.3333333333333333,
              "#9c179e"
             ],
             [
              0.4444444444444444,
              "#bd3786"
             ],
             [
              0.5555555555555556,
              "#d8576b"
             ],
             [
              0.6666666666666666,
              "#ed7953"
             ],
             [
              0.7777777777777778,
              "#fb9f3a"
             ],
             [
              0.8888888888888888,
              "#fdca26"
             ],
             [
              1,
              "#f0f921"
             ]
            ],
            "type": "surface"
           }
          ],
          "table": [
           {
            "cells": {
             "fill": {
              "color": "#EBF0F8"
             },
             "line": {
              "color": "white"
             }
            },
            "header": {
             "fill": {
              "color": "#C8D4E3"
             },
             "line": {
              "color": "white"
             }
            },
            "type": "table"
           }
          ]
         },
         "layout": {
          "annotationdefaults": {
           "arrowcolor": "#2a3f5f",
           "arrowhead": 0,
           "arrowwidth": 1
          },
          "autotypenumbers": "strict",
          "coloraxis": {
           "colorbar": {
            "outlinewidth": 0,
            "ticks": ""
           }
          },
          "colorscale": {
           "diverging": [
            [
             0,
             "#8e0152"
            ],
            [
             0.1,
             "#c51b7d"
            ],
            [
             0.2,
             "#de77ae"
            ],
            [
             0.3,
             "#f1b6da"
            ],
            [
             0.4,
             "#fde0ef"
            ],
            [
             0.5,
             "#f7f7f7"
            ],
            [
             0.6,
             "#e6f5d0"
            ],
            [
             0.7,
             "#b8e186"
            ],
            [
             0.8,
             "#7fbc41"
            ],
            [
             0.9,
             "#4d9221"
            ],
            [
             1,
             "#276419"
            ]
           ],
           "sequential": [
            [
             0,
             "#0d0887"
            ],
            [
             0.1111111111111111,
             "#46039f"
            ],
            [
             0.2222222222222222,
             "#7201a8"
            ],
            [
             0.3333333333333333,
             "#9c179e"
            ],
            [
             0.4444444444444444,
             "#bd3786"
            ],
            [
             0.5555555555555556,
             "#d8576b"
            ],
            [
             0.6666666666666666,
             "#ed7953"
            ],
            [
             0.7777777777777778,
             "#fb9f3a"
            ],
            [
             0.8888888888888888,
             "#fdca26"
            ],
            [
             1,
             "#f0f921"
            ]
           ],
           "sequentialminus": [
            [
             0,
             "#0d0887"
            ],
            [
             0.1111111111111111,
             "#46039f"
            ],
            [
             0.2222222222222222,
             "#7201a8"
            ],
            [
             0.3333333333333333,
             "#9c179e"
            ],
            [
             0.4444444444444444,
             "#bd3786"
            ],
            [
             0.5555555555555556,
             "#d8576b"
            ],
            [
             0.6666666666666666,
             "#ed7953"
            ],
            [
             0.7777777777777778,
             "#fb9f3a"
            ],
            [
             0.8888888888888888,
             "#fdca26"
            ],
            [
             1,
             "#f0f921"
            ]
           ]
          },
          "colorway": [
           "#636efa",
           "#EF553B",
           "#00cc96",
           "#ab63fa",
           "#FFA15A",
           "#19d3f3",
           "#FF6692",
           "#B6E880",
           "#FF97FF",
           "#FECB52"
          ],
          "font": {
           "color": "#2a3f5f"
          },
          "geo": {
           "bgcolor": "white",
           "lakecolor": "white",
           "landcolor": "#E5ECF6",
           "showlakes": true,
           "showland": true,
           "subunitcolor": "white"
          },
          "hoverlabel": {
           "align": "left"
          },
          "hovermode": "closest",
          "mapbox": {
           "style": "light"
          },
          "paper_bgcolor": "white",
          "plot_bgcolor": "#E5ECF6",
          "polar": {
           "angularaxis": {
            "gridcolor": "white",
            "linecolor": "white",
            "ticks": ""
           },
           "bgcolor": "#E5ECF6",
           "radialaxis": {
            "gridcolor": "white",
            "linecolor": "white",
            "ticks": ""
           }
          },
          "scene": {
           "xaxis": {
            "backgroundcolor": "#E5ECF6",
            "gridcolor": "white",
            "gridwidth": 2,
            "linecolor": "white",
            "showbackground": true,
            "ticks": "",
            "zerolinecolor": "white"
           },
           "yaxis": {
            "backgroundcolor": "#E5ECF6",
            "gridcolor": "white",
            "gridwidth": 2,
            "linecolor": "white",
            "showbackground": true,
            "ticks": "",
            "zerolinecolor": "white"
           },
           "zaxis": {
            "backgroundcolor": "#E5ECF6",
            "gridcolor": "white",
            "gridwidth": 2,
            "linecolor": "white",
            "showbackground": true,
            "ticks": "",
            "zerolinecolor": "white"
           }
          },
          "shapedefaults": {
           "line": {
            "color": "#2a3f5f"
           }
          },
          "ternary": {
           "aaxis": {
            "gridcolor": "white",
            "linecolor": "white",
            "ticks": ""
           },
           "baxis": {
            "gridcolor": "white",
            "linecolor": "white",
            "ticks": ""
           },
           "bgcolor": "#E5ECF6",
           "caxis": {
            "gridcolor": "white",
            "linecolor": "white",
            "ticks": ""
           }
          },
          "title": {
           "x": 0.05
          },
          "xaxis": {
           "automargin": true,
           "gridcolor": "white",
           "linecolor": "white",
           "ticks": "",
           "title": {
            "standoff": 15
           },
           "zerolinecolor": "white",
           "zerolinewidth": 2
          },
          "yaxis": {
           "automargin": true,
           "gridcolor": "white",
           "linecolor": "white",
           "ticks": "",
           "title": {
            "standoff": 15
           },
           "zerolinecolor": "white",
           "zerolinewidth": 2
          }
         }
        },
        "title": {
         "text": "Desnaturalización de la Caseína por Temperatura"
        },
        "updatemenus": [
         {
          "buttons": [
           {
            "args": [
             null,
             {
              "frame": {
               "duration": 100,
               "redraw": true
              }
             }
            ],
            "label": "Play",
            "method": "animate"
           }
          ],
          "type": "buttons"
         }
        ]
       }
      }
     },
     "metadata": {},
     "output_type": "display_data"
    }
   ],
   "source": [
    "from openmm.app import *\n",
    "from openmm import *\n",
    "from openmm.unit import *\n",
    "from openmm.app import PDBFile\n",
    "import numpy as np\n",
    "import plotly.graph_objects as go\n",
    "import random\n",
    "import matplotlib.pyplot as plt\n",
    "from mpl_toolkits.mplot3d import Axes3D\n",
    "\n",
    "# 1. Crear una estructura simplificada de caseína\n",
    "def create_simplified_casein(num_residues=50):\n",
    "    # Crear una topología y sistema vacíos\n",
    "    topology = Topology()\n",
    "    chain = topology.addChain()\n",
    "    \n",
    "    # Añadir residuos\n",
    "    for i in range(num_residues):\n",
    "        residue = topology.addResidue('ALA', chain)\n",
    "        if i == 0:\n",
    "            topology.addAtom('N', element.hydrogen, residue)\n",
    "        topology.addAtom('CA', element.carbon, residue)\n",
    "        topology.addAtom('C', element.carbon, residue)\n",
    "        if i == num_residues-1:\n",
    "            topology.addAtom('O', element.oxygen, residue)\n",
    "    \n",
    "    # Crear el sistema\n",
    "    system = System()\n",
    "    \n",
    "    # Añadir partículas\n",
    "    for i in range(num_residues*3):  # 3 átomos por residuo simplificado\n",
    "        system.addParticle(12.0 * amu)  # Masa aproximada\n",
    "    \n",
    "    # Fuerza de enlace\n",
    "    force = HarmonicBondForce()\n",
    "    system.addForce(force)\n",
    "    \n",
    "    # Añadir enlaces\n",
    "    for i in range(num_residues):\n",
    "        # Enlaces dentro del residuo\n",
    "        idx = i*3\n",
    "        force.addBond(idx, idx+1, 0.15*nanometer, 1000*kilojoule_per_mole/nanometer**2)  # N-CA\n",
    "        force.addBond(idx+1, idx+2, 0.15*nanometer, 1000*kilojoule_per_mole/nanometer**2)  # CA-C\n",
    "        \n",
    "        # Enlace peptídico entre residuos\n",
    "        if i < num_residues-1:\n",
    "            force.addBond(idx+2, (i+1)*3, 0.15*nanometer, 1000*kilojoule_per_mole/nanometer**2)  # C-N\n",
    "    \n",
    "    return topology, system\n",
    "\n",
    "# 2. Simular el proceso de desnaturalización por temperatura\n",
    "def simulate_denaturation(topology, system, temp_start=300*kelvin, temp_end=500*kelvin, steps=1000):\n",
    "    # Crear el integrador\n",
    "    integrator = LangevinMiddleIntegrator(temp_start, 1/picosecond, 0.002*picoseconds)\n",
    "    \n",
    "    # Crear la simulación (ahora con topología)\n",
    "    simulation = Simulation(topology, system, integrator)\n",
    "    \n",
    "    # Posiciones iniciales (línea recta)\n",
    "    positions = []\n",
    "    for i in range(system.getNumParticles()):\n",
    "        positions.append(Vec3(i*0.15, 0, 0))\n",
    "    simulation.context.setPositions(positions)\n",
    "    \n",
    "    # Minimizar energía\n",
    "    simulation.minimizeEnergy()\n",
    "    \n",
    "    # Simular aumento gradual de temperatura\n",
    "    temps = np.linspace(temp_start.value_in_unit(kelvin), temp_end.value_in_unit(kelvin), 10)\n",
    "    trajectory = []\n",
    "    \n",
    "    for temp in temps:\n",
    "        integrator.setTemperature(temp*kelvin)\n",
    "        simulation.step(steps//len(temps))\n",
    "        \n",
    "        # Obtener posiciones\n",
    "        state = simulation.context.getState(getPositions=True)\n",
    "        pos = state.getPositions(asNumpy=True).value_in_unit(nanometer)\n",
    "        trajectory.append(pos)\n",
    "    \n",
    "    return np.array(trajectory)\n",
    "\n",
    "# 3. Visualización con Plotly\n",
    "def visualize_denaturation(trajectory):\n",
    "    fig = go.Figure()\n",
    "    \n",
    "    # Añadir frames para la animación\n",
    "    frames = []\n",
    "    for i, pos in enumerate(trajectory):\n",
    "        # Mostrar solo los carbonos alfa para simplificar\n",
    "        ca_indices = [1 + 3*j for j in range(len(pos)//3)]\n",
    "        ca_pos = pos[ca_indices]\n",
    "        \n",
    "        frames.append(go.Frame(\n",
    "            data=[go.Scatter3d(\n",
    "                x=ca_pos[:,0], y=ca_pos[:,1], z=ca_pos[:,2],\n",
    "                mode='lines+markers',\n",
    "                marker=dict(size=5, color='blue'),\n",
    "                line=dict(width=3, color='blue')\n",
    "            )],\n",
    "            name=f\"Frame {i}\"\n",
    "        ))\n",
    "    \n",
    "    # Añadir datos iniciales\n",
    "    ca_indices = [1 + 3*j for j in range(len(trajectory[0])//3)]\n",
    "    ca_pos = trajectory[0][ca_indices]\n",
    "    fig.add_trace(go.Scatter3d(\n",
    "        x=ca_pos[:,0], y=ca_pos[:,1], z=ca_pos[:,2],\n",
    "        mode='lines+markers',\n",
    "        marker=dict(size=5, color='blue'),\n",
    "        line=dict(width=3, color='blue')\n",
    "    ))\n",
    "    \n",
    "    # Configurar animación\n",
    "    fig.frames = frames\n",
    "    fig.update_layout(\n",
    "        title=\"Desnaturalización de la Caseína por Temperatura\",\n",
    "        scene=dict(\n",
    "            xaxis=dict(title='X (nm)'),\n",
    "            yaxis=dict(title='Y (nm)'),\n",
    "            zaxis=dict(title='Z (nm)'),\n",
    "            aspectratio=dict(x=1, y=1, z=1)\n",
    "        ),\n",
    "        updatemenus=[dict(\n",
    "            type=\"buttons\",\n",
    "            buttons=[dict(label=\"Play\",\n",
    "                          method=\"animate\",\n",
    "                          args=[None, {\"frame\": {\"duration\": 100, \"redraw\": True}}])]\n",
    "        )]\n",
    "    )\n",
    "    \n",
    "    fig.show()\n",
    "\n",
    "# Ejecutar la simulación\n",
    "if __name__ == \"__main__\":\n",
    "    print(\"Creando sistema de caseína simplificado...\")\n",
    "    casein_topology, casein_system = create_simplified_casein(20)  # Reducido a 20 residuos para mayor velocidad\n",
    "    \n",
    "    print(\"Simulando desnaturalización por temperatura...\")\n",
    "    trajectory = simulate_denaturation(casein_topology, casein_system)\n",
    "    \n",
    "    print(\"Generando visualización...\")\n",
    "    visualize_denaturation(trajectory)"
   ]
  },
  {
   "cell_type": "code",
   "execution_count": 29,
   "id": "ed3e944a",
   "metadata": {},
   "outputs": [
    {
     "name": "stderr",
     "output_type": "stream",
     "text": [
      "INFO:__main__:Creando estructura de caseína con 30 residuos\n",
      "INFO:__main__:Iniciando simulación: 300 K → 400 K\n",
      "INFO:__main__:Minimizando energía inicial...\n",
      "INFO:__main__:Simulando a 300.0K (1/15)\n",
      "INFO:__main__:Simulando a 307.1K (2/15)\n",
      "INFO:__main__:Simulando a 314.3K (3/15)\n",
      "INFO:__main__:Simulando a 321.4K (4/15)\n",
      "INFO:__main__:Simulando a 328.6K (5/15)\n",
      "INFO:__main__:Simulando a 335.7K (6/15)\n",
      "INFO:__main__:Simulando a 342.9K (7/15)\n",
      "INFO:__main__:Simulando a 350.0K (8/15)\n",
      "INFO:__main__:Simulando a 357.1K (9/15)\n",
      "INFO:__main__:Simulando a 364.3K (10/15)\n",
      "INFO:__main__:Simulando a 371.4K (11/15)\n",
      "INFO:__main__:Simulando a 378.6K (12/15)\n",
      "INFO:__main__:Simulando a 385.7K (13/15)\n",
      "INFO:__main__:Simulando a 392.9K (14/15)\n",
      "INFO:__main__:Simulando a 400.0K (15/15)\n"
     ]
    },
    {
     "data": {
      "application/vnd.plotly.v1+json": {
       "config": {
        "plotlyServerURL": "https://plot.ly"
       },
       "data": [
        {
         "line": {
          "color": "blue",
          "width": 4
         },
         "marker": {
          "color": "blue",
          "opacity": 0.8,
          "size": 6
         },
         "mode": "lines+markers",
         "name": "Estructura Inicial (300K)",
         "type": "scatter3d",
         "x": {
          "bdata": "AAAAQCMsEsAAAAAAUSARwAAAAMBQyA/AAAAA4DKYDcAAAABgUkALwAAAAOA8sAjAAAAAgEVXBsAAAABgrQwEwAAAACAUkAHAAAAAACRs/r8AAACAbmn5vwAAAOAFCPW/AAAAYKqR8L8AAAAgugbovwAAAECyHty/AAAA4K3Uwb8AAACA7DzEPwAAAAB0stw/AAAAQFmT6D8AAAAA2vLwPwAAAKA8ivU/AAAAYLky+j8AAADAkAT/PwAAAECRBQJAAAAAQFReBEAAAADgzbIGQAAAACCO7QhAAAAAwNk2C0AAAABgC6cNQAAAAMCZAhBAAAAAwCs+EUAAAAAAJ4sSQAAAAIDDuxNAAAAAQLPbFEAAAACA3xAWQAAAAEC/ORdAAAAAYHRrGEAAAACA8qkZQAAAAADCyxpAAAAAgEL9G0AAAACgZzgdQAAAAECvTh5AAAAAQGmIH0AAAADgN1EgQAAAAGAw8yBAAAAAALCFIUAAAAAAyx4iQAAAAADZtyJAAAAAAH5ZI0AAAADAve4jQAAAAOC7jSRAAAAA4MgmJUAAAABAUsAlQAAAAKAJVCZAAAAAYBD0JkAAAABgRognQAAAAKC2FChAAAAAQAWnKEAAAAAgkD0pQAAAAADGzClAAAAAgNZlKkAAAAAgEZ8zQA==",
          "dtype": "f8"
         },
         "y": {
          "bdata": "AAAAQIkwnT8AAACgMw6avwAAAGA3ga+/AAAAIAhfs78AAAAgsh6gPwAAAAABfYS/AAAAYLkUsb8AAAAAWnWAPwAAAGARnJW/AAAAAKBuij8AAADgobqEPwAAAICm4ai/AAAAoK8Loj8AAAAA8Q2QPwAAACBEFaO/AAAAQBq9pr8AAAAgP4mlvwAAACAalow/AAAAQEiBfz8AAADAtlOJPwAAAEC7SaW/AAAAwGJSgz8AAADADeBxvwAAAGDnRKi/AAAAQIxbab8AAADAjghlPwAAAAANPoG/AAAA4Ouerb8AAACghtabvwAAACBnx6S/AAAAIJ8ykr8AAADAt5OWvwAAAID1N6U/AAAA4Gnviz8AAADgba+PPwAAAKB04Gu/AAAAoIREo78AAACALEulvwAAAMAXj6I/AAAAYMN5mz8AAABgOseLvwAAAKBJmrs/AAAAgO/nuT8AAABAnYpzPwAAAIAPurw/AAAAQHaxqD8AAADg00iTvwAAAMCu7Ka/AAAAoBellb8AAADArC+dvwAAAAAVUQk/AAAAAG4pkD8AAABgAn2HPwAAAIBpEZa/AAAAQAXWnz8AAADAwTitPwAAAMAt1J2/AAAAQJYdqL8AAAAAfWe0PwAAAICYGYG/AAAAoHZ/oT8AAADAb7KePw==",
          "dtype": "f8"
         },
         "z": {
          "bdata": "AAAA4KP1tj8AAABAE9TNvwAAAIDFNbQ/AAAAAHTArL8AAADAJDSEvwAAAID1c3E/AAAAoPrNoD8AAADAJZ19vwAAAACw9rG/AAAAoDiNsD8AAADAf/SyPwAAAIDj4Je/AAAAwPrrqT8AAABgszSlvwAAAICfYZs/AAAAwB53oj8AAAAAE+uVPwAAAGDIobk/AAAAQOc7mb8AAACgxCurvwAAAIDRB6o/AAAA4Ltgk78AAAAAsUFvPwAAAOAYmaI/AAAAIEQ/gr8AAABgskGrPwAAAGATbLG/AAAAgBPQgb8AAADgZuOCPwAAAICEQ6c/AAAA4BRqrL8AAAAA7oiuvwAAAEAiKbW/AAAAIMfMXL8AAADAr7eYPwAAAOBYZK4/AAAAoFrRgD8AAAAgg+12PwAAACAoRJE/AAAAgCkzpT8AAAAgpGCnvwAAAAA0IJm/AAAAIM5Mi78AAABAnjyQPwAAAACn9Zi/AAAAQOnrsr8AAABA6qCUvwAAAAA/W4i/AAAAwNH8aj8AAADAzveyvwAAAIASE5y/AAAAIPP2Oj8AAABATP2BvwAAACAQfbG/AAAAQGHNpL8AAACA0ruTPwAAAAC/mLO/AAAAINR+r78AAADgxbedPwAAAEDJmb4/AAAAYOrfhT8AAADAvWqCvw==",
          "dtype": "f8"
         }
        },
        {
         "line": {
          "color": "red",
          "width": 4
         },
         "marker": {
          "color": "red",
          "opacity": 0.8,
          "size": 6
         },
         "mode": "lines+markers",
         "name": "Estructura Desnaturalizada (400K)",
         "type": "scatter3d",
         "x": {
          "bdata": "AAAAgL4+DsAAAAAgE38MwAAAAMAsawrAAAAAwEZACsAAAACANdsHwAAAAEB0kgXAAAAAIC1IBMAAAAAA9NcCwAAAAIArYADAAAAAANWS+78AAACgHmr3vwAAAOB3bfK/AAAAYPNk7b8AAAAgqpDjvwAAAKA2Q9W/AAAAgC83pL8AAAAANC/RPwAAAACO4OA/AAAA4NMJ6j8AAACgf5nxPwAAAMDuSPY/AAAA4BgW+z8AAAAg3HD/PwAAAOC3/wFAAAAAgH7TA0AAAADAYSUGQAAAAAA5sghAAAAAwClsC0AAAAAgKnkNQAAAAGCFzQ9AAAAA4DgZEUAAAACAjTcSQAAAAEByXhNAAAAA4LqAFEAAAAAg1asVQAAAAEBi9RZAAAAAoGglGEAAAAAg0z4ZQAAAAKB5dRpAAAAAYCZpG0AAAABAZqccQAAAAKD98R1AAAAAwFfwHkAAAACAmRUgQAAAAEAmgSBAAAAAoAL4IEAAAAAg26QhQAAAAIBIMCJAAAAAAGy0IkAAAAAgDk8jQAAAAODz2iNAAAAAIExpJEAAAABgg/IkQAAAAGDddiVAAAAAoIvMJUAAAABg1V8mQAAAAMBh7iZAAAAAYFNzJ0AAAADAxvQnQAAAACBvVShAAAAAAJDWKEAAAADAabIzQA==",
          "dtype": "f8"
         },
         "y": {
          "bdata": "AAAAoLiKzb8AAABAlwi0vwAAAEAHXc6/AAAA4HF8fD8AAACgJGW3PwAAACA/f8Y/AAAAwGTRur8AAABgIgTRvwAAAACwANS/AAAAAEPh1b8AAAAAoS7fvwAAAKAZAOC/AAAAYHeE078AAABAxgvKvwAAAEDkQca/AAAAwEsovb8AAADgcObEvwAAAGBeoY+/AAAAYImHkz8AAACAbFKLPwAAAKC9JWE/AAAAgDPBoj8AAABAKDzEPwAAAIDMb8g/AAAAoMYppb8AAADgcFiyvwAAAGCemrK/AAAAAKbCpb8AAACAWZC4PwAAAIDkmMU/AAAAQGMlzj8AAACguerDPwAAAECdSZk/AAAA4GlhvL8AAADA8aGiPwAAAOCuTKU/AAAAgJquOz8AAADg+FmkPwAAAGAY+Lw/AAAA4Kgtsz8AAACgqbymPwAAACBLiKs/AAAAQB5oob8AAAAgupimvwAAAAA3ULS/AAAAIFhEwD8AAAAAgiusPwAAAKApUL0/AAAAwEMauD8AAAAgfRa9PwAAAMA3d4Y/AAAAgEo3t78AAABA5G1tPwAAAKD4ubI/AAAAgKywxr8AAACAX0fAvwAAAKDInZE/AAAAwAHrtb8AAABgcneRvwAAACANnLM/AAAAIN8Eg78AAAAgQ5/fvw==",
          "dtype": "f8"
         },
         "z": {
          "bdata": "AAAAgG3v4b8AAADgtkDYvwAAAOBS79W/AAAAgFNjw78AAACgIliQPwAAAOC8/6W/AAAAAIYvlb8AAADgqi/HvwAAAEBHi8i/AAAAoMgJxr8AAAAgkaa8vwAAAKBU5bK/AAAAYJqzjT8AAACg7EBpPwAAAOCnl8K/AAAAwE6Rx78AAACAKYjQvwAAAMAJHNS/AAAAIKTexL8AAABgKpbEvwAAAIBA/6C/AAAAICYfoz8AAACgyNWzPwAAAECwULs/AAAAYM+qoD8AAABApP+1PwAAACATGJU/AAAAAAxdrT8AAADgHJGpPwAAAMDlr68/AAAAYC/Coj8AAABgfjLBPwAAAIDvHKY/AAAAIEwvuj8AAAAA1GO6PwAAAAAOj8I/AAAAoLnAwT8AAABAuFLJPwAAAGBdcMU/AAAAoHmtlz8AAABAL3uvPwAAAEA3ZKo/AAAAYJxexj8AAAAAtL3EPwAAAKBgGrC/AAAAgP7Tnr8AAACAqY6ePwAAAEDyFKi/AAAAoD53uj8AAADgELWmPwAAAMDlJps/AAAAgB5ymr8AAADABBq/PwAAAODuxcw/AAAAIGXesz8AAACAAFnFPwAAAMDg1cI/AAAAQGtcwj8AAADAWhOkPwAAAKCzps8/AAAAIKDhuj8AAACA10Xrvw==",
          "dtype": "f8"
         }
        }
       ],
       "layout": {
        "height": 600,
        "legend": {
         "x": 0.01,
         "xanchor": "left",
         "y": 0.99,
         "yanchor": "top"
        },
        "scene": {
         "bgcolor": "rgba(0,0,0,0)",
         "xaxis": {
          "backgroundcolor": "rgba(0,0,0,0)",
          "gridcolor": "lightgray",
          "title": {
           "text": "X (nm)"
          }
         },
         "yaxis": {
          "backgroundcolor": "rgba(0,0,0,0)",
          "gridcolor": "lightgray",
          "title": {
           "text": "Y (nm)"
          }
         },
         "zaxis": {
          "backgroundcolor": "rgba(0,0,0,0)",
          "gridcolor": "lightgray",
          "title": {
           "text": "Z (nm)"
          }
         }
        },
        "showlegend": true,
        "template": {
         "data": {
          "bar": [
           {
            "error_x": {
             "color": "#2a3f5f"
            },
            "error_y": {
             "color": "#2a3f5f"
            },
            "marker": {
             "line": {
              "color": "#E5ECF6",
              "width": 0.5
             },
             "pattern": {
              "fillmode": "overlay",
              "size": 10,
              "solidity": 0.2
             }
            },
            "type": "bar"
           }
          ],
          "barpolar": [
           {
            "marker": {
             "line": {
              "color": "#E5ECF6",
              "width": 0.5
             },
             "pattern": {
              "fillmode": "overlay",
              "size": 10,
              "solidity": 0.2
             }
            },
            "type": "barpolar"
           }
          ],
          "carpet": [
           {
            "aaxis": {
             "endlinecolor": "#2a3f5f",
             "gridcolor": "white",
             "linecolor": "white",
             "minorgridcolor": "white",
             "startlinecolor": "#2a3f5f"
            },
            "baxis": {
             "endlinecolor": "#2a3f5f",
             "gridcolor": "white",
             "linecolor": "white",
             "minorgridcolor": "white",
             "startlinecolor": "#2a3f5f"
            },
            "type": "carpet"
           }
          ],
          "choropleth": [
           {
            "colorbar": {
             "outlinewidth": 0,
             "ticks": ""
            },
            "type": "choropleth"
           }
          ],
          "contour": [
           {
            "colorbar": {
             "outlinewidth": 0,
             "ticks": ""
            },
            "colorscale": [
             [
              0,
              "#0d0887"
             ],
             [
              0.1111111111111111,
              "#46039f"
             ],
             [
              0.2222222222222222,
              "#7201a8"
             ],
             [
              0.3333333333333333,
              "#9c179e"
             ],
             [
              0.4444444444444444,
              "#bd3786"
             ],
             [
              0.5555555555555556,
              "#d8576b"
             ],
             [
              0.6666666666666666,
              "#ed7953"
             ],
             [
              0.7777777777777778,
              "#fb9f3a"
             ],
             [
              0.8888888888888888,
              "#fdca26"
             ],
             [
              1,
              "#f0f921"
             ]
            ],
            "type": "contour"
           }
          ],
          "contourcarpet": [
           {
            "colorbar": {
             "outlinewidth": 0,
             "ticks": ""
            },
            "type": "contourcarpet"
           }
          ],
          "heatmap": [
           {
            "colorbar": {
             "outlinewidth": 0,
             "ticks": ""
            },
            "colorscale": [
             [
              0,
              "#0d0887"
             ],
             [
              0.1111111111111111,
              "#46039f"
             ],
             [
              0.2222222222222222,
              "#7201a8"
             ],
             [
              0.3333333333333333,
              "#9c179e"
             ],
             [
              0.4444444444444444,
              "#bd3786"
             ],
             [
              0.5555555555555556,
              "#d8576b"
             ],
             [
              0.6666666666666666,
              "#ed7953"
             ],
             [
              0.7777777777777778,
              "#fb9f3a"
             ],
             [
              0.8888888888888888,
              "#fdca26"
             ],
             [
              1,
              "#f0f921"
             ]
            ],
            "type": "heatmap"
           }
          ],
          "histogram": [
           {
            "marker": {
             "pattern": {
              "fillmode": "overlay",
              "size": 10,
              "solidity": 0.2
             }
            },
            "type": "histogram"
           }
          ],
          "histogram2d": [
           {
            "colorbar": {
             "outlinewidth": 0,
             "ticks": ""
            },
            "colorscale": [
             [
              0,
              "#0d0887"
             ],
             [
              0.1111111111111111,
              "#46039f"
             ],
             [
              0.2222222222222222,
              "#7201a8"
             ],
             [
              0.3333333333333333,
              "#9c179e"
             ],
             [
              0.4444444444444444,
              "#bd3786"
             ],
             [
              0.5555555555555556,
              "#d8576b"
             ],
             [
              0.6666666666666666,
              "#ed7953"
             ],
             [
              0.7777777777777778,
              "#fb9f3a"
             ],
             [
              0.8888888888888888,
              "#fdca26"
             ],
             [
              1,
              "#f0f921"
             ]
            ],
            "type": "histogram2d"
           }
          ],
          "histogram2dcontour": [
           {
            "colorbar": {
             "outlinewidth": 0,
             "ticks": ""
            },
            "colorscale": [
             [
              0,
              "#0d0887"
             ],
             [
              0.1111111111111111,
              "#46039f"
             ],
             [
              0.2222222222222222,
              "#7201a8"
             ],
             [
              0.3333333333333333,
              "#9c179e"
             ],
             [
              0.4444444444444444,
              "#bd3786"
             ],
             [
              0.5555555555555556,
              "#d8576b"
             ],
             [
              0.6666666666666666,
              "#ed7953"
             ],
             [
              0.7777777777777778,
              "#fb9f3a"
             ],
             [
              0.8888888888888888,
              "#fdca26"
             ],
             [
              1,
              "#f0f921"
             ]
            ],
            "type": "histogram2dcontour"
           }
          ],
          "mesh3d": [
           {
            "colorbar": {
             "outlinewidth": 0,
             "ticks": ""
            },
            "type": "mesh3d"
           }
          ],
          "parcoords": [
           {
            "line": {
             "colorbar": {
              "outlinewidth": 0,
              "ticks": ""
             }
            },
            "type": "parcoords"
           }
          ],
          "pie": [
           {
            "automargin": true,
            "type": "pie"
           }
          ],
          "scatter": [
           {
            "fillpattern": {
             "fillmode": "overlay",
             "size": 10,
             "solidity": 0.2
            },
            "type": "scatter"
           }
          ],
          "scatter3d": [
           {
            "line": {
             "colorbar": {
              "outlinewidth": 0,
              "ticks": ""
             }
            },
            "marker": {
             "colorbar": {
              "outlinewidth": 0,
              "ticks": ""
             }
            },
            "type": "scatter3d"
           }
          ],
          "scattercarpet": [
           {
            "marker": {
             "colorbar": {
              "outlinewidth": 0,
              "ticks": ""
             }
            },
            "type": "scattercarpet"
           }
          ],
          "scattergeo": [
           {
            "marker": {
             "colorbar": {
              "outlinewidth": 0,
              "ticks": ""
             }
            },
            "type": "scattergeo"
           }
          ],
          "scattergl": [
           {
            "marker": {
             "colorbar": {
              "outlinewidth": 0,
              "ticks": ""
             }
            },
            "type": "scattergl"
           }
          ],
          "scattermap": [
           {
            "marker": {
             "colorbar": {
              "outlinewidth": 0,
              "ticks": ""
             }
            },
            "type": "scattermap"
           }
          ],
          "scattermapbox": [
           {
            "marker": {
             "colorbar": {
              "outlinewidth": 0,
              "ticks": ""
             }
            },
            "type": "scattermapbox"
           }
          ],
          "scatterpolar": [
           {
            "marker": {
             "colorbar": {
              "outlinewidth": 0,
              "ticks": ""
             }
            },
            "type": "scatterpolar"
           }
          ],
          "scatterpolargl": [
           {
            "marker": {
             "colorbar": {
              "outlinewidth": 0,
              "ticks": ""
             }
            },
            "type": "scatterpolargl"
           }
          ],
          "scatterternary": [
           {
            "marker": {
             "colorbar": {
              "outlinewidth": 0,
              "ticks": ""
             }
            },
            "type": "scatterternary"
           }
          ],
          "surface": [
           {
            "colorbar": {
             "outlinewidth": 0,
             "ticks": ""
            },
            "colorscale": [
             [
              0,
              "#0d0887"
             ],
             [
              0.1111111111111111,
              "#46039f"
             ],
             [
              0.2222222222222222,
              "#7201a8"
             ],
             [
              0.3333333333333333,
              "#9c179e"
             ],
             [
              0.4444444444444444,
              "#bd3786"
             ],
             [
              0.5555555555555556,
              "#d8576b"
             ],
             [
              0.6666666666666666,
              "#ed7953"
             ],
             [
              0.7777777777777778,
              "#fb9f3a"
             ],
             [
              0.8888888888888888,
              "#fdca26"
             ],
             [
              1,
              "#f0f921"
             ]
            ],
            "type": "surface"
           }
          ],
          "table": [
           {
            "cells": {
             "fill": {
              "color": "#EBF0F8"
             },
             "line": {
              "color": "white"
             }
            },
            "header": {
             "fill": {
              "color": "#C8D4E3"
             },
             "line": {
              "color": "white"
             }
            },
            "type": "table"
           }
          ]
         },
         "layout": {
          "annotationdefaults": {
           "arrowcolor": "#2a3f5f",
           "arrowhead": 0,
           "arrowwidth": 1
          },
          "autotypenumbers": "strict",
          "coloraxis": {
           "colorbar": {
            "outlinewidth": 0,
            "ticks": ""
           }
          },
          "colorscale": {
           "diverging": [
            [
             0,
             "#8e0152"
            ],
            [
             0.1,
             "#c51b7d"
            ],
            [
             0.2,
             "#de77ae"
            ],
            [
             0.3,
             "#f1b6da"
            ],
            [
             0.4,
             "#fde0ef"
            ],
            [
             0.5,
             "#f7f7f7"
            ],
            [
             0.6,
             "#e6f5d0"
            ],
            [
             0.7,
             "#b8e186"
            ],
            [
             0.8,
             "#7fbc41"
            ],
            [
             0.9,
             "#4d9221"
            ],
            [
             1,
             "#276419"
            ]
           ],
           "sequential": [
            [
             0,
             "#0d0887"
            ],
            [
             0.1111111111111111,
             "#46039f"
            ],
            [
             0.2222222222222222,
             "#7201a8"
            ],
            [
             0.3333333333333333,
             "#9c179e"
            ],
            [
             0.4444444444444444,
             "#bd3786"
            ],
            [
             0.5555555555555556,
             "#d8576b"
            ],
            [
             0.6666666666666666,
             "#ed7953"
            ],
            [
             0.7777777777777778,
             "#fb9f3a"
            ],
            [
             0.8888888888888888,
             "#fdca26"
            ],
            [
             1,
             "#f0f921"
            ]
           ],
           "sequentialminus": [
            [
             0,
             "#0d0887"
            ],
            [
             0.1111111111111111,
             "#46039f"
            ],
            [
             0.2222222222222222,
             "#7201a8"
            ],
            [
             0.3333333333333333,
             "#9c179e"
            ],
            [
             0.4444444444444444,
             "#bd3786"
            ],
            [
             0.5555555555555556,
             "#d8576b"
            ],
            [
             0.6666666666666666,
             "#ed7953"
            ],
            [
             0.7777777777777778,
             "#fb9f3a"
            ],
            [
             0.8888888888888888,
             "#fdca26"
            ],
            [
             1,
             "#f0f921"
            ]
           ]
          },
          "colorway": [
           "#636efa",
           "#EF553B",
           "#00cc96",
           "#ab63fa",
           "#FFA15A",
           "#19d3f3",
           "#FF6692",
           "#B6E880",
           "#FF97FF",
           "#FECB52"
          ],
          "font": {
           "color": "#2a3f5f"
          },
          "geo": {
           "bgcolor": "white",
           "lakecolor": "white",
           "landcolor": "#E5ECF6",
           "showlakes": true,
           "showland": true,
           "subunitcolor": "white"
          },
          "hoverlabel": {
           "align": "left"
          },
          "hovermode": "closest",
          "mapbox": {
           "style": "light"
          },
          "paper_bgcolor": "white",
          "plot_bgcolor": "#E5ECF6",
          "polar": {
           "angularaxis": {
            "gridcolor": "white",
            "linecolor": "white",
            "ticks": ""
           },
           "bgcolor": "#E5ECF6",
           "radialaxis": {
            "gridcolor": "white",
            "linecolor": "white",
            "ticks": ""
           }
          },
          "scene": {
           "xaxis": {
            "backgroundcolor": "#E5ECF6",
            "gridcolor": "white",
            "gridwidth": 2,
            "linecolor": "white",
            "showbackground": true,
            "ticks": "",
            "zerolinecolor": "white"
           },
           "yaxis": {
            "backgroundcolor": "#E5ECF6",
            "gridcolor": "white",
            "gridwidth": 2,
            "linecolor": "white",
            "showbackground": true,
            "ticks": "",
            "zerolinecolor": "white"
           },
           "zaxis": {
            "backgroundcolor": "#E5ECF6",
            "gridcolor": "white",
            "gridwidth": 2,
            "linecolor": "white",
            "showbackground": true,
            "ticks": "",
            "zerolinecolor": "white"
           }
          },
          "shapedefaults": {
           "line": {
            "color": "#2a3f5f"
           }
          },
          "ternary": {
           "aaxis": {
            "gridcolor": "white",
            "linecolor": "white",
            "ticks": ""
           },
           "baxis": {
            "gridcolor": "white",
            "linecolor": "white",
            "ticks": ""
           },
           "bgcolor": "#E5ECF6",
           "caxis": {
            "gridcolor": "white",
            "linecolor": "white",
            "ticks": ""
           }
          },
          "title": {
           "x": 0.05
          },
          "xaxis": {
           "automargin": true,
           "gridcolor": "white",
           "linecolor": "white",
           "ticks": "",
           "title": {
            "standoff": 15
           },
           "zerolinecolor": "white",
           "zerolinewidth": 2
          },
          "yaxis": {
           "automargin": true,
           "gridcolor": "white",
           "linecolor": "white",
           "ticks": "",
           "title": {
            "standoff": 15
           },
           "zerolinecolor": "white",
           "zerolinewidth": 2
          }
         }
        },
        "title": {
         "font": {
          "size": 18
         },
         "text": "Desnaturalización de Caseína - Visualización 3D",
         "x": 0.5
        },
        "width": 800
       }
      }
     },
     "metadata": {},
     "output_type": "display_data"
    },
    {
     "name": "stdout",
     "output_type": "stream",
     "text": [
      "\n",
      "REPORTE DE ANÁLISIS DE DESNATURALIZACIÓN DE CASEÍNA\n",
      "================================================\n",
      "\n",
      "Parámetros de Simulación:\n",
      "- Número de residuos: 30\n",
      "- Rango de temperatura: 300.0K - 400.0K\n",
      "- Número de pasos de temperatura: 15\n",
      "\n",
      "\n",
      "Interpretación:\n",
      "- La proteína mantiene una estructura compacta.\n",
      "- La energía se mantiene estable o disminuye.\n",
      "\n"
     ]
    }
   ],
   "source": [
    "from openmm.app import *\n",
    "from openmm import *\n",
    "from openmm.unit import *\n",
    "import numpy as np\n",
    "import plotly.graph_objects as go\n",
    "import plotly.express as px\n",
    "from plotly.subplots import make_subplots\n",
    "import matplotlib.pyplot as plt\n",
    "from mpl_toolkits.mplot3d import Axes3D\n",
    "from scipy.spatial.distance import pdist\n",
    "import logging\n",
    "\n",
    "# Configurar logging\n",
    "logging.basicConfig(level=logging.INFO)\n",
    "logger = logging.getLogger(__name__)\n",
    "\n",
    "class CaseinSimulation:\n",
    "    \"\"\"Clase mejorada para simular la desnaturalización de caseína\"\"\"\n",
    "    \n",
    "    def __init__(self, num_residues=50, include_secondary_structure=True):\n",
    "        self.num_residues = num_residues\n",
    "        self.include_secondary_structure = include_secondary_structure\n",
    "        self.topology = None\n",
    "        self.system = None\n",
    "        self.trajectory_data = []\n",
    "        \n",
    "    def create_realistic_casein(self):\n",
    "        \"\"\"Crear una estructura más realista de caseína con diferentes aminoácidos\"\"\"\n",
    "        logger.info(f\"Creando estructura de caseína con {self.num_residues} residuos\")\n",
    "        \n",
    "        # Secuencia simplificada de aminoácidos comunes en caseína\n",
    "        casein_sequence = ['SER', 'GLU', 'ASP', 'PRO', 'LYS', 'ALA', 'VAL', 'LEU', 'ILE', 'PHE']\n",
    "        \n",
    "        self.topology = Topology()\n",
    "        chain = self.topology.addChain()\n",
    "        \n",
    "        # Crear residuos con diferentes aminoácidos\n",
    "        residues = []\n",
    "        atom_count = 0\n",
    "        \n",
    "        for i in range(self.num_residues):\n",
    "            aa_type = casein_sequence[i % len(casein_sequence)]\n",
    "            residue = self.topology.addResidue(aa_type, chain)\n",
    "            residues.append(residue)\n",
    "            \n",
    "            # Añadir átomos principales de forma consistente\n",
    "            if i == 0:\n",
    "                # Primer residuo: N-CA-C\n",
    "                self.topology.addAtom('N', element.nitrogen, residue)\n",
    "                self.topology.addAtom('CA', element.carbon, residue)\n",
    "                self.topology.addAtom('C', element.carbon, residue)\n",
    "                atom_count += 3\n",
    "            elif i == self.num_residues - 1:\n",
    "                # Último residuo: CA-C-O\n",
    "                self.topology.addAtom('CA', element.carbon, residue)\n",
    "                self.topology.addAtom('C', element.carbon, residue)\n",
    "                self.topology.addAtom('O', element.oxygen, residue)\n",
    "                atom_count += 3\n",
    "            else:\n",
    "                # Residuos intermedios: CA-C\n",
    "                self.topology.addAtom('CA', element.carbon, residue)\n",
    "                self.topology.addAtom('C', element.carbon, residue)\n",
    "                atom_count += 2\n",
    "        \n",
    "        # Crear sistema con fuerzas más realistas\n",
    "        self.system = System()\n",
    "        \n",
    "        # Añadir partículas con masas específicas\n",
    "        masses = {'N': 14.0, 'CA': 12.0, 'C': 12.0, 'O': 16.0}\n",
    "        self.atom_types = []\n",
    "        \n",
    "        for i in range(self.num_residues):\n",
    "            if i == 0:\n",
    "                # Primer residuo: N-CA-C\n",
    "                self.system.addParticle(masses['N'] * amu)\n",
    "                self.atom_types.append('N')\n",
    "                self.system.addParticle(masses['CA'] * amu)\n",
    "                self.atom_types.append('CA')\n",
    "                self.system.addParticle(masses['C'] * amu)\n",
    "                self.atom_types.append('C')\n",
    "            elif i == self.num_residues - 1:\n",
    "                # Último residuo: CA-C-O\n",
    "                self.system.addParticle(masses['CA'] * amu)\n",
    "                self.atom_types.append('CA')\n",
    "                self.system.addParticle(masses['C'] * amu)\n",
    "                self.atom_types.append('C')\n",
    "                self.system.addParticle(masses['O'] * amu)\n",
    "                self.atom_types.append('O')\n",
    "            else:\n",
    "                # Residuos intermedios: CA-C\n",
    "                self.system.addParticle(masses['CA'] * amu)\n",
    "                self.atom_types.append('CA')\n",
    "                self.system.addParticle(masses['C'] * amu)\n",
    "                self.atom_types.append('C')\n",
    "        self._add_forces()\n",
    "        \n",
    "        return self.topology, self.system\n",
    "    \n",
    "    def _add_forces(self):\n",
    "        \"\"\"Añadir fuerzas más realistas al sistema\"\"\"\n",
    "        \n",
    "        # 1. Fuerzas de enlace covalente\n",
    "        bond_force = HarmonicBondForce()\n",
    "        bond_strengths = {\n",
    "            'N-CA': (0.147*nanometer, 2500*kilojoule_per_mole/nanometer**2),\n",
    "            'CA-C': (0.153*nanometer, 2500*kilojoule_per_mole/nanometer**2),\n",
    "            'C-N': (0.133*nanometer, 3000*kilojoule_per_mole/nanometer**2)\n",
    "        }\n",
    "        \n",
    "        # Crear índices de átomos correctamente\n",
    "        atom_index = 0\n",
    "        for i in range(self.num_residues):\n",
    "            if i == 0:\n",
    "                # Primer residuo: N-CA-C\n",
    "                n_idx = atom_index\n",
    "                ca_idx = atom_index + 1\n",
    "                c_idx = atom_index + 2\n",
    "                \n",
    "                # Enlaces dentro del residuo\n",
    "                bond_force.addBond(n_idx, ca_idx, *bond_strengths['N-CA'])\n",
    "                bond_force.addBond(ca_idx, c_idx, *bond_strengths['CA-C'])\n",
    "                \n",
    "                atom_index += 3\n",
    "            elif i == self.num_residues - 1:\n",
    "                # Último residuo: CA-C-O\n",
    "                ca_idx = atom_index\n",
    "                c_idx = atom_index + 1\n",
    "                o_idx = atom_index + 2\n",
    "                \n",
    "                # Enlaces dentro del residuo\n",
    "                bond_force.addBond(ca_idx, c_idx, *bond_strengths['CA-C'])\n",
    "                \n",
    "                # Enlace peptídico con residuo anterior\n",
    "                prev_c_idx = atom_index - 1\n",
    "                bond_force.addBond(prev_c_idx, ca_idx, *bond_strengths['C-N'])\n",
    "                \n",
    "                atom_index += 3\n",
    "            else:\n",
    "                # Residuos intermedios: CA-C\n",
    "                ca_idx = atom_index\n",
    "                c_idx = atom_index + 1\n",
    "                \n",
    "                # Enlaces dentro del residuo\n",
    "                bond_force.addBond(ca_idx, c_idx, *bond_strengths['CA-C'])\n",
    "                \n",
    "                # Enlace peptídico con residuo anterior\n",
    "                prev_c_idx = atom_index - 1\n",
    "                bond_force.addBond(prev_c_idx, ca_idx, *bond_strengths['C-N'])\n",
    "                \n",
    "                atom_index += 2\n",
    "        \n",
    "        self.system.addForce(bond_force)\n",
    "        \n",
    "        # 2. Fuerzas de ángulo (simplificadas para evitar errores de índice)\n",
    "        angle_force = HarmonicAngleForce()\n",
    "        \n",
    "        # Solo añadir ángulos básicos N-CA-C para el primer residuo\n",
    "        if self.num_residues > 0:\n",
    "            angle_force.addAngle(0, 1, 2, 1.94, 500*kilojoule_per_mole/radian**2)\n",
    "        \n",
    "        self.system.addForce(angle_force)\n",
    "        \n",
    "        # 3. Fuerzas de Van der Waals (Lennard-Jones) - simplificadas\n",
    "        lj_force = NonbondedForce()\n",
    "        lj_force.setNonbondedMethod(NonbondedForce.CutoffNonPeriodic)\n",
    "        lj_force.setCutoffDistance(1.0*nanometer)\n",
    "        \n",
    "        # Parámetros LJ simplificados - todos los átomos como carbono\n",
    "        for i in range(self.system.getNumParticles()):\n",
    "            lj_force.addParticle(0.0, 0.35*nanometer, 0.46*kilojoule_per_mole)\n",
    "        \n",
    "        self.system.addForce(lj_force)\n",
    "        \n",
    "        # 4. Estructura secundaria simplificada (opcional)\n",
    "        if self.include_secondary_structure and self.num_residues > 4:\n",
    "            hbond_force = HarmonicBondForce()\n",
    "            # Enlaces de hidrógeno muy débiles cada 4 residuos\n",
    "            for i in range(0, min(self.num_residues-4, 3)):  # Máximo 3 enlaces H\n",
    "                try:\n",
    "                    # Índices simplificados\n",
    "                    idx1 = 2  # C del primer residuo\n",
    "                    idx2 = 3 + (i+1)*2  # CA de residuo posterior\n",
    "                    if idx2 < self.system.getNumParticles():\n",
    "                        hbond_force.addBond(idx1, idx2, 0.3*nanometer, \n",
    "                                          20*kilojoule_per_mole/nanometer**2)\n",
    "                except:\n",
    "                    pass  # Ignorar errores de índice\n",
    "            \n",
    "            self.system.addForce(hbond_force)\n",
    "    \n",
    "    def simulate_temperature_denaturation(self, temp_start=300*kelvin, temp_end=400*kelvin, \n",
    "                                        temp_steps=20, simulation_steps=2000):\n",
    "        \"\"\"Simular desnaturalización con análisis detallado\"\"\"\n",
    "        logger.info(f\"Iniciando simulación: {temp_start} → {temp_end}\")\n",
    "        \n",
    "        # Crear integrador más estable\n",
    "        integrator = LangevinMiddleIntegrator(temp_start, 5/picosecond, 0.001*picoseconds)\n",
    "        simulation = Simulation(self.topology, self.system, integrator)\n",
    "        \n",
    "        # Posiciones iniciales más realistas (α-hélice parcial)\n",
    "        positions = self._generate_initial_positions()\n",
    "        simulation.context.setPositions(positions)\n",
    "        \n",
    "        # Minimizar energía\n",
    "        logger.info(\"Minimizando energía inicial...\")\n",
    "        simulation.minimizeEnergy(maxIterations=1000)\n",
    "        \n",
    "        # Arrays para datos de análisis\n",
    "        temperatures = np.linspace(temp_start.value_in_unit(kelvin), \n",
    "                                 temp_end.value_in_unit(kelvin), temp_steps)\n",
    "        trajectory = []\n",
    "        energies = []\n",
    "        rg_values = []  # Radio de giro\n",
    "        end_to_end_distances = []\n",
    "        \n",
    "        for i, temp in enumerate(temperatures):\n",
    "            logger.info(f\"Simulando a {temp:.1f}K ({i+1}/{len(temperatures)})\")\n",
    "            \n",
    "            integrator.setTemperature(temp*kelvin)\n",
    "            simulation.step(simulation_steps // temp_steps)\n",
    "            \n",
    "            # Obtener estado actual\n",
    "            state = simulation.context.getState(getPositions=True, getEnergy=True)\n",
    "            positions = state.getPositions(asNumpy=True).value_in_unit(nanometer)\n",
    "            energy = state.getPotentialEnergy().value_in_unit(kilojoule_per_mole)\n",
    "            \n",
    "            # Calcular métricas estructurales\n",
    "            rg = self._calculate_radius_of_gyration(positions)\n",
    "            end_to_end = self._calculate_end_to_end_distance(positions)\n",
    "            \n",
    "            # Almacenar datos\n",
    "            trajectory.append(positions.copy())\n",
    "            energies.append(energy)\n",
    "            rg_values.append(rg)\n",
    "            end_to_end_distances.append(end_to_end)\n",
    "        \n",
    "        # Almacenar datos de análisis\n",
    "        self.trajectory_data = {\n",
    "            'positions': np.array(trajectory),\n",
    "            'temperatures': temperatures,\n",
    "            'energies': np.array(energies),\n",
    "            'radius_of_gyration': np.array(rg_values),\n",
    "            'end_to_end_distance': np.array(end_to_end_distances)\n",
    "        }\n",
    "        \n",
    "        return self.trajectory_data\n",
    "    \n",
    "    def _generate_initial_positions(self):\n",
    "        \"\"\"Generar posiciones iniciales en forma simplificada\"\"\"\n",
    "        positions = []\n",
    "        \n",
    "        # Parámetros básicos\n",
    "        spacing = 0.15  # nm entre átomos\n",
    "        \n",
    "        atom_index = 0\n",
    "        for i in range(self.num_residues):\n",
    "            if i == 0:\n",
    "                # Primer residuo: N-CA-C\n",
    "                positions.append(Vec3(atom_index * spacing, 0, 0))\n",
    "                positions.append(Vec3((atom_index + 1) * spacing, 0, 0))\n",
    "                positions.append(Vec3((atom_index + 2) * spacing, 0, 0))\n",
    "                atom_index += 3\n",
    "            elif i == self.num_residues - 1:\n",
    "                # Último residuo: CA-C-O\n",
    "                positions.append(Vec3(atom_index * spacing, 0, 0))\n",
    "                positions.append(Vec3((atom_index + 1) * spacing, 0, 0))\n",
    "                positions.append(Vec3((atom_index + 2) * spacing, 0, 0))\n",
    "                atom_index += 3\n",
    "            else:\n",
    "                # Residuos intermedios: CA-C\n",
    "                positions.append(Vec3(atom_index * spacing, 0, 0))\n",
    "                positions.append(Vec3((atom_index + 1) * spacing, 0, 0))\n",
    "                atom_index += 2\n",
    "        \n",
    "        return positions\n",
    "    \n",
    "    def _calculate_radius_of_gyration(self, positions):\n",
    "        \"\"\"Calcular radio de giro (Rg) de la proteína\"\"\"\n",
    "        # Usar todas las posiciones para el cálculo\n",
    "        if len(positions) == 0:\n",
    "            return 0.0\n",
    "            \n",
    "        center_of_mass = np.mean(positions, axis=0)\n",
    "        rg_squared = np.mean(np.sum((positions - center_of_mass)**2, axis=1))\n",
    "        return np.sqrt(rg_squared)\n",
    "    \n",
    "    def _calculate_end_to_end_distance(self, positions):\n",
    "        \"\"\"Calcular distancia extremo a extremo\"\"\"\n",
    "        if len(positions) < 2:\n",
    "            return 0.0\n",
    "        start_pos = positions[0]\n",
    "        end_pos = positions[-1]\n",
    "        return np.linalg.norm(end_pos - start_pos)\n",
    "    \n",
    "    def create_3d_visualization(self):\n",
    "        \"\"\"Crear visualización 3D únicamente\"\"\"\n",
    "        if not self.trajectory_data:\n",
    "            raise ValueError(\"No hay datos de simulación. Ejecute simulate_temperature_denaturation() primero.\")\n",
    "        \n",
    "        # Crear figura 3D\n",
    "        fig = go.Figure()\n",
    "        \n",
    "        positions = self.trajectory_data['positions']\n",
    "        \n",
    "        # Estructura inicial\n",
    "        initial_pos = positions[0]\n",
    "        fig.add_trace(\n",
    "            go.Scatter3d(\n",
    "                x=initial_pos[:, 0], \n",
    "                y=initial_pos[:, 1], \n",
    "                z=initial_pos[:, 2],\n",
    "                mode='lines+markers',\n",
    "                marker=dict(size=6, color='blue', opacity=0.8),\n",
    "                line=dict(width=4, color='blue'),\n",
    "                name='Estructura Inicial (300K)'\n",
    "            )\n",
    "        )\n",
    "        \n",
    "        # Estructura final (desnaturalizada)\n",
    "        final_pos = positions[-1]\n",
    "        fig.add_trace(\n",
    "            go.Scatter3d(\n",
    "                x=final_pos[:, 0], \n",
    "                y=final_pos[:, 1], \n",
    "                z=final_pos[:, 2],\n",
    "                mode='lines+markers',\n",
    "                marker=dict(size=6, color='red', opacity=0.8),\n",
    "                line=dict(width=4, color='red'),\n",
    "                name='Estructura Desnaturalizada (400K)'\n",
    "            )\n",
    "        )\n",
    "        \n",
    "        # Configurar layout\n",
    "        fig.update_layout(\n",
    "            title={\n",
    "                'text': \"Desnaturalización de Caseína - Visualización 3D\",\n",
    "                'x': 0.5,\n",
    "                'font': {'size': 18}\n",
    "            },\n",
    "            scene=dict(\n",
    "                xaxis_title=\"X (nm)\",\n",
    "                yaxis_title=\"Y (nm)\",\n",
    "                zaxis_title=\"Z (nm)\",\n",
    "                bgcolor=\"rgba(0,0,0,0)\",\n",
    "                xaxis=dict(backgroundcolor=\"rgba(0,0,0,0)\", gridcolor=\"lightgray\"),\n",
    "                yaxis=dict(backgroundcolor=\"rgba(0,0,0,0)\", gridcolor=\"lightgray\"),\n",
    "                zaxis=dict(backgroundcolor=\"rgba(0,0,0,0)\", gridcolor=\"lightgray\")\n",
    "            ),\n",
    "            width=800,\n",
    "            height=600,\n",
    "            showlegend=True,\n",
    "            legend=dict(\n",
    "                yanchor=\"top\",\n",
    "                y=0.99,\n",
    "                xanchor=\"left\",\n",
    "                x=0.01\n",
    "            )\n",
    "        )\n",
    "        \n",
    "        return fig\n",
    "    \n",
    "    def generate_analysis_report(self):\n",
    "        \"\"\"Generar reporte de análisis de la simulación\"\"\"\n",
    "        if not self.trajectory_data:\n",
    "            return \"No hay datos de simulación disponibles.\"\n",
    "        \n",
    "        data = self.trajectory_data\n",
    "        \n",
    "        # Calcular cambios porcentuales\n",
    "        rg_change = ((data['radius_of_gyration'][-1] - data['radius_of_gyration'][0]) / \n",
    "                     data['radius_of_gyration'][0]) * 100\n",
    "        \n",
    "        energy_change = data['energies'][-1] - data['energies'][0]\n",
    "        \n",
    "        end_to_end_change = ((data['end_to_end_distance'][-1] - data['end_to_end_distance'][0]) / \n",
    "                            data['end_to_end_distance'][0]) * 100\n",
    "        \n",
    "        report = f\"\"\"\n",
    "REPORTE DE ANÁLISIS DE DESNATURALIZACIÓN DE CASEÍNA\n",
    "================================================\n",
    "\n",
    "Parámetros de Simulación:\n",
    "- Número de residuos: {self.num_residues}\n",
    "- Rango de temperatura: {data['temperatures'][0]:.1f}K - {data['temperatures'][-1]:.1f}K\n",
    "- Número de pasos de temperatura: {len(data['temperatures'])}\n",
    "\n",
    "\n",
    "Interpretación:\n",
    "\"\"\"\n",
    "        \n",
    "        if rg_change > 10:\n",
    "            report += \"- La proteína muestra una expansión significativa, indicando desnaturalización.\\n\"\n",
    "        elif rg_change > 5:\n",
    "            report += \"- La proteína muestra una expansión moderada.\\n\"\n",
    "        else:\n",
    "            report += \"- La proteína mantiene una estructura compacta.\\n\"\n",
    "        \n",
    "        if energy_change > 0:\n",
    "            report += \"- El aumento de energía indica desestabilización de la estructura.\\n\"\n",
    "        else:\n",
    "            report += \"- La energía se mantiene estable o disminuye.\\n\"\n",
    "        \n",
    "        return report\n",
    "\n",
    "def main():\n",
    "    \"\"\"Función principal para ejecutar la simulación mejorada\"\"\"\n",
    "    \n",
    "    # Crear instancia de simulación\n",
    "    sim = CaseinSimulation(num_residues=30, include_secondary_structure=True)\n",
    "    \n",
    "    # Crear sistema\n",
    "    topology, system = sim.create_realistic_casein()\n",
    "    \n",
    "    # Ejecutar simulación\n",
    "    trajectory_data = sim.simulate_temperature_denaturation(\n",
    "        temp_start=300*kelvin,\n",
    "        temp_end=400*kelvin,\n",
    "        temp_steps=15,\n",
    "        simulation_steps=3000\n",
    "    )\n",
    "    \n",
    "    # Crear visualización 3D únicamente\n",
    "    fig = sim.create_3d_visualization()\n",
    "    fig.show()\n",
    "    \n",
    "    # Generar reporte\n",
    "    report = sim.generate_analysis_report()\n",
    "    print(report)\n",
    "    \n",
    "    return sim\n",
    "\n",
    "if __name__ == \"__main__\":\n",
    "    casein_sim = main()"
   ]
  },
  {
   "cell_type": "code",
   "execution_count": 36,
   "id": "d385949c",
   "metadata": {},
   "outputs": [
    {
     "name": "stdout",
     "output_type": "stream",
     "text": [
      "🧬 Creando proteína de caseína con estructura plegada inicial...\n",
      "🌡️ Simulando desnaturalización térmica gradual...\n",
      "✅ Minimización de energía completada\n",
      "📊 Generando visualización del desplegamiento...\n"
     ]
    },
    {
     "data": {
      "application/vnd.plotly.v1+json": {
       "config": {
        "plotlyServerURL": "https://plot.ly"
       },
       "data": [
        {
         "line": {
          "color": "darkblue",
          "width": 4
         },
         "marker": {
          "color": "darkblue",
          "opacity": 0.8,
          "size": 8
         },
         "mode": "lines+markers",
         "name": "Proteína Nativa (300K)",
         "type": "scatter3d",
         "x": {
          "bdata": "AAAAAMTY8T8AAABg/xLzPwAAAEAJSus/AAAAoGAKyz8AAACgFJ7evwAAAIAJ3PC/AAAAwNpm778AAABg2q7ivwAAAICNQOe/AAAAoEEb8L8AAAAgerbwvwAAAMCsJvO/AAAAACwe8r8AAACgzdLpvwAAAICw0N6/AAAAYKpH3L8AAACAAxXjvwAAAEC1UuS/AAAA4ApB4b8AAAAg6Vq+vwAAACAJiMU/AAAAAFSc3T8AAABgFBjnPwAAAIB8BfA/AAAAYC/K8z8=",
          "dtype": "f8"
         },
         "y": {
          "bdata": "AAAAAEXz4D8AAABAN53wPwAAAMCFs/Y/AAAAAPqU9z8AAAAAJ4LzPwAAAGDxVek/AAAAAAfA0T8AAABg0lvQvwAAAKB0lKG/AAAAgGAY378AAADARr3gvwAAAGCCit2/AAAAYMMBhb8AAABAylydPwAAAGD5Ddo/AAAAANKSnT8AAADgyYXjvwAAACDqtvK/AAAA4LMM8L8AAABgA/XzvwAAAOB0hfS/AAAAwCzN9b8AAAAAxt70vwAAAIDHe/O/AAAAgDzQ6r8=",
          "dtype": "f8"
         },
         "z": {
          "bdata": "AAAAYP4g2D8AAADAprrEPwAAAOA5UcK/AAAA4AsowL8AAACABcOxvwAAAOC8Z8M/AAAAgJSK2D8AAAAAS3XMPwAAAKD3PMq/AAAAACE8nr8AAACgETXWPwAAAIAiO+g/AAAAoOw55D8AAABAq/PFPwAAAEAYxZQ/AAAAoFVez78AAAAAx1SvPwAAAMBeKNA/AAAA4BbT0L8AAAAgZZmovwAAAADwCsO/AAAAgOqhs78AAABgtaGdPwAAAEBdVcQ/AAAAQOs51z8=",
          "dtype": "f8"
         }
        }
       ],
       "frames": [
        {
         "data": [
          {
           "line": {
            "color": "rgb(0, 0, 255)",
            "width": 4
           },
           "marker": {
            "color": "rgb(0, 0, 255)",
            "opacity": 0.8,
            "size": 8
           },
           "mode": "lines+markers",
           "name": "Temperatura: 300K",
           "type": "scatter3d",
           "x": {
            "bdata": "AAAAAMTY8T8AAABg/xLzPwAAAEAJSus/AAAAoGAKyz8AAACgFJ7evwAAAIAJ3PC/AAAAwNpm778AAABg2q7ivwAAAICNQOe/AAAAoEEb8L8AAAAgerbwvwAAAMCsJvO/AAAAACwe8r8AAACgzdLpvwAAAICw0N6/AAAAYKpH3L8AAACAAxXjvwAAAEC1UuS/AAAA4ApB4b8AAAAg6Vq+vwAAACAJiMU/AAAAAFSc3T8AAABgFBjnPwAAAIB8BfA/AAAAYC/K8z8=",
            "dtype": "f8"
           },
           "y": {
            "bdata": "AAAAAEXz4D8AAABAN53wPwAAAMCFs/Y/AAAAAPqU9z8AAAAAJ4LzPwAAAGDxVek/AAAAAAfA0T8AAABg0lvQvwAAAKB0lKG/AAAAgGAY378AAADARr3gvwAAAGCCit2/AAAAYMMBhb8AAABAylydPwAAAGD5Ddo/AAAAANKSnT8AAADgyYXjvwAAACDqtvK/AAAA4LMM8L8AAABgA/XzvwAAAOB0hfS/AAAAwCzN9b8AAAAAxt70vwAAAIDHe/O/AAAAgDzQ6r8=",
            "dtype": "f8"
           },
           "z": {
            "bdata": "AAAAYP4g2D8AAADAprrEPwAAAOA5UcK/AAAA4AsowL8AAACABcOxvwAAAOC8Z8M/AAAAgJSK2D8AAAAAS3XMPwAAAKD3PMq/AAAAACE8nr8AAACgETXWPwAAAIAiO+g/AAAAoOw55D8AAABAq/PFPwAAAEAYxZQ/AAAAoFVez78AAAAAx1SvPwAAAMBeKNA/AAAA4BbT0L8AAAAgZZmovwAAAADwCsO/AAAAgOqhs78AAABgtaGdPwAAAEBdVcQ/AAAAQOs51z8=",
            "dtype": "f8"
           }
          }
         ],
         "name": "Frame 0"
        },
        {
         "data": [
          {
           "line": {
            "color": "rgb(0, 0, 249)",
            "width": 4
           },
           "marker": {
            "color": "rgb(0, 0, 249)",
            "opacity": 0.8,
            "size": 8
           },
           "mode": "lines+markers",
           "name": "Temperatura: 311K",
           "type": "scatter3d",
           "x": {
            "bdata": "AAAAoKmp8T8AAADgsH/zPwAAAIBOPuo/AAAAYIgL0D8AAABgcz7dvwAAAOD6gPC/AAAAQGte778AAADAs4DjvwAAAMBPSue/AAAA4GGM8L8AAABgnsjxvwAAAMACAPO/AAAAgIzI8b8AAACAYoHpvwAAAKB4ud6/AAAAwC2e3b8AAAAAhBfjvwAAAOAESOS/AAAAIFul4L8AAAAghJzEvwAAACCTMcY/AAAA4Dhb3D8AAADAUmzmPwAAAIAzmO8/AAAAQOcn8z8=",
            "dtype": "f8"
           },
           "y": {
            "bdata": "AAAAwGZB4z8AAADg2mfwPwAAAOBN9vY/AAAAQJlH+D8AAABAu9/yPwAAAAA3A+k/AAAAALIE0j8AAAAgg2zQvwAAAMATJbO/AAAAoBFV3r8AAACApFfhvwAAAABNsN6/AAAAQPgWY78AAADAdIqtvwAAAOBNs9Y/AAAA4OCjmz8AAACAgPrivwAAACBQ+PK/AAAA4P1p778AAACgbebzvwAAAIBYt/S/AAAAAIa39b8AAABgkeD0vwAAAKDNUvO/AAAAQCpe678=",
            "dtype": "f8"
           },
           "z": {
            "bdata": "AAAAgDZs1z8AAACgxeW1PwAAAGDspMW/AAAAwKNVxL8AAACgF/61vwAAAIBIIMk/AAAAQD0+2T8AAAAAt03PPwAAAKBMV8e/AAAAoJQRpr8AAACAzX3VPwAAAGBssek/AAAAwIel5D8AAAAgnoLHPwAAAEDogps/AAAAYOLSz78AAACABMe2PwAAAACkc9E/AAAAgK7e0L8AAABAPZe6vwAAAIDFK8O/AAAAgHBmvr8AAACgeI+ZPwAAACCxosY/AAAA4EjR1j8=",
            "dtype": "f8"
           }
          }
         ],
         "name": "Frame 1"
        },
        {
         "data": [
          {
           "line": {
            "color": "rgb(0, 0, 244)",
            "width": 4
           },
           "marker": {
            "color": "rgb(0, 0, 244)",
            "opacity": 0.8,
            "size": 8
           },
           "mode": "lines+markers",
           "name": "Temperatura: 321K",
           "type": "scatter3d",
           "x": {
            "bdata": "AAAAgFYK8T8AAAAAqeDzPwAAAMB32+k/AAAAYGd90T8AAACAOT/bvwAAAGC/Ze+/AAAAoMt58L8AAACgMOHjvwAAAMD+jui/AAAAIKS+8L8AAABAkbbyvwAAAIDuQPO/AAAAAE/f8b8AAADAN+rovwAAAACxcOC/AAAAIK7G3L8AAAAABS7kvwAAAKDHouO/AAAAoLd14L8AAABgGc3GvwAAAKC488Y/AAAAoODj2z8AAABgz17mPwAAAMAPGe4/AAAAIMEH8z8=",
            "dtype": "f8"
           },
           "y": {
            "bdata": "AAAAQIUO5T8AAADgbcXwPwAAAGCAafY/AAAAwH97+D8AAAAAtrDyPwAAAEB4x+k/AAAAoI1A0j8AAABADU3RvwAAAOBIxbi/AAAAAAxu3b8AAABAglvivwAAAGA1ReC/AAAAYGtneT8AAACA+DCxvwAAAGAN59U/AAAAwLpwmT8AAABgkQTivwAAAAAErPK/AAAAIF+R778AAABg9P3zvwAAAADp9/S/AAAAAJrO9b8AAABgnFD1vwAAAGAmevO/AAAAgEgB678=",
            "dtype": "f8"
           },
           "z": {
            "bdata": "AAAAQAcR2D8AAADgfXaTPwAAAGBUOsO/AAAAIJQAx78AAACgsGHCvwAAAADE5M0/AAAAIEbf2z8AAADgIQ7PPwAAAEBK/sG/AAAAgDJDuL8AAACgf8LUPwAAAGB1reo/AAAAgLtm5T8AAACgW93HPwAAAODF4Kk/AAAAwBH0zL8AAAAA3Ri7PwAAAIAqSNA/AAAAgB/R0r8AAACAnU+7vwAAAEDsesa/AAAAwGJRub8AAABgJF6gPwAAAID+gcI/AAAAABSG1T8=",
            "dtype": "f8"
           }
          }
         ],
         "name": "Frame 2"
        },
        {
         "data": [
          {
           "line": {
            "color": "rgb(0, 0, 239)",
            "width": 4
           },
           "marker": {
            "color": "rgb(0, 0, 239)",
            "opacity": 0.8,
            "size": 8
           },
           "mode": "lines+markers",
           "name": "Temperatura: 332K",
           "type": "scatter3d",
           "x": {
            "bdata": "AAAAAJ9V8D8AAAAAkUH0PwAAAKCcHOw/AAAAgHUkzz8AAACgRzXbvwAAAGAU7e2/AAAAgCGA8L8AAAAA+1/kvwAAACBEZ+i/AAAAwBcf8b8AAADAF/zyvwAAAACNq/O/AAAAAC3b8b8AAAAAkUrqvwAAAGAeB+G/AAAAIMmf2r8AAABArtjlvwAAAICJ7OO/AAAAQDYO4b8AAACA+4XGvwAAAGAg+Mg/AAAAADlb3j8AAADAkiPmPwAAACD/Hu0/AAAAwLE48z8=",
            "dtype": "f8"
           },
           "y": {
            "bdata": "AAAAAKSw5T8AAAAgGcrwPwAAAADzXvU/AAAAILl7+D8AAABgAOzyPwAAAGDZFek/AAAAoN0K0j8AAABgrpzSvwAAACBjWMK/AAAAAPn5378AAABAekTkvwAAAIDJ7eC/AAAAgNW3iD8AAACgIgK5vwAAAIDSlNg/AAAA4LZajz8AAACA0urhvwAAAGBOPPK/AAAAYBgR8L8AAACgPiz0vwAAAIBF4vW/AAAAAHRm9r8AAADARbr1vwAAAAAQwPO/AAAA4MYr678=",
            "dtype": "f8"
           },
           "z": {
            "bdata": "AAAAwAPZ2D8AAACgwRSnvwAAAGDxeMC/AAAAIAoTwL8AAABgvYTHvwAAACAg89A/AAAAwJzY3j8AAAAgSS7QPwAAAMCi7sG/AAAAwK0Swb8AAACgafjTPwAAAMAXRuo/AAAAoNUv5T8AAADgR7HGPwAAAKBebrU/AAAAQEEXyL8AAACABLy2PwAAAADdhtA/AAAA4BVz0L8AAAAgEQzAvwAAAMCUqce/AAAAQJvqwr8AAACAka+VPwAAAKCOTMY/AAAAIN531T8=",
            "dtype": "f8"
           }
          }
         ],
         "name": "Frame 3"
        },
        {
         "data": [
          {
           "line": {
            "color": "rgb(0, 0, 233)",
            "width": 4
           },
           "marker": {
            "color": "rgb(0, 0, 233)",
            "opacity": 0.8,
            "size": 8
           },
           "mode": "lines+markers",
           "name": "Temperatura: 342K",
           "type": "scatter3d",
           "x": {
            "bdata": "AAAAoNDK7z8AAADgQTP0PwAAAEDCM+0/AAAAgFkMzj8AAADAv73avwAAAKBCPO2/AAAAgHRW8L8AAADAbHnmvwAAAKBrFeq/AAAAwHCR8b8AAAAAh+vyvwAAAMB42PO/AAAAYAGE8b8AAABgTVLsvwAAAIC2zuG/AAAAwFsK2r8AAAAgnb/lvwAAAKDdtOS/AAAAAJ5y4r8AAACgW+rDvwAAAGAsOMY/AAAAQNjf4D8AAADAmEnmPwAAAKDmw+w/AAAAwPCa8z8=",
            "dtype": "f8"
           },
           "y": {
            "bdata": "AAAAACtg5j8AAAAg6jjxPwAAAGA+fvQ/AAAAwIzg+D8AAADgkmPzPwAAAEAJPuo/AAAAADZ+0T8AAABgUnfTvwAAAEBgNci/AAAAoA7i4b8AAACgGDLlvwAAAAAE4uG/AAAAoIVRmj8AAACA2ICgvwAAAOAOBd0/AAAAIF5XhT8AAABg2CTivwAAAADNJvG/AAAAwC1l778AAACAqeD0vwAAACD3Vfa/AAAAYBe39r8AAABAr3P1vwAAACC5c/O/AAAAgG1l7L8=",
            "dtype": "f8"
           },
           "z": {
            "bdata": "AAAAAHYY2T8AAAAgIWyyvwAAACAY6bC/AAAAQDCPsr8AAADAwF/HvwAAACDvMNA/AAAAIOs24D8AAABAMYTTPwAAAECg0ca/AAAAIH6CxL8AAADAZXnSPwAAAKBCb+k/AAAAoN4r5T8AAADAoOHGPwAAAIDVLKw/AAAA4Hhbwr8AAABg5dCuPwAAAKDOD9I/AAAAoO3A1L8AAADge3PBvwAAACC3V8+/AAAAYCcdxL8AAACAS0R0vwAAAGDfk8Y/AAAAQF6M1D8=",
            "dtype": "f8"
           }
          }
         ],
         "name": "Frame 4"
        },
        {
         "data": [
          {
           "line": {
            "color": "rgb(0, 0, 228)",
            "width": 4
           },
           "marker": {
            "color": "rgb(0, 0, 228)",
            "opacity": 0.8,
            "size": 8
           },
           "mode": "lines+markers",
           "name": "Temperatura: 353K",
           "type": "scatter3d",
           "x": {
            "bdata": "AAAAoN+w7z8AAAAA1h70PwAAAAAEv+s/AAAAoMGz0D8AAADAXDrdvwAAAEAIRe2/AAAAYCnP778AAABAQk/mvwAAACDA/+u/AAAAIPf28b8AAACg13/yvwAAAKAtuvO/AAAAYDaw8b8AAADAd6HuvwAAAADQsOK/AAAAYOxH2L8AAADAYP3lvwAAAED1/+a/AAAAwNfm4L8AAAAgtNi/vwAAAMChIMw/AAAAwGrJ3j8AAAAAYJrlPwAAAGCmXuw/AAAAIJR/9D8=",
            "dtype": "f8"
           },
           "y": {
            "bdata": "AAAA4Fvv5T8AAABA4KnxPwAAACBVRfU/AAAAoEg2+T8AAAAALBvzPwAAAGDip+o/AAAAQFRa0T8AAABgtfnWvwAAACBI+cq/AAAAgC734r8AAABAEbPmvwAAAECm6eG/AAAAgE61ir8AAABgDs2gvwAAAKCkY+A/AAAAgBTRq78AAADAIjfjvwAAAEApAfC/AAAAQL74778AAAAgk9D1vwAAAGBIP/a/AAAAYAVd978AAADAfHf0vwAAAEAWV/S/AAAAoDsI7r8=",
            "dtype": "f8"
           },
           "z": {
            "bdata": "AAAAACA52j8AAABgkiq6vwAAAACmWay/AAAAoKBmpb8AAADgBEjDvwAAAKAaas0/AAAAgKgO4D8AAADgtSDXPwAAAIDSUsu/AAAAoPRfxL8AAAAA1pPLPwAAAMAeIek/AAAA4JcA5D8AAABgtTDIPwAAAABgF6A/AAAAwEH8vL8AAADAjumiPwAAAAB329I/AAAAAHNY1L8AAAAAO368vwAAAMBLh9C/AAAAYOmXyb8AAABAg/x1vwAAAKAZDss/AAAAYK9W1D8=",
            "dtype": "f8"
           }
          }
         ],
         "name": "Frame 5"
        },
        {
         "data": [
          {
           "line": {
            "color": "rgb(10, 0, 244)",
            "width": 4
           },
           "marker": {
            "color": "rgb(10, 0, 244)",
            "opacity": 0.8,
            "size": 8
           },
           "mode": "lines+markers",
           "name": "Temperatura: 363K",
           "type": "scatter3d",
           "x": {
            "bdata": "AAAAoMAE8D8AAABAKh70PwAAAECzMeo/AAAAwP+Ozj8AAADAHpnbvwAAAGC8D+2/AAAAgNkv8L8AAABAsJvlvwAAAMDcvOu/AAAAwOlm8r8AAADAL57yvwAAAKAoUfO/AAAAoIr58b8AAADg0VvuvwAAACAxPOG/AAAAgAXh1b8AAADgJofkvwAAACBxTOa/AAAA4JJn4b8AAABAX3a6vwAAAMAhXsw/AAAAALeQ3z8AAABAec3lPwAAAIDp6es/AAAAoM369D8=",
            "dtype": "f8"
           },
           "y": {
            "bdata": "AAAAQFu45j8AAAAAyO3xPwAAAIDirvY/AAAAoJav+D8AAABgQEPzPwAAAKCol+s/AAAAwHeC0z8AAAAAMyPZvwAAAMD0zsy/AAAAgD2S5L8AAAAAYlLnvwAAAOAFyOG/AAAAANR0qr8AAAAAGnmVPwAAAGCkhuE/AAAAIBE7tb8AAACAXUblvwAAACB84u6/AAAAoPLl778AAAAAjTj2vwAAAIB2zPa/AAAAINBS978AAABAEnf0vwAAAGCv4PS/AAAAwNEa7r8=",
            "dtype": "f8"
           },
           "z": {
            "bdata": "AAAAYEz12T8AAACg4/+7vwAAAEDinbW/AAAAoPOsoL8AAABAtXzBvwAAAEDvKMw/AAAA4PgI4T8AAACg4rfWPwAAAMD6NNG/AAAAAKWZx78AAADgqEnEPwAAACBa5+g/AAAAYP164z8AAAAgiu3EPwAAACDdIqG/AAAAgEOJt78AAABA65C1PwAAAOBnDtQ/AAAAgAZd1b8AAAAghPnHvwAAAEC+hda/AAAAQIpRz78AAACAUSl3PwAAAKA4t80/AAAA4LDA1D8=",
            "dtype": "f8"
           }
          }
         ],
         "name": "Frame 6"
        },
        {
         "data": [
          {
           "line": {
            "color": "rgb(43, 0, 211)",
            "width": 4
           },
           "marker": {
            "color": "rgb(43, 0, 211)",
            "opacity": 0.8,
            "size": 8
           },
           "mode": "lines+markers",
           "name": "Temperatura: 374K",
           "type": "scatter3d",
           "x": {
            "bdata": "AAAAAKs17z8AAABAeEnzPwAAACAJP+Y/AAAAoPFtzj8AAABAvqrZvwAAAAC2zOu/AAAAYC/o7r8AAADgFynlvwAAAED/Key/AAAAwGO28r8AAACAP/PxvwAAAODoFfO/AAAAIAnh8r8AAABgD9DtvwAAAEDJbtq/AAAAwGm11r8AAADgBizivwAAAACsgeO/AAAAQOqd4L8AAABgmpmtvwAAAEBXZ8Y/AAAAgK8Y4T8AAAAAe9jmPwAAAEA63ek/AAAAYJJC9T8=",
            "dtype": "f8"
           },
           "y": {
            "bdata": "AAAAID635T8AAAAgRgPyPwAAAAC4sPY/AAAA4Esv+D8AAACAK1rzPwAAAADkiOw/AAAAYLVt1D8AAABAB+/ZvwAAAMD/s8m/AAAAoAoh5r8AAABgkEXpvwAAACBs7+K/AAAAwAVPrb8AAABAdYOgPwAAAKCTcd8/AAAA4OZqrr8AAACA8n/nvwAAAKCZCu+/AAAAoMKK7r8AAADghd72vwAAAGC57va/AAAAIGRp9r8AAABA1SD0vwAAAGA0NPW/AAAAwKgl7r8=",
            "dtype": "f8"
           },
           "z": {
            "bdata": "AAAAQD572T8AAABgZbK4vwAAAOCwpMO/AAAAIIt8ob8AAADAgyy6vwAAAGC18s8/AAAAANr74D8AAADgmuTYPwAAAIAhG9O/AAAAYL/cxr8AAADAWOjGPwAAAMAlSOk/AAAAQPy/5D8AAACge4zEPwAAAKDVdre/AAAAwMs8qr8AAAAARVbFPwAAACAt8M8/AAAA4Lpk0r8AAABgQ97PvwAAAEDeBd+/AAAAgBfbw78AAABAfZp2PwAAAIAZxdA/AAAAwD1n1D8=",
            "dtype": "f8"
           }
          }
         ],
         "name": "Frame 7"
        },
        {
         "data": [
          {
           "line": {
            "color": "rgb(77, 0, 177)",
            "width": 4
           },
           "marker": {
            "color": "rgb(77, 0, 177)",
            "opacity": 0.8,
            "size": 8
           },
           "mode": "lines+markers",
           "name": "Temperatura: 384K",
           "type": "scatter3d",
           "x": {
            "bdata": "AAAAwB+X7z8AAADghivzPwAAAICasec/AAAA4Obdzz8AAADgRP7YvwAAAOC2kuq/AAAAoKkS7r8AAACgDA7nvwAAACBHRey/AAAAoBKR878AAACAhLLxvwAAAEAz6/K/AAAAQJSj878AAACAm5DuvwAAAEC1ENm/AAAAgO4r178AAAAAy3XivwAAAKAbh+G/AAAAIFY+4L8AAACAZj+ovwAAAIA2ubs/AAAAgHFe4j8AAACAxQDmPwAAAKDaOeg/AAAA4H4p9T8=",
            "dtype": "f8"
           },
           "y": {
            "bdata": "AAAAoBEx5j8AAACghw/zPwAAAOAIWvc/AAAAgFRQ9z8AAACAsirzPwAAAGBN9O0/AAAAQOzJ1z8AAADAFrjavwAAAMDpLdC/AAAAgG02578AAABgCqHpvwAAAIAY7uG/AAAAgEHWsL8AAADA3uuyPwAAAMDZIto/AAAAoPe2rb8AAACAWxLnvwAAAAACjvC/AAAAwG5N7L8AAAAA1E33vwAAAOAF6PW/AAAAQL7d9b8AAACAKlTyvwAAAACe9PS/AAAAAPME778=",
            "dtype": "f8"
           },
           "z": {
            "bdata": "AAAAIB+i2T8AAAAgD5qCvwAAACBV0su/AAAAQOpgpr8AAABA5B22vwAAAOCP5NA/AAAAwIeY3T8AAAAAqJ3bPwAAAIAd19K/AAAAoDesvb8AAAAgbd3OPwAAAEAO/uo/AAAAANLG5T8AAAAgOe7JPwAAAIDfQ7u/AAAAYG0KhL8AAACAK1nHPwAAAIAESsw/AAAA4AyP0L8AAAAAoZLVvwAAACCENOO/AAAAIPlCxL8AAADA976uvwAAAKCsYtM/AAAAADSe1j8=",
            "dtype": "f8"
           }
          }
         ],
         "name": "Frame 8"
        },
        {
         "data": [
          {
           "line": {
            "color": "rgb(110, 0, 144)",
            "width": 4
           },
           "marker": {
            "color": "rgb(110, 0, 144)",
            "opacity": 0.8,
            "size": 8
           },
           "mode": "lines+markers",
           "name": "Temperatura: 395K",
           "type": "scatter3d",
           "x": {
            "bdata": "AAAAQAds8D8AAABgQWjzPwAAAICB3OY/AAAAAJ2RzD8AAADAKdbZvwAAAEBfbOq/AAAAQMeZ678AAADAj/XpvwAAAECTCO2/AAAAQDDO878AAACAqlLxvwAAAIA+r/K/AAAAAGn69L8AAABAJZXuvwAAAOCd5Ni/AAAAwEnb2b8AAACgV9vhvwAAACAPJuG/AAAA4KMF4L8AAAAgeHOAvwAAAIAo7qY/AAAAYNhn4j8AAACg3QfnPwAAAKBKxuc/AAAAgMJ29T8=",
            "dtype": "f8"
           },
           "y": {
            "bdata": "AAAAIE9h5j8AAADghiT0PwAAAOC3Kvc/AAAAoORy9j8AAAAgVyzzPwAAAGBX5+4/AAAAgMr41z8AAABg1dXWvwAAAMAZTNO/AAAAIBA86b8AAAAgfPHpvwAAAGCwcuG/AAAAoG/2rr8AAABAuGjAPwAAAGCl4NU/AAAAgPidv78AAABgrvPlvwAAAOBiVvG/AAAAALpP7L8AAADgFoj3vwAAAOBhwfW/AAAAQGyV9b8AAACAshfxvwAAAIDsaPS/AAAAIM1V8L8=",
            "dtype": "f8"
           },
           "z": {
            "bdata": "AAAA4OJU1D8AAAAgMQahPwAAAODJ7su/AAAAII35qr8AAADg7My7vwAAAEBy9NE/AAAAYGwt3D8AAABAUhPcPwAAAACF69C/AAAAANH7vr8AAAAA8qDJPwAAAKCxaus/AAAAAPH05z8AAADA24zPPwAAAED7pri/AAAA4AFasj8AAACA8lTMPwAAAACsEMM/AAAAgEYA0L8AAAAAIzXcvwAAAACQ4uW/AAAAQFJzwb8AAADgHwW6vwAAAMC/8NY/AAAAoL+62D8=",
            "dtype": "f8"
           }
          }
         ],
         "name": "Frame 9"
        },
        {
         "data": [
          {
           "line": {
            "color": "rgb(144, 0, 110)",
            "width": 4
           },
           "marker": {
            "color": "rgb(144, 0, 110)",
            "opacity": 0.8,
            "size": 8
           },
           "mode": "lines+markers",
           "name": "Temperatura: 405K",
           "type": "scatter3d",
           "x": {
            "bdata": "AAAAICCT8D8AAABA5+zzPwAAAAB6+uY/AAAAwP5Oyj8AAABg+GvbvwAAAKCmWOi/AAAAgIvU6b8AAACAhSjtvwAAAKCY8+2/AAAAYA8Z9L8AAABg4L/yvwAAAIC7ZPK/AAAAAG5p9L8AAACgGB3wvwAAAIB1pd6/AAAAgKRD3r8AAAAAVKjhvwAAAACmZOG/AAAAYKvv3L8AAACAwSGpvwAAAKA0c5M/AAAAIFFT4z8AAADgC23nPwAAACAEi+k/AAAAQAtY9T8=",
            "dtype": "f8"
           },
           "y": {
            "bdata": "AAAAQFm65j8AAACAM670PwAAAAD2Kfc/AAAAoEN39T8AAADA/H3zPwAAAMB3G+8/AAAAoOd62T8AAACAdT3XvwAAAIA61Nq/AAAAgKXz6L8AAAAAXwnpvwAAAEBVb+C/AAAAgAQ7pb8AAAAAHqWzPwAAAMDkstE/AAAAIO1zxb8AAABAnnflvwAAAGCJiPG/AAAAYMnJ7L8AAAAgsY33vwAAAKCsZfW/AAAAALcu9b8AAABAf5HuvwAAAMBCEPS/AAAA4K7L8L8=",
            "dtype": "f8"
           },
           "z": {
            "bdata": "AAAAIM41zj8AAADAakeYPwAAAGDrQs6/AAAAAA08qb8AAABgHBe8vwAAAED0stQ/AAAAIFId3D8AAAAg05zcPwAAAOBwWs6/AAAAgAKrvr8AAACAOoDIPwAAAOAIA+w/AAAAwFOw6D8AAABgo3zGPwAAACBFPa6/AAAAoCh/vT8AAADgW87SPwAAAGCI/cA/AAAAYAXQz78AAABgdjzdvwAAAIBh0ui/AAAAQNQ1xL8AAABg7HKEvwAAAOARa9s/AAAAALGs2z8=",
            "dtype": "f8"
           }
          }
         ],
         "name": "Frame 10"
        },
        {
         "data": [
          {
           "line": {
            "color": "rgb(177, 0, 77)",
            "width": 4
           },
           "marker": {
            "color": "rgb(177, 0, 77)",
            "opacity": 0.8,
            "size": 8
           },
           "mode": "lines+markers",
           "name": "Temperatura: 416K",
           "type": "scatter3d",
           "x": {
            "bdata": "AAAAoCJI8T8AAADAdOPzPwAAAABSIeg/AAAA4H+vyz8AAABAFPzdvwAAAMCORue/AAAA4Ivx578AAAAA45/uvwAAAOA94O6/AAAAwOMD9b8AAAAA35fzvwAAAAALW/K/AAAAgPuB9L8AAAAAwijwvwAAAED5Qt6/AAAAQAFr3r8AAAAACJPgvwAAAGBqR+G/AAAA4DUO3L8AAACATH2xvwAAACA7P6M/AAAAgHlN4j8AAACgy37mPwAAAACpmuk/AAAAgPpe9T8=",
            "dtype": "f8"
           },
           "y": {
            "bdata": "AAAAoOb85T8AAADAW4H1PwAAAIDnc/c/AAAAYJ2m9D8AAABggcXzPwAAAGB5Su8/AAAAIP+B2T8AAADgiNnWvwAAAOAx2eC/AAAAgL346r8AAAAgZ//ovwAAAICHVt6/AAAAoCwUnj8AAACA9TiRvwAAAGAAasw/AAAAQHvN0L8AAADA95PjvwAAACDQFPK/AAAAwEJO7L8AAACgvIv3vwAAAMAPifW/AAAAACFY9L8AAACgkWjrvwAAACCWCfS/AAAAIFPO8b8=",
            "dtype": "f8"
           },
           "z": {
            "bdata": "AAAAYKUTxT8AAADgDcl8vwAAAKBJqsy/AAAAALCAk78AAABgYMy0vwAAACC1z9g/AAAAICMW3z8AAAAg8XLWPwAAAACfg8y/AAAAwNCkwb8AAADAJG3GPwAAAIDLcus/AAAAgB/i5j8AAABgfxKUPwAAAGDWab2/AAAAYF4mvD8AAADgW3vVPwAAAOA84bg/AAAAYJGc0b8AAADAVQ/bvwAAAIAha+u/AAAAgBTWzL8AAABAYnu4PwAAAABzQd8/AAAA4Dcs3D8=",
            "dtype": "f8"
           }
          }
         ],
         "name": "Frame 11"
        },
        {
         "data": [
          {
           "line": {
            "color": "rgb(211, 0, 43)",
            "width": 4
           },
           "marker": {
            "color": "rgb(211, 0, 43)",
            "opacity": 0.8,
            "size": 8
           },
           "mode": "lines+markers",
           "name": "Temperatura: 426K",
           "type": "scatter3d",
           "x": {
            "bdata": "AAAAoP398j8AAABgf0zzPwAAAOCupug/AAAAwLLTyT8AAAAAtNLdvwAAAKDiteW/AAAA4HS95b8AAACA/+TsvwAAACD7Du+/AAAAAOM49L8AAABALb70vwAAAIAn5fG/AAAAIB4Q9L8AAAAA2UDwvwAAAECgTeG/AAAAAN+L2b8AAAAA2VXevwAAAOCeLuO/AAAAgBhP2b8AAACguni0vwAAAMDAB7k/AAAA4FF94T8AAAAA5d/lPwAAAKC3n+o/AAAAgGLn9T8=",
            "dtype": "f8"
           },
           "y": {
            "bdata": "AAAAwJAr5j8AAADAO3f1PwAAAKAGWvc/AAAAoOe59D8AAABgJ2b0PwAAAODnx/A/AAAAoMSh2D8AAACAHcHSvwAAAIAMCOK/AAAAALnF678AAACA3zXpvwAAAIClHtq/AAAAoEpsrz8AAAAgEh68vwAAAACOqM8/AAAAoOD61b8AAADAEkjivwAAAEBPp/G/AAAAIMkV778AAADAxQD3vwAAAKD8L/W/AAAAIMTs878AAACAdQvrvwAAAGD85/O/AAAAAI2M8b8=",
            "dtype": "f8"
           },
           "z": {
            "bdata": "AAAAAOxoyz8AAAAAXtOgvwAAAEC9r86/AAAAgBYNkL8AAADgZvanvwAAAOBREt0/AAAAgAcn4T8AAACgwYbRPwAAAKDxgMO/AAAAYByauL8AAACgbPDKPwAAAODGDuw/AAAA4FmQ5T8AAABg5EK0vwAAACCrG7y/AAAAIJRKvj8AAAAAwe/YPwAAAOD5PKk/AAAAICaw0b8AAABgoQzavwAAACA4yOq/AAAAoN+c1b8AAADgH+rGPwAAAGA8JeA/AAAAoKeN2D8=",
            "dtype": "f8"
           }
          }
         ],
         "name": "Frame 12"
        },
        {
         "data": [
          {
           "line": {
            "color": "rgb(244, 0, 10)",
            "width": 4
           },
           "marker": {
            "color": "rgb(244, 0, 10)",
            "opacity": 0.8,
            "size": 8
           },
           "mode": "lines+markers",
           "name": "Temperatura: 437K",
           "type": "scatter3d",
           "x": {
            "bdata": "AAAA4FU09D8AAADAR7jyPwAAAODVOuk/AAAAQBE0yj8AAABg1pDdvwAAAKCGx+a/AAAAYEq45L8AAACgJ8jqvwAAAABHT+y/AAAAYB2n878AAABgsk72vwAAACDDXPK/AAAAoFJP878AAACgICPwvwAAAABj/uO/AAAAoCkn2L8AAABA8QPevwAAAAC/MOW/AAAAoC591r8AAACgTYrCvwAAAIBMhsI/AAAA4Hsk3z8AAAAAxFfnPwAAACDpues/AAAAwKPY9j8=",
            "dtype": "f8"
           },
           "y": {
            "bdata": "AAAAIDZa5T8AAAAgjGb0PwAAAKD12Pc/AAAAAF+d9D8AAACgZAL1PwAAAIBTUfE/AAAAYNK52T8AAADAg9fQvwAAAKBODeK/AAAAIAdV7r8AAAAg3ePqvwAAAEDmkte/AAAAACd5tj8AAADAP2OxvwAAAICVPcs/AAAAAGxl1r8AAADAAkTivwAAACDl7PC/AAAAIGhf8L8AAACA/ez1vwAAAOC5ePS/AAAAANI/878AAADAkrLrvwAAAODXJ/O/AAAA4JQ08b8=",
            "dtype": "f8"
           },
           "z": {
            "bdata": "AAAAYCe6zz8AAADgeMawvwAAAIBTyM6/AAAAYGngkL8AAACAAtWnPwAAAOC2seA/AAAA4MIN4j8AAAAA/SXQPwAAAKDrg8m/AAAAAHX5ur8AAABg9eTRPwAAACD4zuo/AAAAIMOv4z8AAACAhaq6vwAAAEC9McG/AAAAAAZ9xT8AAABggAjYPwAAACB0i6Q/AAAA4J0I0L8AAACA8mPcvwAAAGAtjuq/AAAAAAXg1b8AAABAg6jFPwAAAABR1OE/AAAA4PZD1T8=",
            "dtype": "f8"
           }
          }
         ],
         "name": "Frame 13"
        },
        {
         "data": [
          {
           "line": {
            "color": "rgb(255, 6, 0)",
            "width": 4
           },
           "marker": {
            "color": "rgb(255, 6, 0)",
            "opacity": 0.8,
            "size": 8
           },
           "mode": "lines+markers",
           "name": "Temperatura: 447K",
           "type": "scatter3d",
           "x": {
            "bdata": "AAAAQNKz9D8AAACgWvvyPwAAAMAoFuk/AAAAoE50wT8AAABgLSjfvwAAAKD7DOi/AAAAgBP65r8AAADACbTnvwAAAKACK+u/AAAAgDO38r8AAABgi3/3vwAAAMDbvPK/AAAAADGu878AAADA2YrwvwAAAOB0rea/AAAAgIne0r8AAADAwXbdvwAAAABi2Oa/AAAAoJtZ278AAACA3zTGvwAAAIB5nsM/AAAAIJV12T8AAABACADoPwAAAMBpzek/AAAA4GTX9z8=",
            "dtype": "f8"
           },
           "y": {
            "bdata": "AAAAIHU/5j8AAAAgQkHzPwAAAECkU/g/AAAAYKpH9D8AAAAAUGL1PwAAAKDU4/I/AAAAIGxH2T8AAADgxbLQvwAAAEDXEeO/AAAAgOxt778AAAAgeDfrvwAAAGAJr9W/AAAAwEcbsT8AAADAXo2rvwAAAECJg8s/AAAAoIxW178AAACgOBbhvwAAAICKAfG/AAAA4M4J8r8AAABgD0X2vwAAAODgaPS/AAAAgA4A9L8AAAAg/7bqvwAAAKDO1fK/AAAA4H7q8L8=",
            "dtype": "f8"
           },
           "z": {
            "bdata": "AAAAoAM/zj8AAABgwc9vvwAAAIDk/c+/AAAAAExhRT8AAAAgGffDPwAAACApuuE/AAAAwIhy4D8AAABAWVnQPwAAACBzts2/AAAAAFSFsr8AAACAOMLYPwAAAOBsxek/AAAAoCdb4z8AAAAApQi6vwAAAOD/TM+/AAAAgC93uj8AAADAXv7UPwAAAGDaPqM/AAAA4IVn0r8AAABgmkDbvwAAAMCXA+i/AAAA4ELr078AAADg+4u+PwAAAOASqOE/AAAA4Olw1T8=",
            "dtype": "f8"
           }
          }
         ],
         "name": "Frame 14"
        },
        {
         "data": [
          {
           "line": {
            "color": "rgb(255, 14, 0)",
            "width": 4
           },
           "marker": {
            "color": "rgb(255, 14, 0)",
            "opacity": 0.8,
            "size": 8
           },
           "mode": "lines+markers",
           "name": "Temperatura: 458K",
           "type": "scatter3d",
           "x": {
            "bdata": "AAAAoEcz9T8AAACA5zrzPwAAACAHbOc/AAAAIB1xtj8AAACAA0LdvwAAAODSQem/AAAAAC6k5r8AAACAOyzlvwAAAIAopuu/AAAAoIhA8b8AAAAA5Bf4vwAAAABh8/O/AAAA4Egc9L8AAADAqLPwvwAAAEAoRui/AAAAoIGV0L8AAADAsd/evwAAAAD3O+i/AAAAIBrU2b8AAAAAeU68vwAAAOAyVMg/AAAAQDhD1T8AAABALZLpPwAAAGAjSek/AAAAoCLL9z8=",
            "dtype": "f8"
           },
           "y": {
            "bdata": "AAAAwNbX6D8AAADAd17yPwAAAKDRRvg/AAAAgNyz8z8AAAAAwan2PwAAAICys/M/AAAAwIF92D8AAACA54vIvwAAAMDRzuO/AAAAYKK37r8AAACg8mPsvwAAAADKgdO/AAAAoKf1tD8AAABgOm65vwAAAEAagcc/AAAAICDP1L8AAAAAKaLivwAAAOCFj/G/AAAAoF4Y878AAACg8zj3vwAAAKDtW/S/AAAAgOZ29b8AAACgBZHrvwAAAMCIevO/AAAAAO/Y8L8=",
            "dtype": "f8"
           },
           "z": {
            "bdata": "AAAAYOQ3yz8AAAAgMWShPwAAAIBRe86/AAAAoHZxlD8AAADgZobMPwAAAKAhSeI/AAAA4Epr4D8AAADAjAzVPwAAACAHI8e/AAAA4M6Ksr8AAAAgxX7bPwAAAGAF9ec/AAAAYMAH4j8AAABglji6vwAAAADv/8i/AAAAQPu5pT8AAACgMDTXPwAAACC6R54/AAAAgA4E1r8AAADgmUTdvwAAAGCTFue/AAAAYGzyzr8AAACg1TS7PwAAACC24OE/AAAAICsl1z8=",
            "dtype": "f8"
           }
          }
         ],
         "name": "Frame 15"
        },
        {
         "data": [
          {
           "line": {
            "color": "rgb(255, 23, 0)",
            "width": 4
           },
           "marker": {
            "color": "rgb(255, 23, 0)",
            "opacity": 0.8,
            "size": 8
           },
           "mode": "lines+markers",
           "name": "Temperatura: 468K",
           "type": "scatter3d",
           "x": {
            "bdata": "AAAAQJYZ9T8AAAAAhcjyPwAAAAAA3OU/AAAAgPrxtD8AAADgv13evwAAACAFROm/AAAAIOyv578AAACA7b3jvwAAAEA/f+y/AAAAgMMD8b8AAAAAWZ73vwAAAOBPufS/AAAAgE/3878AAADg5ozwvwAAAKAtYui/AAAAIGqVyb8AAABAN2XdvwAAACA6Eue/AAAAoDM6278AAAAg25+5vwAAAKC/3cM/AAAAoP7G1j8AAABAHM/oPwAAAEC2Cus/AAAAgJ5I+D8=",
            "dtype": "f8"
           },
           "y": {
            "bdata": "AAAAoOFm6j8AAAAAgSLyPwAAAACwFfg/AAAAwM7N8z8AAADgHb32PwAAAODuXPM/AAAA4HlZ3D8AAABAJi3IvwAAAKDLS+W/AAAAYErl7b8AAACAoEbtvwAAAMD3J9G/AAAAAOFhwj8AAAAguly9vwAAAIBCNLY/AAAAQLVY1r8AAACgaZLkvwAAAIBPifK/AAAAwJDe878AAADgePv4vwAAAKBmm/S/AAAAgHdN9r8AAADATZLpvwAAAMCP/fO/AAAAIGjk8L8=",
            "dtype": "f8"
           },
           "z": {
            "bdata": "AAAAgBGoxj8AAABAqoVnPwAAACBIms+/AAAA4Goopj8AAADggC/PPwAAAGAy3OE/AAAAgOvk3z8AAABAsOrVPwAAAOCC3Mu/AAAAwJkbqb8AAABgqAvePwAAAOCFO+c/AAAA4DBa4z8AAAAgQrm9vwAAAIBujsu/AAAA4Aw9lb8AAABA9ErQPwAAAMAOCb4/AAAAYPS71r8AAACgsDThvwAAAOA9cOa/AAAAoDhfzL8AAACAuQmkPwAAACDdD+E/AAAAIOAl1z8=",
            "dtype": "f8"
           }
          }
         ],
         "name": "Frame 16"
        },
        {
         "data": [
          {
           "line": {
            "color": "rgb(255, 32, 0)",
            "width": 4
           },
           "marker": {
            "color": "rgb(255, 32, 0)",
            "opacity": 0.8,
            "size": 8
           },
           "mode": "lines+markers",
           "name": "Temperatura: 479K",
           "type": "scatter3d",
           "x": {
            "bdata": "AAAAoBy+9D8AAACAxzXzPwAAAACxVeM/AAAAQB1evT8AAADA5tzdvwAAAEBkV+i/AAAA4KOP6L8AAAAgTAPlvwAAAIBuAu6/AAAAIKiO8L8AAABAGDr3vwAAAMDsGfS/AAAAwGlF878AAACg9knxvwAAAOB6kOa/AAAA4BEKy78AAADA/QngvwAAACCrt+W/AAAAAKUc3b8AAABAPS+8vwAAACBZAsY/AAAAYPca1T8AAAAAh1HqPwAAAGDpZe0/AAAAYKJ7+D8=",
            "dtype": "f8"
           },
           "y": {
            "bdata": "AAAAIL8E6j8AAACAKU/yPwAAAECQk/c/AAAAIA0p9D8AAABAlJT3PwAAAIAB9/M/AAAAAPP/1j8AAACg0GHRvwAAAOB7Rue/AAAAwPrh7b8AAABgCqztvwAAAIBvhdG/AAAAIEVGyz8AAADgBg7CvwAAAGAl8JS/AAAAQINU178AAAAARIrmvwAAAIAWbvO/AAAAYG3u9L8AAAAAIkH4vwAAAGCLKva/AAAAAJ2T9r8AAADgETbqvwAAAMDoA/S/AAAA4OUg8r8=",
            "dtype": "f8"
           },
           "z": {
            "bdata": "AAAAYHbMtz8AAABgjiSevwAAAODVNMW/AAAAwGxGuD8AAADgU9vKPwAAAMBYUuA/AAAAYDxr3T8AAADgRWzUPwAAAOBa7se/AAAAQCpbkr8AAABAL4TgPwAAAKBe6+c/AAAAoC8t4T8AAACAduVcvwAAAMByzMq/AAAAoOXAur8AAADgM7zHPwAAAIC2bcQ/AAAAIOxD178AAABAxiDivwAAAABlzeW/AAAAgFFJyb8AAABAUOqNPwAAAGDSZd8/AAAAAO/o1D8=",
            "dtype": "f8"
           }
          }
         ],
         "name": "Frame 17"
        },
        {
         "data": [
          {
           "line": {
            "color": "rgb(255, 41, 0)",
            "width": 4
           },
           "marker": {
            "color": "rgb(255, 41, 0)",
            "opacity": 0.8,
            "size": 8
           },
           "mode": "lines+markers",
           "name": "Temperatura: 489K",
           "type": "scatter3d",
           "x": {
            "bdata": "AAAAQOKB9D8AAAAgWIvxPwAAACB+0eI/AAAAoFzjwD8AAAAAotfYvwAAAIDrWue/AAAAAAb75r8AAABAFJTlvwAAAOAf3uy/AAAAgKmZ7r8AAACAtcj2vwAAAGDEpvS/AAAAIDUo8r8AAACg2PbxvwAAAKDSP+a/AAAAoEc8x78AAACgdrLbvwAAACA6KuO/AAAAAF7P3r8AAABgRoC3vwAAAMAZJMQ/AAAAYMWd1T8AAABgI8jqPwAAAKA5bOw/AAAAgIoO+D8=",
            "dtype": "f8"
           },
           "y": {
            "bdata": "AAAAQHDg5z8AAAAA+iLyPwAAAGCrfPc/AAAAgK0k9T8AAADAE9X4PwAAAOB87/M/AAAAQP+b2j8AAADg3c/VvwAAAAAzJOe/AAAAoNo27r8AAACAkATsvwAAAACwL9K/AAAAQI1dzj8AAAAgPmHJvwAAAOCIybC/AAAAQI9H1r8AAACAATjmvwAAAACSuPO/AAAAIF7U9L8AAAAgoXP4vwAAAEA+5fe/AAAAoLcR9r8AAACAE/3rvwAAAACtCvS/AAAAgPbD878=",
            "dtype": "f8"
           },
           "z": {
            "bdata": "AAAAgO5swD8AAAAAAjKmvwAAAIDNR7u/AAAAAGkIuj8AAACAfY/QPwAAAABsPd0/AAAAwOWj3T8AAAAASn3RPwAAAIA27cC/AAAAwGfEmz8AAACARHXgPwAAAABoJec/AAAAIBJ+4j8AAAAAyfaPPwAAAIA1AMq/AAAAQIXjwb8AAAAAN023PwAAAECLwMY/AAAAgBVp278AAADAHbrjvwAAAECHdOa/AAAA4NhMxr8AAACgXdqlvwAAAGCNI9k/AAAAwKX90z8=",
            "dtype": "f8"
           }
          }
         ],
         "name": "Frame 18"
        },
        {
         "data": [
          {
           "line": {
            "color": "rgb(255, 50, 0)",
            "width": 4
           },
           "marker": {
            "color": "rgb(255, 50, 0)",
            "opacity": 0.8,
            "size": 8
           },
           "mode": "lines+markers",
           "name": "Temperatura: 500K",
           "type": "scatter3d",
           "x": {
            "bdata": "AAAAACrY8z8AAAAAkgDwPwAAACAlVOI/AAAAABoLtT8AAADAl1TYvwAAAGBjkea/AAAAQMts5b8AAADg5HDmvwAAAIBcbOq/AAAAwKFY7L8AAACgKh73vwAAAGDOqfS/AAAAoJ6v8b8AAACAhobxvwAAAGC/yuW/AAAAAPZ0zL8AAADAr7javwAAAOAsNOK/AAAAoNEm4r8AAACglcrFvwAAAGDd4ME/AAAAAFM40z8AAACA1uHpPwAAAIC+i+4/AAAAAG8M+D8=",
            "dtype": "f8"
           },
           "y": {
            "bdata": "AAAAwHe/5j8AAADAQn3yPwAAAMAoivc/AAAAQIXk9T8AAADA3C76PwAAAGDTd/U/AAAAIMTA3D8AAABA/6XavwAAAKCRlua/AAAAAKNT778AAAAASFzqvwAAAIDamsy/AAAAwPsT0j8AAAAg7nW4vwAAAIBppbS/AAAA4JwE1r8AAADAJn7jvwAAAMCnkfS/AAAAQKHi9b8AAABg2nf5vwAAACCAJfi/AAAAIKLi9b8AAAAgzl3svwAAAOBf5vO/AAAAwCLK9L8=",
            "dtype": "f8"
           },
           "z": {
            "bdata": "AAAAQCN7wT8AAABgqY+xvwAAAKC8f7K/AAAA4PBLpT8AAABAxSLVPwAAAABDT9k/AAAAQMps3T8AAADAYtLMPwAAAKCHY8C/AAAAoPlTtD8AAABgVY/gPwAAAACEkuU/AAAAAHIF4j8AAAAgO1+2PwAAAIAHE82/AAAAwMmiyL8AAAAgoHqVvwAAAMCPz8Y/AAAAQD1U3b8AAADgSw7ivwAAAODp/ea/AAAA4IL8xb8AAADAcNW9vwAAAKDqod0/AAAAgJKR1T8=",
            "dtype": "f8"
           }
          }
         ],
         "name": "Frame 19"
        }
       ],
       "layout": {
        "annotations": [
         {
          "bgcolor": "rgba(255,255,255,0.8)",
          "borderwidth": 1,
          "font": {
           "color": "black",
           "size": 12
          },
          "showarrow": false,
          "text": "🌡️ Azul: Estructura nativa compacta<br>🔥 Rojo: Proteína desnaturalizada<br>📏 Tamaño constante de aminoácidos",
          "x": 0.02,
          "xanchor": "left",
          "xref": "paper",
          "y": 0.98,
          "yanchor": "top",
          "yref": "paper"
         }
        ],
        "height": 800,
        "scene": {
         "aspectratio": {
          "x": 1,
          "y": 1,
          "z": 0.8
         },
         "bgcolor": "rgba(240,240,240,0.1)",
         "camera": {
          "eye": {
           "x": 1.5,
           "y": 1.5,
           "z": 1.2
          }
         },
         "xaxis": {
          "gridcolor": "lightgray",
          "gridwidth": 1,
          "range": [
           -3.0058326721191406,
           3.1103399991989136
          ],
          "showgrid": true,
          "title": {
           "text": "X (nm)"
          }
         },
         "yaxis": {
          "gridcolor": "lightgray",
          "gridwidth": 1,
          "range": [
           -3.180475115776062,
           3.1854318380355835
          ],
          "showgrid": true,
          "title": {
           "text": "Y (nm)"
          }
         },
         "zaxis": {
          "gridcolor": "lightgray",
          "gridwidth": 1,
          "range": [
           -2.3568274974823,
           2.6056418418884277
          ],
          "showgrid": true,
          "title": {
           "text": "Z (nm)"
          }
         }
        },
        "template": {
         "data": {
          "bar": [
           {
            "error_x": {
             "color": "#2a3f5f"
            },
            "error_y": {
             "color": "#2a3f5f"
            },
            "marker": {
             "line": {
              "color": "#E5ECF6",
              "width": 0.5
             },
             "pattern": {
              "fillmode": "overlay",
              "size": 10,
              "solidity": 0.2
             }
            },
            "type": "bar"
           }
          ],
          "barpolar": [
           {
            "marker": {
             "line": {
              "color": "#E5ECF6",
              "width": 0.5
             },
             "pattern": {
              "fillmode": "overlay",
              "size": 10,
              "solidity": 0.2
             }
            },
            "type": "barpolar"
           }
          ],
          "carpet": [
           {
            "aaxis": {
             "endlinecolor": "#2a3f5f",
             "gridcolor": "white",
             "linecolor": "white",
             "minorgridcolor": "white",
             "startlinecolor": "#2a3f5f"
            },
            "baxis": {
             "endlinecolor": "#2a3f5f",
             "gridcolor": "white",
             "linecolor": "white",
             "minorgridcolor": "white",
             "startlinecolor": "#2a3f5f"
            },
            "type": "carpet"
           }
          ],
          "choropleth": [
           {
            "colorbar": {
             "outlinewidth": 0,
             "ticks": ""
            },
            "type": "choropleth"
           }
          ],
          "contour": [
           {
            "colorbar": {
             "outlinewidth": 0,
             "ticks": ""
            },
            "colorscale": [
             [
              0,
              "#0d0887"
             ],
             [
              0.1111111111111111,
              "#46039f"
             ],
             [
              0.2222222222222222,
              "#7201a8"
             ],
             [
              0.3333333333333333,
              "#9c179e"
             ],
             [
              0.4444444444444444,
              "#bd3786"
             ],
             [
              0.5555555555555556,
              "#d8576b"
             ],
             [
              0.6666666666666666,
              "#ed7953"
             ],
             [
              0.7777777777777778,
              "#fb9f3a"
             ],
             [
              0.8888888888888888,
              "#fdca26"
             ],
             [
              1,
              "#f0f921"
             ]
            ],
            "type": "contour"
           }
          ],
          "contourcarpet": [
           {
            "colorbar": {
             "outlinewidth": 0,
             "ticks": ""
            },
            "type": "contourcarpet"
           }
          ],
          "heatmap": [
           {
            "colorbar": {
             "outlinewidth": 0,
             "ticks": ""
            },
            "colorscale": [
             [
              0,
              "#0d0887"
             ],
             [
              0.1111111111111111,
              "#46039f"
             ],
             [
              0.2222222222222222,
              "#7201a8"
             ],
             [
              0.3333333333333333,
              "#9c179e"
             ],
             [
              0.4444444444444444,
              "#bd3786"
             ],
             [
              0.5555555555555556,
              "#d8576b"
             ],
             [
              0.6666666666666666,
              "#ed7953"
             ],
             [
              0.7777777777777778,
              "#fb9f3a"
             ],
             [
              0.8888888888888888,
              "#fdca26"
             ],
             [
              1,
              "#f0f921"
             ]
            ],
            "type": "heatmap"
           }
          ],
          "histogram": [
           {
            "marker": {
             "pattern": {
              "fillmode": "overlay",
              "size": 10,
              "solidity": 0.2
             }
            },
            "type": "histogram"
           }
          ],
          "histogram2d": [
           {
            "colorbar": {
             "outlinewidth": 0,
             "ticks": ""
            },
            "colorscale": [
             [
              0,
              "#0d0887"
             ],
             [
              0.1111111111111111,
              "#46039f"
             ],
             [
              0.2222222222222222,
              "#7201a8"
             ],
             [
              0.3333333333333333,
              "#9c179e"
             ],
             [
              0.4444444444444444,
              "#bd3786"
             ],
             [
              0.5555555555555556,
              "#d8576b"
             ],
             [
              0.6666666666666666,
              "#ed7953"
             ],
             [
              0.7777777777777778,
              "#fb9f3a"
             ],
             [
              0.8888888888888888,
              "#fdca26"
             ],
             [
              1,
              "#f0f921"
             ]
            ],
            "type": "histogram2d"
           }
          ],
          "histogram2dcontour": [
           {
            "colorbar": {
             "outlinewidth": 0,
             "ticks": ""
            },
            "colorscale": [
             [
              0,
              "#0d0887"
             ],
             [
              0.1111111111111111,
              "#46039f"
             ],
             [
              0.2222222222222222,
              "#7201a8"
             ],
             [
              0.3333333333333333,
              "#9c179e"
             ],
             [
              0.4444444444444444,
              "#bd3786"
             ],
             [
              0.5555555555555556,
              "#d8576b"
             ],
             [
              0.6666666666666666,
              "#ed7953"
             ],
             [
              0.7777777777777778,
              "#fb9f3a"
             ],
             [
              0.8888888888888888,
              "#fdca26"
             ],
             [
              1,
              "#f0f921"
             ]
            ],
            "type": "histogram2dcontour"
           }
          ],
          "mesh3d": [
           {
            "colorbar": {
             "outlinewidth": 0,
             "ticks": ""
            },
            "type": "mesh3d"
           }
          ],
          "parcoords": [
           {
            "line": {
             "colorbar": {
              "outlinewidth": 0,
              "ticks": ""
             }
            },
            "type": "parcoords"
           }
          ],
          "pie": [
           {
            "automargin": true,
            "type": "pie"
           }
          ],
          "scatter": [
           {
            "fillpattern": {
             "fillmode": "overlay",
             "size": 10,
             "solidity": 0.2
            },
            "type": "scatter"
           }
          ],
          "scatter3d": [
           {
            "line": {
             "colorbar": {
              "outlinewidth": 0,
              "ticks": ""
             }
            },
            "marker": {
             "colorbar": {
              "outlinewidth": 0,
              "ticks": ""
             }
            },
            "type": "scatter3d"
           }
          ],
          "scattercarpet": [
           {
            "marker": {
             "colorbar": {
              "outlinewidth": 0,
              "ticks": ""
             }
            },
            "type": "scattercarpet"
           }
          ],
          "scattergeo": [
           {
            "marker": {
             "colorbar": {
              "outlinewidth": 0,
              "ticks": ""
             }
            },
            "type": "scattergeo"
           }
          ],
          "scattergl": [
           {
            "marker": {
             "colorbar": {
              "outlinewidth": 0,
              "ticks": ""
             }
            },
            "type": "scattergl"
           }
          ],
          "scattermap": [
           {
            "marker": {
             "colorbar": {
              "outlinewidth": 0,
              "ticks": ""
             }
            },
            "type": "scattermap"
           }
          ],
          "scattermapbox": [
           {
            "marker": {
             "colorbar": {
              "outlinewidth": 0,
              "ticks": ""
             }
            },
            "type": "scattermapbox"
           }
          ],
          "scatterpolar": [
           {
            "marker": {
             "colorbar": {
              "outlinewidth": 0,
              "ticks": ""
             }
            },
            "type": "scatterpolar"
           }
          ],
          "scatterpolargl": [
           {
            "marker": {
             "colorbar": {
              "outlinewidth": 0,
              "ticks": ""
             }
            },
            "type": "scatterpolargl"
           }
          ],
          "scatterternary": [
           {
            "marker": {
             "colorbar": {
              "outlinewidth": 0,
              "ticks": ""
             }
            },
            "type": "scatterternary"
           }
          ],
          "surface": [
           {
            "colorbar": {
             "outlinewidth": 0,
             "ticks": ""
            },
            "colorscale": [
             [
              0,
              "#0d0887"
             ],
             [
              0.1111111111111111,
              "#46039f"
             ],
             [
              0.2222222222222222,
              "#7201a8"
             ],
             [
              0.3333333333333333,
              "#9c179e"
             ],
             [
              0.4444444444444444,
              "#bd3786"
             ],
             [
              0.5555555555555556,
              "#d8576b"
             ],
             [
              0.6666666666666666,
              "#ed7953"
             ],
             [
              0.7777777777777778,
              "#fb9f3a"
             ],
             [
              0.8888888888888888,
              "#fdca26"
             ],
             [
              1,
              "#f0f921"
             ]
            ],
            "type": "surface"
           }
          ],
          "table": [
           {
            "cells": {
             "fill": {
              "color": "#EBF0F8"
             },
             "line": {
              "color": "white"
             }
            },
            "header": {
             "fill": {
              "color": "#C8D4E3"
             },
             "line": {
              "color": "white"
             }
            },
            "type": "table"
           }
          ]
         },
         "layout": {
          "annotationdefaults": {
           "arrowcolor": "#2a3f5f",
           "arrowhead": 0,
           "arrowwidth": 1
          },
          "autotypenumbers": "strict",
          "coloraxis": {
           "colorbar": {
            "outlinewidth": 0,
            "ticks": ""
           }
          },
          "colorscale": {
           "diverging": [
            [
             0,
             "#8e0152"
            ],
            [
             0.1,
             "#c51b7d"
            ],
            [
             0.2,
             "#de77ae"
            ],
            [
             0.3,
             "#f1b6da"
            ],
            [
             0.4,
             "#fde0ef"
            ],
            [
             0.5,
             "#f7f7f7"
            ],
            [
             0.6,
             "#e6f5d0"
            ],
            [
             0.7,
             "#b8e186"
            ],
            [
             0.8,
             "#7fbc41"
            ],
            [
             0.9,
             "#4d9221"
            ],
            [
             1,
             "#276419"
            ]
           ],
           "sequential": [
            [
             0,
             "#0d0887"
            ],
            [
             0.1111111111111111,
             "#46039f"
            ],
            [
             0.2222222222222222,
             "#7201a8"
            ],
            [
             0.3333333333333333,
             "#9c179e"
            ],
            [
             0.4444444444444444,
             "#bd3786"
            ],
            [
             0.5555555555555556,
             "#d8576b"
            ],
            [
             0.6666666666666666,
             "#ed7953"
            ],
            [
             0.7777777777777778,
             "#fb9f3a"
            ],
            [
             0.8888888888888888,
             "#fdca26"
            ],
            [
             1,
             "#f0f921"
            ]
           ],
           "sequentialminus": [
            [
             0,
             "#0d0887"
            ],
            [
             0.1111111111111111,
             "#46039f"
            ],
            [
             0.2222222222222222,
             "#7201a8"
            ],
            [
             0.3333333333333333,
             "#9c179e"
            ],
            [
             0.4444444444444444,
             "#bd3786"
            ],
            [
             0.5555555555555556,
             "#d8576b"
            ],
            [
             0.6666666666666666,
             "#ed7953"
            ],
            [
             0.7777777777777778,
             "#fb9f3a"
            ],
            [
             0.8888888888888888,
             "#fdca26"
            ],
            [
             1,
             "#f0f921"
            ]
           ]
          },
          "colorway": [
           "#636efa",
           "#EF553B",
           "#00cc96",
           "#ab63fa",
           "#FFA15A",
           "#19d3f3",
           "#FF6692",
           "#B6E880",
           "#FF97FF",
           "#FECB52"
          ],
          "font": {
           "color": "#2a3f5f"
          },
          "geo": {
           "bgcolor": "white",
           "lakecolor": "white",
           "landcolor": "#E5ECF6",
           "showlakes": true,
           "showland": true,
           "subunitcolor": "white"
          },
          "hoverlabel": {
           "align": "left"
          },
          "hovermode": "closest",
          "mapbox": {
           "style": "light"
          },
          "paper_bgcolor": "white",
          "plot_bgcolor": "#E5ECF6",
          "polar": {
           "angularaxis": {
            "gridcolor": "white",
            "linecolor": "white",
            "ticks": ""
           },
           "bgcolor": "#E5ECF6",
           "radialaxis": {
            "gridcolor": "white",
            "linecolor": "white",
            "ticks": ""
           }
          },
          "scene": {
           "xaxis": {
            "backgroundcolor": "#E5ECF6",
            "gridcolor": "white",
            "gridwidth": 2,
            "linecolor": "white",
            "showbackground": true,
            "ticks": "",
            "zerolinecolor": "white"
           },
           "yaxis": {
            "backgroundcolor": "#E5ECF6",
            "gridcolor": "white",
            "gridwidth": 2,
            "linecolor": "white",
            "showbackground": true,
            "ticks": "",
            "zerolinecolor": "white"
           },
           "zaxis": {
            "backgroundcolor": "#E5ECF6",
            "gridcolor": "white",
            "gridwidth": 2,
            "linecolor": "white",
            "showbackground": true,
            "ticks": "",
            "zerolinecolor": "white"
           }
          },
          "shapedefaults": {
           "line": {
            "color": "#2a3f5f"
           }
          },
          "ternary": {
           "aaxis": {
            "gridcolor": "white",
            "linecolor": "white",
            "ticks": ""
           },
           "baxis": {
            "gridcolor": "white",
            "linecolor": "white",
            "ticks": ""
           },
           "bgcolor": "#E5ECF6",
           "caxis": {
            "gridcolor": "white",
            "linecolor": "white",
            "ticks": ""
           }
          },
          "title": {
           "x": 0.05
          },
          "xaxis": {
           "automargin": true,
           "gridcolor": "white",
           "linecolor": "white",
           "ticks": "",
           "title": {
            "standoff": 15
           },
           "zerolinecolor": "white",
           "zerolinewidth": 2
          },
          "yaxis": {
           "automargin": true,
           "gridcolor": "white",
           "linecolor": "white",
           "ticks": "",
           "title": {
            "standoff": 15
           },
           "zerolinecolor": "white",
           "zerolinewidth": 2
          }
         }
        },
        "title": {
         "font": {
          "size": 16
         },
         "text": "Desnaturalización de Caseína: De Estructura Plegada a Lineal<br><sub>Basado en el proceso real de desplegamiento proteico</sub>",
         "x": 0.5,
         "xanchor": "center"
        },
        "updatemenus": [
         {
          "buttons": [
           {
            "args": [
             null,
             {
              "frame": {
               "duration": 600,
               "redraw": true
              },
              "fromcurrent": true,
              "transition": {
               "duration": 400,
               "easing": "cubic-in-out"
              }
             }
            ],
            "label": "▶ Iniciar Desnaturalización",
            "method": "animate"
           },
           {
            "args": [
             [
              null
             ],
             {
              "frame": {
               "duration": 0,
               "redraw": false
              },
              "mode": "immediate",
              "transition": {
               "duration": 0
              }
             }
            ],
            "label": "⏸ Pausar",
            "method": "animate"
           },
           {
            "args": [
             [
              null
             ],
             {
              "frame": {
               "duration": 0,
               "redraw": true
              },
              "mode": "immediate",
              "transition": {
               "duration": 0
              }
             }
            ],
            "label": "🔄 Reiniciar",
            "method": "animate"
           }
          ],
          "direction": "left",
          "pad": {
           "r": 10,
           "t": 100
          },
          "showactive": true,
          "type": "buttons",
          "x": 0.01,
          "xanchor": "right",
          "y": 0,
          "yanchor": "top"
         }
        ],
        "width": 1000
       }
      }
     },
     "metadata": {},
     "output_type": "display_data"
    }
   ],
   "source": [
    "from openmm.app import *\n",
    "from openmm import *\n",
    "from openmm.unit import *\n",
    "from openmm.app import PDBFile\n",
    "import numpy as np\n",
    "import plotly.graph_objects as go\n",
    "import random\n",
    "import matplotlib.pyplot as plt\n",
    "from mpl_toolkits.mplot3d import Axes3D\n",
    "import math\n",
    "\n",
    "# 1. Crear una estructura simplificada de caseína con estructura inicial plegada\n",
    "def create_simplified_casein(num_residues=30):\n",
    "    # Crear una topología y sistema vacíos\n",
    "    topology = Topology()\n",
    "    chain = topology.addChain()\n",
    "    \n",
    "    # Añadir residuos\n",
    "    for i in range(num_residues):\n",
    "        residue = topology.addResidue('ALA', chain)\n",
    "        if i == 0:\n",
    "            topology.addAtom('N', element.hydrogen, residue)\n",
    "        topology.addAtom('CA', element.carbon, residue)\n",
    "        topology.addAtom('C', element.carbon, residue)\n",
    "        if i == num_residues-1:\n",
    "            topology.addAtom('O', element.oxygen, residue)\n",
    "    \n",
    "    # Crear el sistema\n",
    "    system = System()\n",
    "    \n",
    "    # Añadir partículas\n",
    "    for i in range(num_residues*3):  # 3 átomos por residuo simplificado\n",
    "        system.addParticle(12.0 * amu)  # Masa aproximada\n",
    "    \n",
    "    # Fuerza de enlace (más flexible para permitir desplegamiento)\n",
    "    bond_force = HarmonicBondForce()\n",
    "    system.addForce(bond_force)\n",
    "    \n",
    "    # Añadir enlaces\n",
    "    for i in range(num_residues):\n",
    "        # Enlaces dentro del residuo\n",
    "        idx = i*3\n",
    "        bond_force.addBond(idx, idx+1, 0.15*nanometer, 800*kilojoule_per_mole/nanometer**2)  # N-CA\n",
    "        bond_force.addBond(idx+1, idx+2, 0.15*nanometer, 800*kilojoule_per_mole/nanometer**2)  # CA-C\n",
    "        \n",
    "        # Enlace peptídico entre residuos\n",
    "        if i < num_residues-1:\n",
    "            bond_force.addBond(idx+2, (i+1)*3, 0.15*nanometer, 800*kilojoule_per_mole/nanometer**2)  # C-N\n",
    "    \n",
    "    # Añadir fuerzas no enlazantes que mantienen la estructura compacta a baja temperatura\n",
    "    nb_force = NonbondedForce()\n",
    "    system.addForce(nb_force)\n",
    "    \n",
    "    # Añadir parámetros para interacciones débiles entre residuos distantes\n",
    "    for i in range(num_residues*3):\n",
    "        nb_force.addParticle(0.0, 0.3*nanometer, 0.1*kilojoule_per_mole)\n",
    "    \n",
    "    return topology, system\n",
    "\n",
    "# 2. Crear posiciones iniciales que imiten la estructura plegada de la imagen\n",
    "def create_folded_structure(num_residues):\n",
    "    positions = []\n",
    "    \n",
    "    # Crear una estructura plegada con loops y vueltas como en la imagen\n",
    "    # Usar escalas más grandes para evitar solapamientos\n",
    "    for i in range(num_residues):\n",
    "        t = i / max(1, num_residues - 1) * 3 * math.pi  # Parámetro para crear la estructura\n",
    "        \n",
    "        # Crear una estructura con múltiples loops y vueltas, con más separación\n",
    "        if i < num_residues // 3:\n",
    "            # Primer loop (parte superior izquierda)\n",
    "            x = 1.0 * math.cos(t * 1.5) + 0.4 * math.sin(t * 2)\n",
    "            y = 1.0 * math.sin(t * 1.5) + 0.5\n",
    "            z = 0.3 * math.cos(t * 2.5)\n",
    "        elif i < 2 * num_residues // 3:\n",
    "            # Loop central (cruzamiento)\n",
    "            x = 0.8 * math.cos(t * 0.8) - 0.3\n",
    "            y = 0.6 * math.sin(t * 1.2)\n",
    "            z = 0.4 * math.sin(t * 1.8)\n",
    "        else:\n",
    "            # Loop final (parte inferior)\n",
    "            x = 1.2 * math.cos(t * 0.6) + 0.2\n",
    "            y = 0.8 * math.sin(t * 0.6) - 0.6\n",
    "            z = 0.3 * math.cos(t * 1.2)\n",
    "        \n",
    "        # Añadir los 3 átomos por residuo con separación adecuada\n",
    "        for j in range(3):\n",
    "            # Separación mínima entre átomos del mismo residuo\n",
    "            offset_x = j * 0.15 * math.cos(i * 0.1)\n",
    "            offset_y = j * 0.15 * math.sin(i * 0.1)\n",
    "            offset_z = j * 0.1\n",
    "            positions.append(Vec3(x + offset_x, y + offset_y, z + offset_z))\n",
    "    \n",
    "    return positions\n",
    "\n",
    "# 3. Simular el proceso de desnaturalización gradual\n",
    "def simulate_denaturation(topology, system, temp_start=300*kelvin, temp_end=500*kelvin, steps=2000):\n",
    "    # Crear el integrador con más fricción para movimientos más suaves\n",
    "    integrator = LangevinMiddleIntegrator(temp_start, 2/picosecond, 0.002*picoseconds)\n",
    "    \n",
    "    # Crear la simulación\n",
    "    simulation = Simulation(topology, system, integrator)\n",
    "    \n",
    "    # Posiciones iniciales plegadas\n",
    "    positions = create_folded_structure(system.getNumParticles()//3)\n",
    "    simulation.context.setPositions(positions)\n",
    "    \n",
    "    # Verificar que las posiciones son válidas antes de minimizar\n",
    "    state = simulation.context.getState(getPositions=True)\n",
    "    pos_check = state.getPositions(asNumpy=True)\n",
    "    if np.any(np.isnan(pos_check)):\n",
    "        print(\"⚠️ Posiciones iniciales contienen NaN, regenerando...\")\n",
    "        # Crear posiciones más simples si hay problemas\n",
    "        simple_positions = []\n",
    "        for i in range(system.getNumParticles()):\n",
    "            simple_positions.append(Vec3(i*0.2, 0, 0))\n",
    "        simulation.context.setPositions(simple_positions)\n",
    "    \n",
    "    # Minimizar energía muy suavemente\n",
    "    try:\n",
    "        simulation.minimizeEnergy(tolerance=10*kilojoule_per_mole/nanometer, maxIterations=100)\n",
    "        print(\"✅ Minimización de energía completada\")\n",
    "    except Exception as e:\n",
    "        print(f\"⚠️ Error en minimización: {e}\")\n",
    "        print(\"Continuando sin minimización...\")\n",
    "    \n",
    "    # Simular aumento gradual de temperatura con más pasos\n",
    "    temps = np.linspace(temp_start.value_in_unit(kelvin), temp_end.value_in_unit(kelvin), 20)\n",
    "    trajectory = []\n",
    "    \n",
    "    for i, temp in enumerate(temps):\n",
    "        integrator.setTemperature(temp*kelvin)\n",
    "        \n",
    "        # Hacer pasos más pequeños para evitar inestabilidades\n",
    "        small_steps = max(50, steps//len(temps)//2)\n",
    "        \n",
    "        try:\n",
    "            simulation.step(small_steps)\n",
    "            \n",
    "            # Verificar estabilidad después de cada paso\n",
    "            state = simulation.context.getState(getPositions=True)\n",
    "            pos = state.getPositions(asNumpy=True).value_in_unit(nanometer)\n",
    "            \n",
    "            if np.any(np.isnan(pos)) or np.any(np.abs(pos) > 50):\n",
    "                print(f\"⚠️ Simulación inestable en temperatura {temp:.0f}K\")\n",
    "                break\n",
    "                \n",
    "            trajectory.append(pos)\n",
    "            \n",
    "        except Exception as e:\n",
    "            print(f\"⚠️ Error en simulación a {temp:.0f}K: {e}\")\n",
    "            break\n",
    "    \n",
    "    if len(trajectory) == 0:\n",
    "        print(\"⚠️ Creando trayectoria sintética debido a errores de simulación...\")\n",
    "        trajectory = create_synthetic_trajectory(system.getNumParticles()//3)\n",
    "    \n",
    "    return np.array(trajectory)\n",
    "\n",
    "# Función auxiliar para crear una trayectoria sintética si la simulación falla\n",
    "def create_synthetic_trajectory(num_residues, num_frames=20):\n",
    "    trajectory = []\n",
    "    \n",
    "    for frame in range(num_frames):\n",
    "        positions = []\n",
    "        progress = frame / (num_frames - 1)\n",
    "        \n",
    "        for i in range(num_residues):\n",
    "            # Interpolar entre estructura plegada y desplegada\n",
    "            if progress < 0.5:\n",
    "                # Estructura más compacta al inicio\n",
    "                t = i / max(1, num_residues - 1) * 2 * math.pi\n",
    "                x = (1 - progress) * (0.8 * math.cos(t * 2) + 0.3 * math.sin(t * 3)) + progress * i * 0.3\n",
    "                y = (1 - progress) * (0.8 * math.sin(t * 2)) + progress * 0.2 * math.sin(i * 0.5)\n",
    "                z = (1 - progress) * (0.4 * math.cos(t * 3)) + progress * 0.1 * math.cos(i * 0.3)\n",
    "            else:\n",
    "                # Estructura más lineal al final\n",
    "                factor = (progress - 0.5) * 2\n",
    "                x = i * 0.3 + factor * i * 0.2\n",
    "                y = 0.2 * math.sin(i * 0.5) * (1 - factor * 0.8)\n",
    "                z = 0.1 * math.cos(i * 0.3) * (1 - factor * 0.9)\n",
    "            \n",
    "            # Añadir 3 átomos por residuo\n",
    "            for j in range(3):\n",
    "                offset_x = j * 0.1\n",
    "                positions.append([x + offset_x, y, z])\n",
    "        \n",
    "        trajectory.append(np.array(positions))\n",
    "    \n",
    "    return trajectory\n",
    "\n",
    "# 4. Visualización mejorada que muestra el desplegamiento realista\n",
    "def visualize_denaturation(trajectory):\n",
    "    fig = go.Figure()\n",
    "    \n",
    "    # Calcular rangos para la caja\n",
    "    all_positions = trajectory.reshape(-1, 3)\n",
    "    margin = 1.5\n",
    "    x_range = [np.min(all_positions[:, 0]) - margin, np.max(all_positions[:, 0]) + margin]\n",
    "    y_range = [np.min(all_positions[:, 1]) - margin, np.max(all_positions[:, 1]) + margin]\n",
    "    z_range = [np.min(all_positions[:, 2]) - margin, np.max(all_positions[:, 2]) + margin]\n",
    "    \n",
    "    # Añadir frames para la animación\n",
    "    frames = []\n",
    "    for i, pos in enumerate(trajectory):\n",
    "        # Mostrar solo los carbonos alfa\n",
    "        ca_indices = [1 + 3*j for j in range(len(pos)//3)]\n",
    "        ca_pos = pos[ca_indices]\n",
    "        \n",
    "        # Cambiar solo el color gradualmente, mantener tamaño constante\n",
    "        temp_ratio = i / (len(trajectory) - 1)\n",
    "        \n",
    "        # Color de azul oscuro a rojo brillante\n",
    "        if temp_ratio < 0.3:\n",
    "            color = f'rgb(0, 0, {int(255 - 100 * temp_ratio)})'  # Azul oscuro a azul\n",
    "        elif temp_ratio < 0.7:\n",
    "            color = f'rgb({int(255 * (temp_ratio - 0.3) / 0.4)}, 0, {int(255 - 255 * (temp_ratio - 0.3) / 0.4)})'  # Azul a rojo\n",
    "        else:\n",
    "            color = f'rgb(255, {int(50 * (temp_ratio - 0.7) / 0.3)}, 0)'  # Rojo oscuro a rojo brillante\n",
    "        \n",
    "        # Mantener tamaño constante durante toda la simulación\n",
    "        line_width = 4  # Grosor constante\n",
    "        marker_size = 8  # Tamaño constante\n",
    "        \n",
    "        temp_actual = 300 + (200 * temp_ratio)\n",
    "        \n",
    "        frames.append(go.Frame(\n",
    "            data=[go.Scatter3d(\n",
    "                x=ca_pos[:,0], y=ca_pos[:,1], z=ca_pos[:,2],\n",
    "                mode='lines+markers',\n",
    "                marker=dict(\n",
    "                    size=marker_size, \n",
    "                    color=color,\n",
    "                    opacity=0.8\n",
    "                ),\n",
    "                line=dict(\n",
    "                    width=line_width, \n",
    "                    color=color\n",
    "                ),\n",
    "                name=f'Temperatura: {temp_actual:.0f}K'\n",
    "            )],\n",
    "            name=f\"Frame {i}\"\n",
    "        ))\n",
    "    \n",
    "    # Estado inicial\n",
    "    ca_indices = [1 + 3*j for j in range(len(trajectory[0])//3)]\n",
    "    ca_pos = trajectory[0][ca_indices]\n",
    "    fig.add_trace(go.Scatter3d(\n",
    "        x=ca_pos[:,0], y=ca_pos[:,1], z=ca_pos[:,2],\n",
    "        mode='lines+markers',\n",
    "        marker=dict(size=8, color='darkblue', opacity=0.8),  # Mismo tamaño que el resto\n",
    "        line=dict(width=4, color='darkblue'),  # Mismo grosor que el resto\n",
    "        name='Proteína Nativa (300K)'\n",
    "    ))\n",
    "    \n",
    "    # Configurar la visualización\n",
    "    fig.frames = frames\n",
    "    fig.update_layout(\n",
    "        title={\n",
    "            'text': \"Desnaturalización de Caseína: De Estructura Plegada a Lineal<br><sub>Basado en el proceso real de desplegamiento proteico</sub>\",\n",
    "            'x': 0.5,\n",
    "            'xanchor': 'center',\n",
    "            'font': {'size': 16}\n",
    "        },\n",
    "        scene=dict(\n",
    "            xaxis=dict(\n",
    "                title='X (nm)', \n",
    "                range=x_range,\n",
    "                showgrid=True,\n",
    "                gridcolor='lightgray',\n",
    "                gridwidth=1\n",
    "            ),\n",
    "            yaxis=dict(\n",
    "                title='Y (nm)', \n",
    "                range=y_range,\n",
    "                showgrid=True,\n",
    "                gridcolor='lightgray',\n",
    "                gridwidth=1\n",
    "            ),\n",
    "            zaxis=dict(\n",
    "                title='Z (nm)', \n",
    "                range=z_range,\n",
    "                showgrid=True,\n",
    "                gridcolor='lightgray',\n",
    "                gridwidth=1\n",
    "            ),\n",
    "            aspectratio=dict(x=1, y=1, z=0.8),\n",
    "            bgcolor='rgba(240,240,240,0.1)',\n",
    "            camera=dict(\n",
    "                eye=dict(x=1.5, y=1.5, z=1.2)\n",
    "            )\n",
    "        ),\n",
    "        updatemenus=[dict(\n",
    "            type=\"buttons\",\n",
    "            direction=\"left\",\n",
    "            pad={\"r\": 10, \"t\": 100},\n",
    "            showactive=True,\n",
    "            x=0.01,\n",
    "            xanchor=\"right\",\n",
    "            y=0,\n",
    "            yanchor=\"top\",\n",
    "            buttons=[\n",
    "                dict(\n",
    "                    label=\"▶ Iniciar Desnaturalización\",\n",
    "                    method=\"animate\",\n",
    "                    args=[None, {\n",
    "                        \"frame\": {\"duration\": 600, \"redraw\": True},  # Más lento para apreciar el proceso\n",
    "                        \"fromcurrent\": True,\n",
    "                        \"transition\": {\"duration\": 400, \"easing\": \"cubic-in-out\"}\n",
    "                    }]\n",
    "                ),\n",
    "                dict(\n",
    "                    label=\"⏸ Pausar\",\n",
    "                    method=\"animate\",\n",
    "                    args=[[None], {\n",
    "                        \"frame\": {\"duration\": 0, \"redraw\": False},\n",
    "                        \"mode\": \"immediate\",\n",
    "                        \"transition\": {\"duration\": 0}\n",
    "                    }]\n",
    "                ),\n",
    "                dict(\n",
    "                    label=\"🔄 Reiniciar\",\n",
    "                    method=\"animate\",\n",
    "                    args=[[None], {\n",
    "                        \"frame\": {\"duration\": 0, \"redraw\": True},\n",
    "                        \"mode\": \"immediate\",\n",
    "                        \"transition\": {\"duration\": 0}\n",
    "                    }]\n",
    "                )\n",
    "            ]\n",
    "        )],\n",
    "        annotations=[\n",
    "            dict(\n",
    "                text=\"🌡️ Azul: Estructura nativa compacta<br>🔥 Rojo: Proteína desnaturalizada<br>📏 Tamaño constante de aminoácidos\",\n",
    "                showarrow=False,\n",
    "                xref=\"paper\", yref=\"paper\",\n",
    "                x=0.02, y=0.98,\n",
    "                xanchor=\"left\", yanchor=\"top\",\n",
    "                font=dict(size=12, color=\"black\"),\n",
    "                bgcolor=\"rgba(255,255,255,0.8)\",\n",
    "                borderwidth=1\n",
    "            )\n",
    "        ],\n",
    "        width=1000,\n",
    "        height=800\n",
    "    )\n",
    "    \n",
    "    fig.show()\n",
    "\n",
    "# Ejecutar la simulación\n",
    "if __name__ == \"__main__\":\n",
    "    print(\"🧬 Creando proteína de caseína con estructura plegada inicial...\")\n",
    "    casein_topology, casein_system = create_simplified_casein(25)\n",
    "    \n",
    "    print(\"🌡️ Simulando desnaturalización térmica gradual...\")\n",
    "    trajectory = simulate_denaturation(casein_topology, casein_system)\n",
    "    \n",
    "    print(\"📊 Generando visualización del desplegamiento...\")\n",
    "    visualize_denaturation(trajectory)"
   ]
  },
  {
   "cell_type": "code",
   "execution_count": null,
   "id": "66bd9c1d",
   "metadata": {},
   "outputs": [],
   "source": []
  }
 ],
 "metadata": {
  "kernelspec": {
   "display_name": "bioinformatica_py",
   "language": "python",
   "name": "python3"
  },
  "language_info": {
   "codemirror_mode": {
    "name": "ipython",
    "version": 3
   },
   "file_extension": ".py",
   "mimetype": "text/x-python",
   "name": "python",
   "nbconvert_exporter": "python",
   "pygments_lexer": "ipython3",
   "version": "3.12.9"
  }
 },
 "nbformat": 4,
 "nbformat_minor": 5
}
