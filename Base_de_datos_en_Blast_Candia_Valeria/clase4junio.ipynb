{
 "cells": [
  {
   "cell_type": "code",
   "execution_count": 1,
   "id": "b93c3cab",
   "metadata": {},
   "outputs": [
    {
     "name": "stdout",
     "output_type": "stream",
     "text": [
      "¡Archivo descargado como Circovirus.fasta!\n"
     ]
    }
   ],
   "source": [
    "from Bio import Entrez\n",
    "from Bio import SeqIO\n",
    "\n",
    "# Configura tu email (NCBI lo requiere)\n",
    "Entrez.email = \"avrilcandiazarco@gmail.com\"  \n",
    "\n",
    "# Buscar y descargar el genoma de PCV1 en formato FASTA\n",
    "with Entrez.efetch(db=\"nucleotide\", id=\"NC_001792.1\", rettype=\"fasta\", retmode=\"text\") as handle:\n",
    "    seq_record = SeqIO.read(handle, \"fasta\")\n",
    "\n",
    "# Guardar en un archivo\n",
    "with open(\"Circovirus.fasta\", \"w\") as output_file:\n",
    "    SeqIO.write(seq_record, output_file, \"fasta\")\n",
    "\n",
    "print(\"¡Archivo descargado como Circovirus.fasta!\")"
   ]
  },
  {
   "cell_type": "code",
   "execution_count": 2,
   "id": "ecff238e",
   "metadata": {},
   "outputs": [
    {
     "name": "stdout",
     "output_type": "stream",
     "text": [
      "Descargando PCV1 (NC_001792.1)...\n",
      "✅ PCV1 guardado como PCV1_NC_001792.1.fasta\n",
      "Descargando PCV2 (NC_005148.1)...\n",
      "✅ PCV2 guardado como PCV2_NC_005148.1.fasta\n",
      "Descargando CAV (NC_001427.1)...\n",
      "✅ CAV guardado como CAV_NC_001427.1.fasta\n",
      "Descargando BeAnV (NC_004768.1)...\n",
      "✅ BeAnV guardado como BeAnV_NC_004768.1.fasta\n",
      "Descargando TTV (NC_002076.1)...\n",
      "✅ TTV guardado como TTV_NC_002076.1.fasta\n",
      "¡Descarga completada!\n"
     ]
    }
   ],
   "source": [
    "from Bio import Entrez, SeqIO\n",
    "import time\n",
    "\n",
    "# Configura tu email (requerido por NCBI)\n",
    "Entrez.email = \"avrilcandiazarco@gmail.com\"  \n",
    "\n",
    "# IDs de acceso de 5 virus similares a PCV1 (circovirus y otros pequeños virus de ADN)\n",
    "virus_ids = {\n",
    "    \"PCV1\": \"NC_001792.1\",               # Circovirus Porcino 1\n",
    "    \"PCV2\": \"NC_005148.1\",               # Circovirus Porcino 2\n",
    "    \"CAV\": \"NC_001427.1\",                # Circovirus Aviar\n",
    "    \"BeAnV\": \"NC_004768.1\",              # Virus del Beak and Feather (Circovirus psitácido)\n",
    "    \"TTV\": \"NC_002076.1\",                # Torque Teno Virus (similar a circovirus, infecta humanos)\n",
    "}\n",
    "\n",
    "# Descargar cada uno en formato FASTA\n",
    "for nombre, id_acceso in virus_ids.items():\n",
    "    print(f\"Descargando {nombre} ({id_acceso})...\")\n",
    "    \n",
    "    try:\n",
    "        # Descargar la secuencia\n",
    "        with Entrez.efetch(db=\"nucleotide\", id=id_acceso, rettype=\"fasta\", retmode=\"text\") as handle:\n",
    "            seq_record = SeqIO.read(handle, \"fasta\")\n",
    "        \n",
    "        # Guardar en un archivo FASTA\n",
    "        filename = f\"{nombre}_{id_acceso}.fasta\"\n",
    "        with open(filename, \"w\") as output_file:\n",
    "            SeqIO.write(seq_record, output_file, \"fasta\")\n",
    "        \n",
    "        print(f\"✅ {nombre} guardado como {filename}\")\n",
    "    \n",
    "    except Exception as e:\n",
    "        print(f\"❌ Error al descargar {nombre}: {e}\")\n",
    "    \n",
    "    time.sleep(1)  # Esperar 1 segundo para evitar sobrecargar NCBI\n",
    "\n",
    "print(\"¡Descarga completada!\")"
   ]
  },
  {
   "cell_type": "code",
   "execution_count": 4,
   "id": "a1ea52a3",
   "metadata": {},
   "outputs": [
    {
     "name": "stdout",
     "output_type": "stream",
     "text": [
      "Se encontraron 6 genomas completos de Circoviridae\n",
      "Secuencia 2967148417 añadida\n",
      "Secuencia 2967148414 añadida\n",
      "Secuencia 2967148411 añadida\n",
      "Secuencia 2967148408 añadida\n",
      "Secuencia 2967148405 añadida\n",
      "Secuencia 2967148402 añadida\n",
      "Base de datos FASTA creada: 'circoviridae_database.fasta'\n"
     ]
    }
   ],
   "source": [
    "from Bio import Entrez, SeqIO\n",
    "\n",
    "# Configurar email (requerido por NCBI)\n",
    "Entrez.email = \"mailfalso@gmail.com\"\n",
    "\n",
    "# 1. Buscar virus en la familia Circoviridae con genoma completo\n",
    "search_term = \"Circoviridae[Organism] AND complete genome[Title]\"\n",
    "handle = Entrez.esearch(db=\"nucleotide\", term=search_term, retmax=6)\n",
    "record = Entrez.read(handle)\n",
    "handle.close()\n",
    "\n",
    "ids = record[\"IdList\"]\n",
    "print(f\"Se encontraron {len(ids)} genomas completos de Circoviridae\")\n",
    "\n",
    "# 2. Descargar y guardar las secuencias en FASTA\n",
    "with open(\"circoviridae_database.fasta\", \"w\") as output_handle:\n",
    "    for id in ids:\n",
    "        try:\n",
    "            # Descargar en formato FASTA\n",
    "            fetch_handle = Entrez.efetch(db=\"nucleotide\", id=id, rettype=\"fasta\", retmode=\"text\")\n",
    "            seq = fetch_handle.read()\n",
    "            fetch_handle.close()\n",
    "            \n",
    "            # Escribir en el archivo de salida\n",
    "            output_handle.write(seq)\n",
    "            print(f\"Secuencia {id} añadida\")\n",
    "            \n",
    "        except Exception as e:\n",
    "            print(f\"Error al descargar {id}: {str(e)}\")\n",
    "        \n",
    "        # Pausa para no saturar NCBI\n",
    "        time.sleep(1)\n",
    "\n",
    "print(\"Base de datos FASTA creada: 'circoviridae_database.fasta'\")"
   ]
  },
  {
   "cell_type": "code",
   "execution_count": 5,
   "id": "b3d5eb84",
   "metadata": {},
   "outputs": [
    {
     "name": "stdout",
     "output_type": "stream",
     "text": [
      "Buscando genomas completos de Circoviridae...\n",
      "\n",
      "Se encontraron 5 genomas. Descargando...\n",
      "\n",
      "✅ 1. Cat_associated_circovirus_1_strain_POR/2015/cat/47,_complete_genome guardado como 'virus_1_Cat_associated_circovirus_1_st.fasta'\n",
      "✅ 2. Cat_associated_circovirus_1_strain_POR/2023/cat/22,_complete_genome guardado como 'virus_2_Cat_associated_circovirus_1_st.fasta'\n",
      "✅ 3. Cat_associated_circovirus_1_strain_POR/2023/cat/5,_complete_genome guardado como 'virus_3_Cat_associated_circovirus_1_st.fasta'\n",
      "✅ 4. Cat_associated_circovirus_1_strain_ROU/2021/cat/4,_complete_genome guardado como 'virus_4_Cat_associated_circovirus_1_st.fasta'\n",
      "✅ 5. Cat_associated_circovirus_1_strain_GRC/2022/cat/2.32,_complete_genome guardado como 'virus_5_Cat_associated_circovirus_1_st.fasta'\n",
      "\n",
      "¡Descarga completada! Archivos guardados individualmente.\n"
     ]
    }
   ],
   "source": [
    "from Bio import Entrez, SeqIO\n",
    "import time\n",
    "\n",
    "# Configurar email (requerido por NCBI)\n",
    "Entrez.email = \"dreckellnierdita@gmail.com\"\n",
    "\n",
    "# 1. Buscar virus en la familia Circoviridae con genoma completo\n",
    "search_term = \"Circoviridae[Organism] AND complete genome[Title]\"\n",
    "print(\"Buscando genomas completos de Circoviridae...\")\n",
    "handle = Entrez.esearch(db=\"nucleotide\", term=search_term, retmax=5)  # Solo 5 para ejemplo\n",
    "record = Entrez.read(handle)\n",
    "handle.close()\n",
    "\n",
    "ids = record[\"IdList\"]\n",
    "print(f\"\\nSe encontraron {len(ids)} genomas. Descargando...\\n\")\n",
    "\n",
    "# 2. Descargar cada secuencia en archivos individuales\n",
    "for i, virus_id in enumerate(ids, start=1):\n",
    "    try:\n",
    "        # Obtener metadatos para el nombre del archivo\n",
    "        summary = Entrez.read(Entrez.esummary(db=\"nucleotide\", id=virus_id))\n",
    "        virus_name = summary[0][\"Title\"].split(\"(\")[0].strip().replace(\" \", \"_\")\n",
    "        \n",
    "        # Descargar la secuencia\n",
    "        fetch_handle = Entrez.efetch(db=\"nucleotide\", id=virus_id, rettype=\"fasta\", retmode=\"text\")\n",
    "        seq_record = SeqIO.read(fetch_handle, \"fasta\")\n",
    "        fetch_handle.close()\n",
    "        \n",
    "        # Crear nombre de archivo único\n",
    "        filename = f\"virus_{i}_{virus_name[:30]}.fasta\"\n",
    "        \n",
    "        # Guardar en archivo individual\n",
    "        with open(filename, \"w\") as output_file:\n",
    "            SeqIO.write(seq_record, output_file, \"fasta\")\n",
    "        \n",
    "        print(f\"✅ {i}. {virus_name} guardado como '{filename}'\")\n",
    "    \n",
    "    except Exception as e:\n",
    "        print(f\"❌ Error con ID {virus_id}: {str(e)}\")\n",
    "    \n",
    "    time.sleep(1)  # Pausa para cumplir normas de NCBI\n",
    "\n",
    "print(\"\\n¡Descarga completada! Archivos guardados individualmente.\")"
   ]
  },
  {
   "cell_type": "code",
   "execution_count": null,
   "id": "3cc21e0e",
   "metadata": {},
   "outputs": [
    {
     "name": "stdout",
     "output_type": "stream",
     "text": [
      "------------------------------\n",
      "Comparar cadenas de adn\n",
      "------------------------------\n",
      "Son diferentes\n"
     ]
    }
   ],
   "source": [
    "print(\"------------------------------\")\n",
    "print(\"Comparar cadenas de adn\")\n",
    "print(\"------------------------------\")\n",
    "\n",
    "def leer_fasta(archivo):\n",
    "    with open(archivo, 'r') as f:\n",
    "        return [linea.strip() for linea in f]\n",
    "\n",
    "virusoriginal = \"Circovirus.fasta\"\n",
    "virus1 = \"virus_1_Cat_associated_circovirus_1_st.fasta\"\n",
    "\n",
    "lineas1 = leer_fasta(virusoriginal)\n",
    "lineas2 = leer_fasta(virus1)\n",
    "\n",
    "if lineas1 == lineas2:\n",
    "    print(\"Los archivos fasta son iguales en todas las líneas\")\n",
    "else:\n",
    "    print(\"Son diferentes\")"
   ]
  },
  {
   "cell_type": "code",
   "execution_count": null,
   "id": "8a6a68a5",
   "metadata": {},
   "outputs": [
    {
     "data": {
      "text/plain": [
       "'TGTACACGTCATAGTGGGCCCGCCCGGTTGTGGGAAGAGCCAGTGGGCCCGTAATTTTGC'"
      ]
     },
     "execution_count": 16,
     "metadata": {},
     "output_type": "execute_result"
    }
   ],
   "source": [
    "lineas1[]"
   ]
  },
  {
   "cell_type": "code",
   "execution_count": 13,
   "id": "e0ba42c9",
   "metadata": {},
   "outputs": [
    {
     "data": {
      "text/plain": [
       "'GATGTTTGTGTTGGCAAGTCTGTTTATTGGAAACCGCGCGGGCCTTGGTGGGACGGTTAT'"
      ]
     },
     "execution_count": 13,
     "metadata": {},
     "output_type": "execute_result"
    }
   ],
   "source": [
    "lineas2[10]"
   ]
  },
  {
   "cell_type": "code",
   "execution_count": 14,
   "id": "53fa1d49",
   "metadata": {},
   "outputs": [
    {
     "name": "stdout",
     "output_type": "stream",
     "text": [
      "Los archivos fasta son iguales en todas las líneas\n"
     ]
    }
   ],
   "source": [
    "if lineas1 == lineas1:\n",
    "    print(\"Los archivos fasta son iguales en todas las líneas\")\n",
    "else:\n",
    "    print(\"Son diferentes\")"
   ]
  },
  {
   "cell_type": "code",
   "execution_count": 1,
   "id": "ad9c8b6b",
   "metadata": {},
   "outputs": [
    {
     "name": "stderr",
     "output_type": "stream",
     "text": [
      "c:\\Users\\Alejandro Zarco\\anaconda3\\envs\\bioinformatica_py\\Lib\\site-packages\\Bio\\pairwise2.py:278: BiopythonDeprecationWarning: Bio.pairwise2 has been deprecated, and we intend to remove it in a future release of Biopython. As an alternative, please consider using Bio.Align.PairwiseAligner as a replacement, and contact the Biopython developers if you still need the Bio.pairwise2 module.\n",
      "  warnings.warn(\n"
     ]
    },
    {
     "name": "stdout",
     "output_type": "stream",
     "text": [
      "\n",
      "🔬 Referencia: NC_001792.1 (1759 nt)\n",
      "\n",
      "🦠 1. PP795594.1\n",
      "   • Identidad con NC_001792.1: 64.64%\n",
      "   • Longitud: 1746 nt\n",
      "   • Mejor alineamiento:\n",
      "ACCAGCGCACTTCGG-CAGCGGCAGCACCTCGGCAGCGTCAGTGAAAATGCCAAGCAAGAAAA-GCGGCCCGCAACCCCAT-A-AGAGGTGGGTGTTC--ACCCT-T-AAT-AATCCTTCCGAGGAGG-AGAAAAACA-A--AATAC-GG---GA--GCT-TCCA-ATC-TCCCT-----TT-T-TGATTAT-T---TTG-TT-TGCGG-AGAG-GAAGGTTTGGAAGAGGGTAGAAC--T-CCTCAC-CT-C---CAGG-GGT-TTGCG--AATTTTGCTAAGAAGCA-GACTTTT-AAC-A--AGGT-GAAGTG---GTATT--TT----GG-T----GCCCGCTGCCACATCG-AGAAAG----CGAAAGGAACCGAC---C--A-GC---AGAATAA-AGAA-TACT-G-CAGTAAAGAAG-GCCACATACTTA-T-C--G-AG-TGTGGA-GCTCCGC--G-GAACCAGGGGAAGCGCAGC---GACCTGTCT-AC-TGC-TG---TG-AG-TACCCTTTT-GGAG-A-CGG-GGTCT---TTGGTGA--CT-G-TAGC-CGAGCAG--TTC--CCTGTAACGTATGTGA-GAAATTT--CCG-C--GGGC-TGGCTG-AA----CT-T-TTGAAA-GTGA--GC-GG---GAAGATGCAGCAGC--GT-GA--TTGGAAGACA-GCT-GTAC-ACGTCA-TAGT-GG--GC-CCGC-CC-GGTTG-TGGG-AAGAGCCAGTGGGCCCGTA-AT-TT--TGC-TGA---GCCTAG--GGACAC---CT----ACT-GGAA---GC-CTAGTAGAAATAAG--T-GGTGGGAT-GGATATCATGGA-GAAG--A--AGT-TG-TTGT-TTTGGATGAT-TTTTATGGCT-GG-TTACCTTGG-GATGAT-CTACT-GAGACTG-T--GTGACC--GGTATCCATTGAC-TGTAGAGAC-T----A--AAGGGGGTACTG-TTCCTT-T----TTTG--GCCCGCA--GTATT-TTGATT-A-C-CA-GC-AATC-AGGCCCC-CC--AGGAA-TGGTACT---C-C------TCA-AC-TGC-TG-TCCCAGCTGTAGAAG-CTCTCTATCGG--AG--G-ATTACTACTT-TGCAAT-TTTGGAAGACTGCTG-GAGAACAATCCACGGAGG-T-ACCCGA-A-GGC---CGATTTG-AA-G-CAGTGGACCCACCCTGT-GC--CCTTTTCCCATATAAAATAAATTACTGAGTCTTTT-----TTG------TTAT-CA--CAT-C-GTAATG-G--T-T-TT-TAT-TT-T-TAT--T-TA-T---T-T-AG---AGG---GTCTTTTA---G-GAT-AAATTCTCTG--AATTGT-ACAT-AA-AT---AGTCAG----CCTT-ACCAC---AT----A-ATT-TTGGGCTGTGGCTGCATT-TTGGAGC-GCATA-G--CCGAGGCCTGTGTGCTCGACA-TTGGT-G-TG-GGTAT-TTA-A--A-T--GGAGCCAC-AG-CTGGTTTCTTTTATTATTTGGGTGGAACCAATCA-ATTG--TTT-GGTCC--AG-CTCAGGT-TTGGGGGTGAAGTA-CC-TGGAG--TGG--TAGGTAAAGGGCTGCCT--TA--TGGT-GT-G--GCGGG-AGGAGTAGTTAATATAGGGGTCATAGGCCAAGTTGGTGGAGGGGG-TTACAAA-GTTG--G-CATC--CAAGA-TAACAACA-G-TG--GACCC---A-ACACCTCTTT-G-ATTAG--AGGTGAT-GG-GGTC---TCTG-GGGTAAAATTCATATT--TAGCCTTTCTAATA-C-G-GTA-G-T-ATT-GGAAAGGTAGGGGT-A--GG--G--G--GTT--G--GTGCC-GC--C-TGAG-GG-G-----G--G-----G-AG---GAAC-TG---G---C-C-GATG-T--TG-AATT----TGAG-GTA-G-T--TAAC-A-T---T-CCA--A-GATGG-CTG-CGA-----GTATCCTCCTTTTATGGTGAG---TACAAATTCTGTA--GA-A-AGGCG---G-GA-ATT-GA--AGA----TACC-C-GTCT--T-T--CG---GC--G--CC--AT-CTG--TA--ACG-GT-TT-C-TGAAG-GC---GG-G---GTGT-GCCAAATATG-GTCTT--CTC-C-G--G-AGG-AT--GTTTCCAAGATGGCT--GCGG-G---G-GCGGGT-C-CTTC-TTCT--GC-G-GT---A--AC-GCCTCC--T--T----GGCCAC-G-TCATC--CTAT-A-------AA--AGTGAA---A----GA-A-GT---GCGCTGCT-GTAGTAT-T...\n",
      "\n",
      "🦠 2. PP795593.1\n",
      "   • Identidad con NC_001792.1: 64.41%\n",
      "   • Longitud: 1746 nt\n",
      "   • Mejor alineamiento:\n",
      "ACCAGCGCACTTCGG-CAGCGGCAGCACCTCGGCAGCGTCAGTGAAAATGCCAAGCAAGAAAA-GCGGCCCGCAACCCCAT-A-AGAGGTGGGTGTTC--ACCCT-T-AAT-AATCCTTCCGAGGAGG-AGAAAAACA-A--AATAC-GG---GA--GCT-TCCA-ATC-TCCCT-----TT-T-TGATTAT-T---TTG-TT-TGCGG-AGAG-GAAGGTTTGGAAGAG---GGTAGAACTCCTCA-C-CTC--CAGG-GGT-TTGCG--AATTTTGCTAAGAAGCA-GACTTTT-AAC-A--AGGT-GAAGTG---GTATT--TT----GG-T----GCCCGCTGCCACATCG-AGAAAG----CGAAAGGAACCGAC---C--A-GC---AGAATAA-AGAA-TACT-G-CAGTAAAGAAG-GCCACATACTTA-T-C--G-AG-TGTGGAGCT--CCGC--G-GAACCAGGGGAAGCGCAGC---GACCTGTCT-ACTGCTG-TGA-G-TA--C---CCTTTT-GGAG-A-CGG-GGTCT---TTGGTGA--CT-G-TAGCCG-AGCAG--TTC--CCTGTAACGTATGTGA-GAAATTT--CCG-C--GGGC-TGGCTG--AA----CT-T-TTGAAA-GTGA--GC-GG---GAAGATGCAGCAGC--GT-GA--TTGGAAGACA-GCT-GTAC-ACGTCA-TAGT-GG--GC-CCGC-CC-GGTTG-TGGG-AAGAGCCAGTGGGCCCGTA-AT-TT--TGC-TGA---GCCTAG--GGACAC---CT----ACT-GGAA---GC-CTAGTAGAAATAAG--T-GGTGGGAT-GGATATCATGGA-GAAG--A--AGT-TG-TTGT-TTTGGATGAT-TTTTATGGCTGG-TTACCTTGG-GATGAT-CTACT-GAGACTG-T--GTGACC--GGTATCCATTGAC-TGTAGAGA---C-TA--AAGGGGGTACTG-TTCCTT-T----TTTG--GCCCGCA--GTA-TT-TTG-ATTACCA-GC-AATC-AGGCCCC-CCAGGA---ATGGTACTCC--T-CA-A-------C-TGC-TG-TCCCAGCTGTAGAAG-CTCTCTATCGGAGGATTACT-AC-T-TTGCAAT-T-T-T-GGAAGACTGCTG-GAGAACAATCCACGGAGG-T-ACCCGA--AGGCCG----ATTTG-AA-G-CAG---T-GGA--CCCACCCTGTGCCC-----TT-------TTC--C--CATATAAAATAAATTA-CT-GAGTCTTTTTTG--T-TA-TCACATCGTAATGGTTTT-TAT-T--T-T-T--ATT-T-ATTT---AG-AGG-GTCTTTTA---G-GAT-AAATTCTCTG--AATTGT-ACAT-AA-AT---AGTCAG----CCTT-ACCAC---AT----A-ATT-TTGGGCTGTGGCTGCATT-TTGGAGC-GCATA-G--CCGAGGCCTGTGTGCTCGACA-TTGGT-G-TG-GGTAT-TTA-A--A-T--GGAGCCAC-AG-CTGGTTTCTTTTATTATTTGGGTGGAACCAATCA-ATTG--TTT-GGTCC--AG-CTCAGGT-TTGGGGGTGAAGTA-CC-TGGAG--TGG--TAGGTAAAGGGCTGCCT--TA--TGGT-GT-G--GCGGG-AGGAGTAGTTAATATAGGGGTCAT--AGGC-CAAGTTGG-TGGAGGGGGTTACAAAGTTGG-CATC--CAAGA-TAACAACAGTGGA--C--CC----A-ACACCTCTTT-G-ATTAG--A-G-GT-GA-TGGGGTCTC-TGG--GGTAAAATTCAT-ATTTAGCCTTTCTAATA-C-G-GTA-G-T-ATT-GGAAAGGTAGGGGT-AG--GG--G--GT-TGGTGC-CGC----CT-G-A----G--GG-G-----G--G-----G-AG---GAAC-TG---G---C-C-GATG-T--TG-AATT----TGAG-GTA-G-T--TAAC-A-T---T-CCA--A-GATGG-CTG-CG-A----GTATCCTCCTTTTATGGTGAG---TACAAATTCTGTA--GA-A-AGGCG---G-GA-ATT-GA--AGA----TACC-C-GTCT--T-T--CG---GC--G--CC--AT-CTG--TA--ACG-GT-TT-C-TGAAG-GC---GG-G---GTGT-GCCAAATATG-GTCTT--CTC-C-G--G-AGG-AT--GTTTCCAAGATGGCT--GCGG-G---G-GCGGGT-C-CTTC-TTCT--GC-G-GT---A--AC-GCCTCC--T--T----GGCCAC-G-TCATC--CTAT-A-------AA--AGTGAA---A----GA-A-GT---GCGCTGCT-GTAGTAT-T...\n",
      "\n",
      "🦠 3. PP795592.1\n",
      "   • Identidad con NC_001792.1: 64.47%\n",
      "   • Longitud: 1746 nt\n",
      "   • Mejor alineamiento:\n",
      "ACCAGCGCACTTCGG-CAGCGGCAGCACCTCGGCAGCGTCAGTGAAAATGCCAAGCAAGAAAA-GCGGCCCGCAACCCCAT-A-AGAGGTGGGTGTTC--ACCCT-T-AAT-AATCCTTCCGAGGAGG-AGAAAAACA-A--AATAC-GG---GA--GCT-TCCA-ATC-TCCCT-----TT-T-TGATTAT-T---TTG-TT-TGCGG-AGAG-GAAGGTTTGGAAGAG---GGTAGAACTCCTCA-C-CTC--CAGG-GGT-TTGCG--AATTTTGCTAAGAAGCA-GACTTTT-AAC-A--AGGT-GAAGTG---GTATT--TT----GG-T----GCCCGCTGCCACATCG-AGAAAG----CGAAAGGAACCGAC---C--A-GC---AGAATAA-AGAA-TACT-G-CAGTAAAGAAG-GCCACATACTTA-T-C--G-AG-TGTGGAGCT--CCGC--G-GAACCAGGGGAAGCGCAGC---GACCTGTCT-ACTGCTG-TGA-G-TA--C---CCTTTT-GGAG-A-CGG-GGTCT---TTGGTGA--CT-G-TAGCCG-AGCAG--TTC--CCTGTAACGTATGTGA-GAAATTT--CCG-C--GGGC-TGGCTG--AA----CT-T-TTGAAA-GTGA--GC-GG---GAAGATGCAGCAGC--GT-GA--TTGGAAGACA-GCT-GTAC-ACGTCA-TAGT-GG--GC-CCGC-CC-GGTTG-TGGG-AAGAGCCAGTGGGCCCGTA-AT-TT--TGC-TGA---GCCTAG--GGACAC---CT----ACT-GGAA---GC-CTAGTAGAAATAAG--T-GGTGGGAT-GGATATCATGGA-GAAG--A--AGT-TG-TTGT-TTTGGATGAT-TTTTATGGCTGG-TTACCTTGG-GATGAT-CTACT-GAGACTG-T--GTGACC--GGTATCCATTGAC-TGTAGAGA---C-TA--AAGGGGGTACTG-TTCCTT-T----TTTG--GCCCGCA--GTA-TT-TTG-ATTACCA-GC-AATC-AGGCCCC-CCAGGA---ATGGTACTCC--T-CA-A-------C-TGC-TG-TCCCAGCTGTAGAAG-CTCTCTATCGG--AG--G-ATTACTACTT-TGCAAT-TTTGGAAGACTGCTG-GAGAACAATCCACGGAGG-T-ACCCGA-A-GGC---CGATTTG-AA-G-CAGTGGACCCACCCTGT-GC--CCTTTTCCCATATAAAATAAATTACTGAGTCTTTT-----TTG------TTAT-CA--CAT-C-GTAATG-G--T-T-TT-TAT-TT-T-TAT--T-TA-T---T-T-AG---AGG---GTCTTTTA---G-GAT-AAATTCTCTG--AATTGT-ACAT-AA-AT---AGTCAG----CCTT-ACCAC---AT----A-ATT-TTGGGCTGTGGCTGCATT-TTGGAGC-GCATA-G--CCGAGGCCTGTGTGCTCGACA-TTGGT-G-TG-GGTAT-TTA-A--A-T--GGAGCCAC-AG-CTGGTTTCTTTTATTATTTGGGTGGAACCAATCA-ATTG--TTT-GGTCC--AG-CTCAGGT-TTGGGGGTGAAGTA-CC-TGGAG--TGG--TAGGTAAAGGGCTGCCT--TA--TGGT-GT-G--GCGGG-AGGAGTAGTTAATATAGGGGTCATAGGCCAAGTTGGTGGAGGGGG-TTACAAA-GTTG--G-CATCCAAGATAACAACAGT-G--GA--C--CC----A-ACACCTCTTT-G-ATTAG--A-G-GT-GA-TGGGGTCTC-TGG--GGTAAAATTCAT-ATTTAGCCTTTCTAATA-C-G-GTA-G-T-ATT-GGAAAGGTAGGGGT-AG--GG--G--GT-TGGTGC-CGC----CT-G-A----G--GG-G-----G--G-----G-AG---GAAC-TG---G---C-C-GATG-T--TG-AATT----TGAG-GTA-G-T--TAAC-A-T---T-CCA--A-GATGG-CTG-CG-A----GTATCCTCCTTTTATGGTGAG---TACAAATTCTGTA--GA-A-AGGCG---G-GA-ATT-GA--AGA----TACC-C-GTCT--T-T--CG---GC--G--CC--AT-CTG--TA--ACG-GT-TT-C-TGAAG-GC---GG-G---GTGT-GCCAAATATG-GTCTT--CTC-C-G--G-AGG-AT--GTTTCCAAGATGGCT--GCGG-G---G-GCGGGT-C-CTTC-TTCT--GC-G-GT---A--AC-GCCTCC--T--T----GGCCAC-G-TCATC--CTAT-A-------AA--AGTGAA---A----GA-A-GT---GCGCTGCT-GTAGTAT-T...\n",
      "\n",
      "🦠 4. PP795591.1\n",
      "   • Identidad con NC_001792.1: 64.35%\n",
      "   • Longitud: 1746 nt\n",
      "   • Mejor alineamiento:\n",
      "ACCAGCGCACTTCGG-CAGCGGCAGCACCTCGGCAGCGTCAGTGAAAATGCCAAGCAAGAAAA-GCGGCCCGCAACCCCAT-A-AGAGGTGGGTGTTC--ACCCT-T-AAT-AATCCTTCCGAGGAGG-AGAAAAACA-A--AATAC-GG---GA--GCT-TCCA-ATC-TCCCT-----TT-T-TGATTAT-T---TTG-TT-TGCGG-AGAG-GAAGGTTTGGAAGA--G-GGTAGAACTCCTCA-C-CTC--CAGG-GGT-TTGCG--AATTTTGCTAAGAAGCA-GACTTTT-AAC-A--AGGT-GAAGTG---GTATT--TT----GG-T----GCCCGCTGCCACATCG-AGAAAG----CGAAAGGAACCGAC---C--A-GC---AGAATAA-AGAA-TACT-G-CAGTAAAGAAG-GCCACATACTTA-T-C--G-AG-TGTGGA-GCTCCGC--G-GAACCAGGGGAAGCGCAGC---GACCTGTCT-ACTGCTG-TGA-G-TA--C---CCTTTT-GGAG-A-CGG-GGTCT---TTGGTGA--CT-G-TAGCCG-AGCAG--TTC--CCTGTAACGTATGTGA-GAAATTT--CCG-C--GGGC-TGGCTG--AA----CT-T-TTGAAA-GTGA--GC-GG---GAAGATGCAGCAGC--GT-GA--TTGGAAGACA-GCT-GTAC-AC-GTCA-TA-G-T-GGGCCCGC-CC-GGTTG-TGGG-AAGAGCCAGTGGGCCCGTA-AT-TT--TGC-TGA---GCCTAG--GGACAC---CT----ACT-GGAA---GC-CTAGTAGAAATAAG--T-GGTGGGAT-GGATATCATGGA-GAAG--A--AGT-TG-TTGT-TTTGGATGAT-TTTTATGGCTGG-TTACCTTGG-GATGAT-CTAC-TGAGACTG-T--GTGACC--GGTATCCATTGAC-TGTAGAGAC-T----A--AAGGGGGTACTG-TTCCTT-T----TTTG--GCCCGCA--GTATT-TTGATT-A-C-CA-GC-AATC-AGGCCCC-CC--AGGAA-TGGTACT---C-C------TCA-AC-TGC-TG-TCCCAGCTGTAGAAG-CTCTCTATCGG--AG--G-ATTACTACTT-TGCAAT-TTTGGAAGACTGCTG-GAGAACAATCCACGGAGG-T-ACCCGA-A-GGC---CGATTTG-AA-G-CAGTGGACCCAC--C-CTGTGCCCTTTTCCCATA-------TAAAATAAA-------TTA-CTGAGTCTTTTTTGTTAT-CAC-AT-CGTAA--TG-GTT-T--TTA--T-T--T-T-T--ATT-T-ATTT---AG-AGG-GTCTTTTAG--GAT-A-AATTCT-CTG--AATTGT-ACAT-AA-AT---AGTCAG----CCTT-ACCAC---AT----A-ATT-TTGGGCTGTGGCTGCATT-TTGGAGC-GCATA-G--CCGAGGCCTGTGTGCTCGACA-TTGGT-G-TG-GGTAT-TTA-A--A-T--GGAGCCAC-AG-CTGGTTTCTTTTATTATTTGGGTGGAACCAATCA-ATTGTTTGGTCC--AG--CTCAG-G-T-TTGGGGG-TGAAGTA-CC-TGGAG--TGG--TAGGTAAAGGGCTGCCT--TA--TGGT-GT-G--GCGGG-AGGAGTAGTTAATATAGGGGTCAT--AGG-C--CAA-GTTGGTGGAGGGG-GT--T-A-CAAAGT-T--G--GCAT-CCAAGATAACAACAGTG-GACCCAACACCTCTTTG-ATTAG--AGGTGATGG-GGTCTCTGGGGTAAAAT-T--CATA---TT--TAGCCTTTCTAATA-C-G-GTA-G-T-ATT-GGAAAGGTAGGGGT-A--GG--G--G--GT--TGG---TGCC--GC--C-TGAG-GG-G-----G--G-----G-AG---GAAC-TG---G---C-C-GATG-T--TG-AATT----TGAG-GTA-G-T--TAAC-A-T---T-CCA--A-GATGG-CTG-CGA-----GTATCCTCCTTTTATGGTGAG---TACAAATTCTGTA--GA-A-AGGCG---G-GA-ATT-GA--AGA----TACC-C-GTCT--T-T--CG---GC--G--CC--AT-CTG--TA--ACG-GT-TT-C-TGAAG-GC---GG-G---GTGT-GCCAAATATG-GTCTT--CTC-C-G--G-AGG-AT--GTTTCCAAGATGGCT--GCGG-G---G-GCGGGT-C-CTTC-TTCT--GC-G-GT---A--AC-GCCTCC--T--T----GGCCAC-G-TCATC--CTAT-A-------AA--AGTGAA---A----GA-A-GT---GCGCTGCT-GTAGTAT-T...\n",
      "\n",
      "🦠 5. PP795590.1\n",
      "   • Identidad con NC_001792.1: 64.13%\n",
      "   • Longitud: 1746 nt\n",
      "   • Mejor alineamiento:\n",
      "ACCAGCGCACTTCGG-CAGCGGCAGCACCTCGGCAGCGTCAGTGAAAATGCCAAGCAAGAAAA-GCGGCCCGCAACCCCAT-A-AGAGGTGGGTGTTC--ACCCT-T-AAT-AATCCTTCCGAGGAGG-AGAAAAACA-A--AATAC-GG---GA--GCT-TCCA-ATC-TCCCT-----TT-T-TGATTAT-T---TTG-TT-TGCGG-AGAG-GAAGGTTTGGAAGAGGGTAGAAC--T-CCTCAC-CT-C---CAGG-GGT-TTGCG--AATTTTGCTAAGAAGCA-GACTTTT-AAC-A--AGGT-GAAGTG---GTATT--TT----GG-T----GCCCGCTGCCACATCG-AGAAAG----CGAAAGGAACCGAC---C--A-GC---AGAATAA-AGAA-TACT-G-CAGTAAAGAAG-GCCACATACTTA-T-C--G-AG-TGTGGA-GCTCCGC--G-GAACCAGGGGAAGCGCAGC---GACCTGTCT-ACTGCTG-TGA-G-TACC--C--TT-TT-GGAG-A-CGG-GGTCT---TTGGTGA--CT-G-TAGCCG-AGCAG--TTC--CCTGTAACGTATGTGA-GAAATTT--CCG-C--GGGC-TGGCTG--AA----CT-T-TTGAAA-GTGA--GC-GG---GAAGATGCAGCAGC--GT-GA--TTGGAAGACA-GCT-GTAC-AC-GTCA-TA-G-T-GGGCCCGC-CC-GGTTG-TGGG-AAGAGCCAGTGGGCCCGTA-AT-TT--TGC-TGA---GCCTAG--GGACAC---CT----ACT-GGAA---GC-CTAGTAGAAATAAG--T-GGTGGGAT-GGATATCATGGA-GAAG--A--AGT-TG-TTGT-TTTGGATGAT-TTTTATGGCT-GG-TTACCTTGG-GATGAT-CTACT-GAGACTG-T--GTGACC--GGTATCCATTGAC-TGTAGAGAC-T----A--AAGGGGGTACTG-TTCCTT-T----TTTG--GCCCGCA--GTATT-TTGATT-A-C-CA-GC-AATC-AGGCCCC-CC--AGGAA-T-GGTACTCC--T-CA-A-------C-TGC-TG-TCCCAGCTGTAGAAG-CTCTCTATCGG--AG--G-ATTACTACTT-TGCAAT-TTTGGAA-GA-CTG-CTGGAGAAC----AATCCACGGA-GGTACC-CGA--A--GGCCGATTTGAAG---CAGTGGA-CCCACCCTGTGCCCTTTTCCC---ATATAAAA-----TAAA-TTA-CTGAGTCTTTTTTGTTAT-CAC-AT-CGTAA--TG-GTT-T--TTA--T-T--T-T-T--ATT--TATTTAG---AGGGTC---TTTT-AG--G--ATAAATTCT-CTG--AATTGT-ACAT-AA-ATAG---TCAG----CCTT-ACCAC---AT----A-ATT-TTGGGCTGTGGCTGCAT-TTTGGAGC-GCATA-G--CCGAGGCCTGTGTGCTCGACA-TTGGT-G-TG-GGTAT-TTA-A--A-T--GGAGCCAC-AG-CTGGTTTCTTTTATTATTTGGGTGGAACCAATCA-ATTG--TTTGGT-CC--AG--CTCAGGTT-TGGGG-GTG--AAGTACCTGGAG-TGG--TAGGTAAAGGGCTGCCTTA-TGGTG-TGGCGGGAG-GAGTAGTTAA-TATAGGGGTCATA-GGCCAAGTTGGTG---G-AGGGGGT-TA-CAAAGTTG--G-CATC--C-AAGATAACAAC--AGTG--GACC-CAAC-A-CCTCTTT---G-ATTAG--AGGTGATGG-GGTCTCTGGGGTAAAAT-T--CA--TATT--TAGCCTTTCTAATA-C-G-GTA-G-T-ATT-GGAAAGGTAGGGGT-AGGG--GGT-TG--G-TG-C-CGC----CT-G-A----G--GG-G-----G--G-----G-AG---GAAC-TG---G---C-C-GATG-T--TG-AATT----TGAG-GTA-G-T--TAAC-A-T---T-CCA--A-GATGG-CTG-CGAGTATCCTCCTTT--TAT--G-GTGAG----TACAAATTCTGTA--GA-A-AGGCG---G-GA-ATT-GA--AG-A---TACC-C-GTCT--T-T--CG---GC--G--CC--AT-CTG--TA--ACG-GT-TT-C-TGAAG-GC---GG-G---GTGT-GCCAAATATG-GTCTT--CTC-C-G--G-AGG-AT--GTTTCCAAGATGGCT--GCGG-G---G-GCGGGT-C-CTTC-TT-CTGC-G-GT---A--AC-GCCTCC--T--T----GGCCAC-G-TCATCCTA--TA-A-------AAG---TGAA---A----GA-A-GTG-C-GCTGC-T-GTAGTAT-T...\n",
      "\n"
     ]
    }
   ],
   "source": [
    "from Bio import SeqIO\n",
    "from Bio import pairwise2\n",
    "from Bio.pairwise2 import format_alignment\n",
    "\n",
    "# 1. Cargar la secuencia de referencia (Circovirus.fasta)\n",
    "ref_seq = next(SeqIO.parse(\"Circovirus.fasta\", \"fasta\"))\n",
    "print(f\"\\n🔬 Referencia: {ref_seq.id} ({len(ref_seq)} nt)\\n\")\n",
    "\n",
    "# 2. Cargar las secuencias descargadas (virus_*.fasta)\n",
    "import glob\n",
    "target_files = glob.glob(\"virus_*.fasta\")\n",
    "\n",
    "for i, file in enumerate(target_files, start=1):\n",
    "    target_seq = next(SeqIO.parse(file, \"fasta\"))\n",
    "    \n",
    "    # 3. Alineamiento global (método XX: match=+1, mismatch=0)\n",
    "    alignments = pairwise2.align.globalxx(ref_seq.seq, target_seq.seq)\n",
    "    \n",
    "    # 4. Calcular identidad (%)\n",
    "    best_alignment = alignments[0]  # Tomar el mejor alineamiento\n",
    "    score = best_alignment.score\n",
    "    length = max(len(ref_seq), len(target_seq))\n",
    "    identity = (score / length) * 100\n",
    "    \n",
    "    # 5. Resultados\n",
    "    print(f\"🦠 {i}. {target_seq.id}\")\n",
    "    print(f\"   • Identidad con {ref_seq.id}: {identity:.2f}%\")\n",
    "    print(f\"   • Longitud: {len(target_seq)} nt\")\n",
    "    print(\"   • Mejor alineamiento:\")\n",
    "    print(format_alignment(*best_alignment, full_sequences=True).split(\"\\n\")[0] + \"...\\n\")"
   ]
  },
  {
   "cell_type": "code",
   "execution_count": 2,
   "id": "982098ef",
   "metadata": {},
   "outputs": [
    {
     "name": "stdout",
     "output_type": "stream",
     "text": [
      "\n",
      "🔍 Referencia: NC_001792.1 (1759 nucleótidos)\n",
      "\n",
      "🐱 Virus 1 (PP795594.1)\n",
      "   • Archivo: virus_1_Cat_associated_circovirus_1_st.fasta\n",
      "   • Identidad con referencia: 64.64%\n",
      "   • Longitud: 1746 nt\n",
      "   • Fragmento alineado:\n",
      "      ACCAGCGCACTTCGG-CAGCGGCAGCACCTCGGCAGCGTCAGTGAAAATG...\n",
      "------------------------------------------------------------\n",
      "🐱 Virus 2 (PP795593.1)\n",
      "   • Archivo: virus_2_Cat_associated_circovirus_1_st.fasta\n",
      "   • Identidad con referencia: 64.41%\n",
      "   • Longitud: 1746 nt\n",
      "   • Fragmento alineado:\n",
      "      ACCAGCGCACTTCGG-CAGCGGCAGCACCTCGGCAGCGTCAGTGAAAATG...\n",
      "------------------------------------------------------------\n",
      "🐱 Virus 3 (PP795592.1)\n",
      "   • Archivo: virus_3_Cat_associated_circovirus_1_st.fasta\n",
      "   • Identidad con referencia: 64.47%\n",
      "   • Longitud: 1746 nt\n",
      "   • Fragmento alineado:\n",
      "      ACCAGCGCACTTCGG-CAGCGGCAGCACCTCGGCAGCGTCAGTGAAAATG...\n",
      "------------------------------------------------------------\n",
      "🐱 Virus 4 (PP795591.1)\n",
      "   • Archivo: virus_4_Cat_associated_circovirus_1_st.fasta\n",
      "   • Identidad con referencia: 64.35%\n",
      "   • Longitud: 1746 nt\n",
      "   • Fragmento alineado:\n",
      "      ACCAGCGCACTTCGG-CAGCGGCAGCACCTCGGCAGCGTCAGTGAAAATG...\n",
      "------------------------------------------------------------\n",
      "🐱 Virus 5 (PP795590.1)\n",
      "   • Archivo: virus_5_Cat_associated_circovirus_1_st.fasta\n",
      "   • Identidad con referencia: 64.13%\n",
      "   • Longitud: 1746 nt\n",
      "   • Fragmento alineado:\n",
      "      ACCAGCGCACTTCGG-CAGCGGCAGCACCTCGGCAGCGTCAGTGAAAATG...\n",
      "------------------------------------------------------------\n",
      "\n",
      "✅ Comparación completada\n"
     ]
    }
   ],
   "source": [
    "from Bio import SeqIO\n",
    "from Bio import pairwise2\n",
    "from Bio.pairwise2 import format_alignment\n",
    "import glob\n",
    "\n",
    "# 1. Cargar la secuencia de referencia\n",
    "ref_seq = next(SeqIO.parse(\"Circovirus.fasta\", \"fasta\"))\n",
    "print(f\"\\n🔍 Referencia: {ref_seq.id} ({len(ref_seq.seq)} nucleótidos)\\n\")\n",
    "\n",
    "# 2. Listar todos los archivos de virus felinos\n",
    "virus_files = sorted(glob.glob(\"virus_*_Cat_associated_circovirus_*_st.fasta\"))\n",
    "\n",
    "# 3. Comparar cada virus con la referencia\n",
    "for i, virus_file in enumerate(virus_files, 1):\n",
    "    try:\n",
    "        # Cargar el virus actual\n",
    "        virus_seq = next(SeqIO.parse(virus_file, \"fasta\"))\n",
    "        \n",
    "        # Extraer nombre descriptivo\n",
    "        virus_name = f\"Virus {i} ({virus_seq.id})\"\n",
    "        \n",
    "        # Realizar alineamiento global\n",
    "        alignments = pairwise2.align.globalxx(ref_seq.seq, virus_seq.seq)\n",
    "        best_alignment = alignments[0]\n",
    "        \n",
    "        # Calcular porcentaje de identidad\n",
    "        score = best_alignment.score\n",
    "        length = max(len(ref_seq.seq), len(virus_seq.seq))\n",
    "        identity = (score / length) * 100\n",
    "        \n",
    "        # Mostrar resultados\n",
    "        print(f\"🐱 {virus_name}\")\n",
    "        print(f\"   • Archivo: {virus_file}\")\n",
    "        print(f\"   • Identidad con referencia: {identity:.2f}%\")\n",
    "        print(f\"   • Longitud: {len(virus_seq.seq)} nt\")\n",
    "        print(\"   • Fragmento alineado:\")\n",
    "        print(\"      \" + format_alignment(*best_alignment).split(\"\\n\")[0][:50] + \"...\")\n",
    "        print(\"-\"*60)\n",
    "        \n",
    "    except Exception as e:\n",
    "        print(f\"⚠️ Error procesando {virus_file}: {str(e)}\")\n",
    "        print(\"-\"*60)\n",
    "\n",
    "print(\"\\n✅ Comparación completada\")"
   ]
  },
  {
   "cell_type": "code",
   "execution_count": 3,
   "id": "bac7822c",
   "metadata": {},
   "outputs": [
    {
     "name": "stdout",
     "output_type": "stream",
     "text": [
      "Se combinaron 6 archivos en todos_los_circovirus.fasta\n"
     ]
    }
   ],
   "source": [
    "import glob\n",
    "import os\n",
    "\n",
    "# Lista de archivos FASTA (virus_1, virus_2, ..., Circovirus.fasta)\n",
    "archivos_virus = glob.glob(\"virus_*_Cat_associated_circovirus_1_st.fasta\")\n",
    "archivos_virus.append(\"Circovirus.fasta\")  # Añadir el archivo principal\n",
    "\n",
    "# Archivo de salida combinado\n",
    "archivo_combinado = \"todos_los_circovirus.fasta\"\n",
    "\n",
    "# Combinar todos los archivos FASTA\n",
    "with open(archivo_combinado, \"w\") as outfile:\n",
    "    for fasta in archivos_virus:\n",
    "        with open(fasta) as infile:\n",
    "            outfile.write(infile.read())\n",
    "\n",
    "print(f\"Se combinaron {len(archivos_virus)} archivos en {archivo_combinado}\")"
   ]
  },
  {
   "cell_type": "code",
   "execution_count": 4,
   "id": "6199973f",
   "metadata": {},
   "outputs": [
    {
     "name": "stdout",
     "output_type": "stream",
     "text": [
      "¡Base de datos BLAST creada!\n"
     ]
    }
   ],
   "source": [
    "from subprocess import run\n",
    "\n",
    "# Crear DB BLAST\n",
    "run([\n",
    "    \"makeblastdb\",\n",
    "    \"-in\", archivo_combinado,  # Archivo combinado\n",
    "    \"-dbtype\", \"nucl\",         # Tipo: nucl (ADN) o prot (proteínas)\n",
    "    \"-out\", \"db_circovirus\",   # Nombre de la DB\n",
    "    \"-parse_seqids\"            # Permite usar IDs de secuencia\n",
    "])\n",
    "\n",
    "print(\"¡Base de datos BLAST creada!\")"
   ]
  },
  {
   "cell_type": "code",
   "execution_count": 5,
   "id": "91dce974",
   "metadata": {},
   "outputs": [
    {
     "name": "stdout",
     "output_type": "stream",
     "text": [
      "¡Búsqueda BLAST completada! Ver resultados_blast.txt\n"
     ]
    }
   ],
   "source": [
    "# Ejemplo: Buscar virus_1 contra la DB\n",
    "run([\n",
    "    \"blastn\",\n",
    "    \"-query\", \"virus_1_Cat_associated_circovirus_1_st.fasta\",  # Secuencia a buscar\n",
    "    \"-db\", \"db_circovirus\",      # Base de datos creada\n",
    "    \"-out\", \"resultados_blast.txt\",  # Resultados\n",
    "    \"-outfmt\", \"6\",              # Formato tabular (simple)\n",
    "    \"-evalue\", \"1e-10\"          # Umbral de significancia\n",
    "])\n",
    "\n",
    "print(\"¡Búsqueda BLAST completada! Ver resultados_blast.txt\")"
   ]
  },
  {
   "cell_type": "code",
   "execution_count": 6,
   "id": "41cceda3",
   "metadata": {},
   "outputs": [
    {
     "name": "stdout",
     "output_type": "stream",
     "text": [
      "Archivos de la base de datos:\n",
      "- db_circovirus.ndb (Tamaño: 500000 bytes)\n",
      "- db_circovirus.nhr (Tamaño: 719 bytes)\n",
      "- db_circovirus.nin (Tamaño: 192 bytes)\n",
      "- db_circovirus.nog (Tamaño: 56 bytes)\n",
      "- db_circovirus.nos (Tamaño: 123 bytes)\n",
      "- db_circovirus.not (Tamaño: 80 bytes)\n",
      "- db_circovirus.nsq (Tamaño: 2626 bytes)\n",
      "- db_circovirus.ntf (Tamaño: 500000 bytes)\n",
      "- db_circovirus.nto (Tamaño: 28 bytes)\n"
     ]
    }
   ],
   "source": [
    "import os\n",
    "\n",
    "# Nombre de tu base de datos (sin extensión)\n",
    "db_name = \"db_circovirus\"\n",
    "\n",
    "# Verificar archivos generados\n",
    "archivos_db = [f for f in os.listdir() if f.startswith(db_name)]\n",
    "print(\"Archivos de la base de datos:\")\n",
    "for archivo in archivos_db:\n",
    "    print(f\"- {archivo} (Tamaño: {os.path.getsize(archivo)} bytes)\")"
   ]
  },
  {
   "cell_type": "code",
   "execution_count": 1,
   "id": "842d0eb9",
   "metadata": {},
   "outputs": [],
   "source": [
    "import subprocess\n",
    "import os\n",
    "import pandas as pd\n",
    "\n",
    "#from taom import toda\n",
    "\n",
    "def crear_blast_db(path_fna):\n",
    "    db_name=path_fna\n",
    "    if not os.path.exists(path_fna+\".nin\"):\n",
    "        subprocess.run([\"C:\\\\Program Files\\\\NCBI\\\\blast-2.16.6+\\\\bin\\\\makeblastdb\", \"-in\", path_fna, \"-dbtype\", \"nucl\", \"-out\", path_fna])"
   ]
  },
  {
   "cell_type": "code",
   "execution_count": null,
   "id": "5d3488d4",
   "metadata": {},
   "outputs": [],
   "source": []
  }
 ],
 "metadata": {
  "kernelspec": {
   "display_name": "bioinformatica_py",
   "language": "python",
   "name": "python3"
  },
  "language_info": {
   "codemirror_mode": {
    "name": "ipython",
    "version": 3
   },
   "file_extension": ".py",
   "mimetype": "text/x-python",
   "name": "python",
   "nbconvert_exporter": "python",
   "pygments_lexer": "ipython3",
   "version": "3.12.9"
  }
 },
 "nbformat": 4,
 "nbformat_minor": 5
}
